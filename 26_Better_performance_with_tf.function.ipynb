{
 "cells": [
  {
   "cell_type": "markdown",
   "metadata": {},
   "source": [
    "# Better performance with tf.function"
   ]
  },
  {
   "cell_type": "markdown",
   "metadata": {},
   "source": [
    "In TensorFlow 2.0, eager execution is turned on by default. The user interface is intuitive and flexible (running one-off operations is much easier and faster), but this can come at the expense of performance and deployability.\n",
    "\n",
    "To get peak performance and to make your model deployable anywhere, use tf.function to make graphs out of your programs. Thanks to AutoGraph, a surprising amount of Python code just works with tf.function, but there are still pitfalls to be wary of.\n",
    "\n",
    "The main takeaways and recommendations are:\n",
    "\n",
    "* Don't rely on Python side effects like object mutation or list appends.\n",
    "* tf.function works best with TensorFlow ops, rather than NumPy ops or Python primitives.\n",
    "* When in doubt, use the for x in y idiom."
   ]
  },
  {
   "cell_type": "markdown",
   "metadata": {},
   "source": [
    "## Setup"
   ]
  },
  {
   "cell_type": "code",
   "execution_count": 1,
   "metadata": {},
   "outputs": [],
   "source": [
    "from __future__ import absolute_import, division, print_function, unicode_literals\n",
    "\n",
    "import tensorflow as tf"
   ]
  },
  {
   "cell_type": "markdown",
   "metadata": {},
   "source": [
    "Define a helper function to demonstrate the kinds of errors you might encounter:"
   ]
  },
  {
   "cell_type": "code",
   "execution_count": 2,
   "metadata": {},
   "outputs": [],
   "source": [
    "import traceback\n",
    "import contextlib\n",
    "\n",
    "# Some helper code to demonstrate the kinds of errors you might encounter.\n",
    "@contextlib.contextmanager\n",
    "def assert_raises(error_class):\n",
    "  try:\n",
    "    yield\n",
    "  except error_class as e:\n",
    "    print('Caught expected exception \\n  {}:'.format(error_class))\n",
    "    traceback.print_exc(limit=2)\n",
    "  except Exception as e:\n",
    "    raise e\n",
    "  else:\n",
    "    raise Exception('Expected {} to be raised but no error was raised!'.format(\n",
    "        error_class))"
   ]
  },
  {
   "cell_type": "markdown",
   "metadata": {},
   "source": [
    "## Basics"
   ]
  },
  {
   "cell_type": "markdown",
   "metadata": {},
   "source": [
    "A tf.function you define is just like a core TensorFlow operation: You can execute it eagerly; you can use it in a graph; it has gradients; and so on."
   ]
  },
  {
   "cell_type": "code",
   "execution_count": 3,
   "metadata": {},
   "outputs": [
    {
     "data": {
      "text/plain": [
       "<tf.Tensor: shape=(2, 2), dtype=float32, numpy=\n",
       "array([[2., 2.],\n",
       "       [2., 2.]], dtype=float32)>"
      ]
     },
     "execution_count": 3,
     "metadata": {},
     "output_type": "execute_result"
    }
   ],
   "source": [
    "@tf.function\n",
    "def add(a, b):\n",
    "  return a + b\n",
    "\n",
    "add(tf.ones([2, 2]), tf.ones([2, 2]))  #  [[2., 2.], [2., 2.]]"
   ]
  },
  {
   "cell_type": "code",
   "execution_count": 4,
   "metadata": {},
   "outputs": [
    {
     "data": {
      "text/plain": [
       "<tf.Tensor: shape=(), dtype=float32, numpy=1.0>"
      ]
     },
     "execution_count": 4,
     "metadata": {},
     "output_type": "execute_result"
    }
   ],
   "source": [
    "v = tf.Variable(1.0)\n",
    "with tf.GradientTape() as tape:\n",
    "  result = add(v, 1.0)\n",
    "tape.gradient(result, v)"
   ]
  },
  {
   "cell_type": "markdown",
   "metadata": {},
   "source": [
    "You can use functions inside functions"
   ]
  },
  {
   "cell_type": "code",
   "execution_count": 5,
   "metadata": {},
   "outputs": [
    {
     "data": {
      "text/plain": [
       "<tf.Tensor: shape=(3, 2), dtype=float32, numpy=\n",
       "array([[3., 3.],\n",
       "       [3., 3.],\n",
       "       [3., 3.]], dtype=float32)>"
      ]
     },
     "execution_count": 5,
     "metadata": {},
     "output_type": "execute_result"
    }
   ],
   "source": [
    "@tf.function\n",
    "def dense_layer(x, w, b):\n",
    "  return add(tf.matmul(x, w), b)\n",
    "\n",
    "dense_layer(tf.ones([3, 2]), tf.ones([2, 2]), tf.ones([2]))"
   ]
  },
  {
   "cell_type": "markdown",
   "metadata": {},
   "source": [
    "## Tracing and polymorphism"
   ]
  },
  {
   "cell_type": "markdown",
   "metadata": {},
   "source": [
    "Python's dynamic typing means that you can call functions with a variety of argument types, and Python will do something different in each scenario.\n",
    "\n",
    "On the other hand, TensorFlow graphs require static dtypes and shape dimensions. tf.function bridges this gap by retracing the function when necessary to generate the correct graphs. Most of the subtlety of tf.function usage stems from this retracing behavior.\n",
    "\n",
    "You can call a function with arguments of different types to see what is happening."
   ]
  },
  {
   "cell_type": "code",
   "execution_count": 6,
   "metadata": {},
   "outputs": [
    {
     "name": "stdout",
     "output_type": "stream",
     "text": [
      "Tracing with Tensor(\"a:0\", shape=(), dtype=int32)\n",
      "tf.Tensor(2, shape=(), dtype=int32)\n",
      "\n",
      "Tracing with Tensor(\"a:0\", shape=(), dtype=float32)\n",
      "tf.Tensor(2.2, shape=(), dtype=float32)\n",
      "\n",
      "Tracing with Tensor(\"a:0\", shape=(), dtype=string)\n",
      "tf.Tensor(b'aa', shape=(), dtype=string)\n",
      "\n"
     ]
    }
   ],
   "source": [
    "# Functions are polymorphic\n",
    "\n",
    "@tf.function\n",
    "def double(a):\n",
    "  print(\"Tracing with\", a)\n",
    "  return a + a\n",
    "\n",
    "print(double(tf.constant(1)))\n",
    "print()\n",
    "print(double(tf.constant(1.1)))\n",
    "print()\n",
    "print(double(tf.constant(\"a\")))\n",
    "print()\n"
   ]
  },
  {
   "cell_type": "markdown",
   "metadata": {},
   "source": [
    "To control the tracing behavior, use the following techniques:\n",
    "\n",
    "* Create a new tf.function. Separate tf.function objects are guaranteed not to share traces.\n",
    "* Use the get_concrete_function method to get a specific trace\n",
    "* Specify input_signature when calling tf.function to trace only once per calling graph."
   ]
  },
  {
   "cell_type": "code",
   "execution_count": 7,
   "metadata": {},
   "outputs": [
    {
     "name": "stdout",
     "output_type": "stream",
     "text": [
      "Obtaining concrete trace\n",
      "Tracing with Tensor(\"a:0\", dtype=string)\n",
      "Executing traced function\n",
      "tf.Tensor(b'aa', shape=(), dtype=string)\n",
      "tf.Tensor(b'bb', shape=(), dtype=string)\n",
      "Using a concrete trace with incompatible types will throw an error\n",
      "Caught expected exception \n",
      "  <class 'tensorflow.python.framework.errors_impl.InvalidArgumentError'>:\n"
     ]
    },
    {
     "name": "stderr",
     "output_type": "stream",
     "text": [
      "Traceback (most recent call last):\n",
      "  File \"<ipython-input-2-73d0ca52e838>\", line 8, in assert_raises\n",
      "    yield\n",
      "  File \"<ipython-input-7-5351d0a2eda2>\", line 8, in <module>\n",
      "    double_strings(tf.constant(1))\n",
      "tensorflow.python.framework.errors_impl.InvalidArgumentError: cannot compute __inference_double_87 as input #0(zero-based) was expected to be a string tensor but is a int32 tensor [Op:__inference_double_87]\n"
     ]
    }
   ],
   "source": [
    "print(\"Obtaining concrete trace\")\n",
    "double_strings = double.get_concrete_function(tf.TensorSpec(shape=None, dtype=tf.string))\n",
    "print(\"Executing traced function\")\n",
    "print(double_strings(tf.constant(\"a\")))\n",
    "print(double_strings(a=tf.constant(\"b\")))\n",
    "print(\"Using a concrete trace with incompatible types will throw an error\")\n",
    "with assert_raises(tf.errors.InvalidArgumentError):\n",
    "  double_strings(tf.constant(1))"
   ]
  },
  {
   "cell_type": "code",
   "execution_count": 8,
   "metadata": {},
   "outputs": [
    {
     "name": "stdout",
     "output_type": "stream",
     "text": [
      "Tracing with Tensor(\"x:0\", shape=(None,), dtype=int32)\n",
      "tf.Tensor([4 1], shape=(2,), dtype=int32)\n",
      "Caught expected exception \n",
      "  <class 'ValueError'>:\n"
     ]
    },
    {
     "name": "stderr",
     "output_type": "stream",
     "text": [
      "Traceback (most recent call last):\n",
      "  File \"<ipython-input-2-73d0ca52e838>\", line 8, in assert_raises\n",
      "    yield\n",
      "  File \"<ipython-input-8-9939c82c1507>\", line 9, in <module>\n",
      "    next_collatz(tf.constant([[1, 2], [3, 4]]))\n",
      "ValueError: Python inputs incompatible with input_signature:\n",
      "  inputs: (\n",
      "    tf.Tensor(\n",
      "[[1 2]\n",
      " [3 4]], shape=(2, 2), dtype=int32))\n",
      "  input_signature: (\n",
      "    TensorSpec(shape=(None,), dtype=tf.int32, name=None))\n"
     ]
    }
   ],
   "source": [
    "@tf.function(input_signature=(tf.TensorSpec(shape=[None], dtype=tf.int32),))\n",
    "def next_collatz(x):\n",
    "  print(\"Tracing with\", x)\n",
    "  return tf.where(x % 2 == 0, x // 2, 3 * x + 1)\n",
    "\n",
    "print(next_collatz(tf.constant([1, 2])))\n",
    "# We specified a 1-D tensor in the input signature, so this should fail.\n",
    "with assert_raises(ValueError):\n",
    "  next_collatz(tf.constant([[1, 2], [3, 4]]))\n"
   ]
  },
  {
   "cell_type": "markdown",
   "metadata": {},
   "source": [
    "## When to retrace?"
   ]
  },
  {
   "cell_type": "markdown",
   "metadata": {},
   "source": [
    "A polymorphic tf.function keeps a cache of concrete functions generated by tracing. The cache keys are effectively tuples of keys generated from the function args and kwargs. The key generated for a tf.Tensor argument is its number of dimensions and type. The key generated for a Python primitive is its value. For all other Python types, the keys are based on the object id() so that methods are traced independently for each instance of a class. In the future, TensorFlow may add more sophisticated cachi ng for Python objects that can be safely converted to tensors.\n",
    "\n",
    "See Concrete functions"
   ]
  },
  {
   "cell_type": "markdown",
   "metadata": {},
   "source": [
    "## Python or Tensor args?"
   ]
  },
  {
   "cell_type": "markdown",
   "metadata": {},
   "source": [
    "Often, Python arguments are used to control hyperparameters and graph constructions - for example, num_layers=10 or training=True or nonlinearity='relu'. So if the Python argument changes, it makes sense that you'd have to retrace the graph.\n",
    "\n",
    "However, it's possible that a Python argument is not being used to control graph construction. In these cases, a change in the Python value can trigger needless retracing. Take, for example, this training loop, which AutoGraph will dynamically unroll. Despite the multiple traces, the generated graph is actually identical, so this is a bit inefficient."
   ]
  },
  {
   "cell_type": "code",
   "execution_count": 9,
   "metadata": {},
   "outputs": [
    {
     "name": "stdout",
     "output_type": "stream",
     "text": [
      "Tracing with num_steps = 10\n",
      "Tracing with num_steps = 20\n"
     ]
    }
   ],
   "source": [
    "def train_one_step():\n",
    "  pass\n",
    "\n",
    "@tf.function\n",
    "def train(num_steps):\n",
    "  print(\"Tracing with num_steps = {}\".format(num_steps))\n",
    "  for _ in tf.range(num_steps):\n",
    "    train_one_step()\n",
    "\n",
    "train(num_steps=10)\n",
    "train(num_steps=20)\n"
   ]
  },
  {
   "cell_type": "markdown",
   "metadata": {},
   "source": [
    "The simple workaround here is to cast your arguments to Tensors if they do not affect the shape of the generated graph."
   ]
  },
  {
   "cell_type": "code",
   "execution_count": 10,
   "metadata": {},
   "outputs": [
    {
     "name": "stdout",
     "output_type": "stream",
     "text": [
      "Tracing with num_steps = Tensor(\"num_steps:0\", shape=(), dtype=int32)\n"
     ]
    }
   ],
   "source": [
    "train(num_steps=tf.constant(10))\n",
    "train(num_steps=tf.constant(20))"
   ]
  },
  {
   "cell_type": "markdown",
   "metadata": {},
   "source": [
    "## Side effects in tf.function"
   ]
  },
  {
   "cell_type": "markdown",
   "metadata": {},
   "source": [
    "In general, Python side effects (like printing or mutating objects) only happen during tracing. So how can you reliably trigger side effects from tf.function?\n",
    "\n",
    "The general rule of thumb is to only use Python side effects to debug your traces. Otherwise, TensorFlow ops like tf.Variable.assign, tf.print, and tf.summary are the best way to ensure your code will be traced and executed by the TensorFlow runtime with each call. In general using a functional style will yield the best results."
   ]
  },
  {
   "cell_type": "code",
   "execution_count": 11,
   "metadata": {},
   "outputs": [
    {
     "name": "stdout",
     "output_type": "stream",
     "text": [
      "Traced with 1\n",
      "Executed with 1\n",
      "Executed with 1\n",
      "Traced with 2\n",
      "Executed with 2\n"
     ]
    }
   ],
   "source": [
    "@tf.function\n",
    "def f(x):\n",
    "  print(\"Traced with\", x)\n",
    "  tf.print(\"Executed with\", x)\n",
    "\n",
    "f(1)\n",
    "f(1)\n",
    "f(2)\n"
   ]
  },
  {
   "cell_type": "markdown",
   "metadata": {},
   "source": [
    "If you would like to execute Python code during each invocation of a tf.function, tf.py_function is an exit hatch. The drawback of tf.py_function is that it's not portable or particularly performant, nor does it work well in distributed (multi-GPU, TPU) setups. Also, since tf.py_function has to be wired into the graph for differentiability, it casts all inputs/outputs to tensors."
   ]
  },
  {
   "cell_type": "code",
   "execution_count": 12,
   "metadata": {},
   "outputs": [
    {
     "name": "stdout",
     "output_type": "stream",
     "text": [
      "Python side effect\n",
      "Python side effect\n",
      "Python side effect\n"
     ]
    }
   ],
   "source": [
    "external_list = []\n",
    "\n",
    "def side_effect(x):\n",
    "  print('Python side effect')\n",
    "  external_list.append(x)\n",
    "\n",
    "@tf.function\n",
    "def f(x):\n",
    "  tf.py_function(side_effect, inp=[x], Tout=[])\n",
    "\n",
    "f(1)\n",
    "f(1)\n",
    "f(1)\n",
    "assert len(external_list) == 3\n",
    "# .numpy() call required because py_function casts 1 to tf.constant(1)\n",
    "assert external_list[0].numpy() == 1\n"
   ]
  },
  {
   "cell_type": "markdown",
   "metadata": {},
   "source": [
    "## Beware of Python state"
   ]
  },
  {
   "cell_type": "markdown",
   "metadata": {},
   "source": [
    "Many Python features, such as generators and iterators, rely on the Python runtime to keep track of state. In general, while these constructs work as expected in Eager mode, many unexpected things can happen inside a tf.function due to tracing behavior.\n",
    "\n",
    "To give one example, advancing iterator state is a Python side effect and therefore only happens during tracing."
   ]
  },
  {
   "cell_type": "code",
   "execution_count": 13,
   "metadata": {},
   "outputs": [
    {
     "name": "stdout",
     "output_type": "stream",
     "text": [
      "Value of external_var: 0\n",
      "Value of external_var: 0\n",
      "Value of external_var: 0\n"
     ]
    }
   ],
   "source": [
    "external_var = tf.Variable(0)\n",
    "@tf.function\n",
    "def buggy_consume_next(iterator):\n",
    "  external_var.assign_add(next(iterator))\n",
    "  tf.print(\"Value of external_var:\", external_var)\n",
    "\n",
    "iterator = iter([0, 1, 2, 3])\n",
    "buggy_consume_next(iterator)\n",
    "# This reuses the first value from the iterator, rather than consuming the next value.\n",
    "buggy_consume_next(iterator)\n",
    "buggy_consume_next(iterator)\n"
   ]
  },
  {
   "cell_type": "markdown",
   "metadata": {},
   "source": [
    "If an iterator is generated and consumed entirely within the tf.function, then it should work correctly. However, the entire iterator is probably being traced, which can lead to a giant graph. This may be what you want. But if you're training on an large in-memory dataset represented as a Python list, then this can generate a very large graph, and tf.function is unlikely to yield a speedup.\n",
    "\n",
    "If you want to iterate over Python data, the safest way is to wrap it in a tf.data.Dataset and use the for x in y idiom. AutoGraph has special support for safely converting for loops when y is a tensor or tf.data.Dataset."
   ]
  },
  {
   "cell_type": "code",
   "execution_count": 14,
   "metadata": {},
   "outputs": [
    {
     "name": "stdout",
     "output_type": "stream",
     "text": [
      "train([(1, 1), (1, 1)]) contains 8 nodes in its graph\n",
      "train([(1, 1), (1, 1), (1, 1), (1, 1), (1, 1), (1, 1), (1, 1), (1, 1), (1, 1), (1, 1)]) contains 32 nodes in its graph\n",
      "train(<FlatMapDataset shapes: (<unknown>, <unknown>), types: (tf.int32, tf.int32)>) contains 9 nodes in its graph\n",
      "train(<FlatMapDataset shapes: (<unknown>, <unknown>), types: (tf.int32, tf.int32)>) contains 9 nodes in its graph\n"
     ]
    }
   ],
   "source": [
    "def measure_graph_size(f, *args):\n",
    "  g = f.get_concrete_function(*args).graph\n",
    "  print(\"{}({}) contains {} nodes in its graph\".format(\n",
    "      f.__name__, ', '.join(map(str, args)), len(g.as_graph_def().node)))\n",
    "\n",
    "@tf.function\n",
    "def train(dataset):\n",
    "  loss = tf.constant(0)\n",
    "  for x, y in dataset:\n",
    "    loss += tf.abs(y - x) # Some dummy computation.\n",
    "  return loss\n",
    "\n",
    "small_data = [(1, 1)] * 2\n",
    "big_data = [(1, 1)] * 10\n",
    "measure_graph_size(train, small_data)\n",
    "measure_graph_size(train, big_data)\n",
    "\n",
    "measure_graph_size(train, tf.data.Dataset.from_generator(\n",
    "    lambda: small_data, (tf.int32, tf.int32)))\n",
    "measure_graph_size(train, tf.data.Dataset.from_generator(\n",
    "    lambda: big_data, (tf.int32, tf.int32)))"
   ]
  },
  {
   "cell_type": "markdown",
   "metadata": {},
   "source": [
    "When wrapping Python/Numpy data in a Dataset, be mindful of tf.data.Dataset.from_generator versus tf.data.Dataset.from_tensors. The former will keep the data in Python and fetch it via tf.py_function which can have performance implications, whereas the latter will bundle a copy of the data as one large tf.constant() node in the graph, which can have memory implications.\n",
    "\n",
    "Reading data from files via TFRecordDataset/CsvDataset/etc. is the most effective way to consume data, as then TensorFlow itself can manage the asynchronous loading and prefetching of data, without having to involve Python."
   ]
  },
  {
   "cell_type": "markdown",
   "metadata": {},
   "source": [
    "## Automatic Control Dependencies"
   ]
  },
  {
   "cell_type": "markdown",
   "metadata": {},
   "source": [
    "A very appealing property of functions as the programming model, over a general dataflow graph, is that functions can give the runtime more information about what was the intended behavior of the code.\n",
    "\n",
    "For example, when writing code which has multiple reads and writes to the same variables, a dataflow graph might not naturally encode the originally intended order of operations. In tf.function, we resolve ambiguities in execution order by referring to the execution order of statements in the original Python code. This way, ordering of stateful operations in a tf.function replicates the semantics of Eager mode.\n",
    "\n",
    "This means there's no need to add manual control dependencies; tf.function is smart enough to add the minimal set of necessary and sufficient control dependencies for your code to run correctly."
   ]
  },
  {
   "cell_type": "code",
   "execution_count": 15,
   "metadata": {},
   "outputs": [
    {
     "data": {
      "text/plain": [
       "<tf.Tensor: shape=(), dtype=float32, numpy=10.0>"
      ]
     },
     "execution_count": 15,
     "metadata": {},
     "output_type": "execute_result"
    }
   ],
   "source": [
    "# Automatic control dependencies\n",
    "\n",
    "a = tf.Variable(1.0)\n",
    "b = tf.Variable(2.0)\n",
    "\n",
    "@tf.function\n",
    "def f(x, y):\n",
    "  a.assign(y * b)\n",
    "  b.assign_add(x * a)\n",
    "  return a + b\n",
    "\n",
    "f(1.0, 2.0)  # 10.0\n"
   ]
  },
  {
   "cell_type": "markdown",
   "metadata": {},
   "source": [
    "## Variables"
   ]
  },
  {
   "cell_type": "markdown",
   "metadata": {},
   "source": [
    "We can use the same idea of leveraging the intended execution order of the code to make variable creation and utilization very easy in tf.function. There is one very important caveat, though, which is that with variables it's possible to write code which behaves differently in eager mode and graph mode.\n",
    "\n",
    "Specifically, this will happen when you create a new Variable with each call. Due to tracing semantics, tf.function will reuse the same variable each call, but eager mode will create a new variable with each call. To guard against this mistake, tf.function will raise an error if it detects dangerous variable creation behavior."
   ]
  },
  {
   "cell_type": "code",
   "execution_count": 16,
   "metadata": {},
   "outputs": [
    {
     "name": "stdout",
     "output_type": "stream",
     "text": [
      "WARNING:tensorflow:From C:\\ProgramData\\Anaconda3\\envs\\spyder\\lib\\site-packages\\tensorflow_core\\python\\ops\\resource_variable_ops.py:1786: calling BaseResourceVariable.__init__ (from tensorflow.python.ops.resource_variable_ops) with constraint is deprecated and will be removed in a future version.\n",
      "Instructions for updating:\n",
      "If using Keras pass *_constraint arguments to layers.\n",
      "Caught expected exception \n",
      "  <class 'ValueError'>:\n"
     ]
    },
    {
     "name": "stderr",
     "output_type": "stream",
     "text": [
      "Traceback (most recent call last):\n",
      "  File \"<ipython-input-2-73d0ca52e838>\", line 8, in assert_raises\n",
      "    yield\n",
      "  File \"<ipython-input-16-73e410646579>\", line 8, in <module>\n",
      "    f(1.0)\n",
      "ValueError: in converted code:\n",
      "\n",
      "    <ipython-input-16-73e410646579>:3 f  *\n",
      "        v = tf.Variable(1.0)\n",
      "    C:\\ProgramData\\Anaconda3\\envs\\spyder\\lib\\site-packages\\tensorflow_core\\python\\ops\\variables.py:260 __call__\n",
      "        return cls._variable_v2_call(*args, **kwargs)\n",
      "    C:\\ProgramData\\Anaconda3\\envs\\spyder\\lib\\site-packages\\tensorflow_core\\python\\ops\\variables.py:254 _variable_v2_call\n",
      "        shape=shape)\n",
      "    C:\\ProgramData\\Anaconda3\\envs\\spyder\\lib\\site-packages\\tensorflow_core\\python\\ops\\variables.py:65 getter\n",
      "        return captured_getter(captured_previous, **kwargs)\n",
      "    C:\\ProgramData\\Anaconda3\\envs\\spyder\\lib\\site-packages\\tensorflow_core\\python\\eager\\def_function.py:502 invalid_creator_scope\n",
      "        \"tf.function-decorated function tried to create \"\n",
      "\n",
      "    ValueError: tf.function-decorated function tried to create variables on non-first call.\n",
      "\n"
     ]
    }
   ],
   "source": [
    "@tf.function\n",
    "def f(x):\n",
    "  v = tf.Variable(1.0)\n",
    "  v.assign_add(x)\n",
    "  return v\n",
    "\n",
    "with assert_raises(ValueError):\n",
    "  f(1.0)"
   ]
  },
  {
   "cell_type": "markdown",
   "metadata": {},
   "source": [
    "Non-ambiguous code is ok, though."
   ]
  },
  {
   "cell_type": "code",
   "execution_count": 17,
   "metadata": {},
   "outputs": [
    {
     "name": "stdout",
     "output_type": "stream",
     "text": [
      "tf.Tensor(2.0, shape=(), dtype=float32)\n",
      "tf.Tensor(4.0, shape=(), dtype=float32)\n"
     ]
    }
   ],
   "source": [
    "v = tf.Variable(1.0)\n",
    "\n",
    "@tf.function\n",
    "def f(x):\n",
    "  return v.assign_add(x)\n",
    "\n",
    "print(f(1.0))  # 2.0\n",
    "print(f(2.0))  # 4.0\n"
   ]
  },
  {
   "cell_type": "markdown",
   "metadata": {},
   "source": [
    "You can also create variables inside a tf.function as long as we can prove that those variables are created only the first time the function is executed."
   ]
  },
  {
   "cell_type": "code",
   "execution_count": 18,
   "metadata": {},
   "outputs": [
    {
     "name": "stdout",
     "output_type": "stream",
     "text": [
      "tf.Tensor(2.0, shape=(), dtype=float32)\n",
      "tf.Tensor(4.0, shape=(), dtype=float32)\n"
     ]
    }
   ],
   "source": [
    "class C:\n",
    "  pass\n",
    "\n",
    "obj = C()\n",
    "obj.v = None\n",
    "\n",
    "@tf.function\n",
    "def g(x):\n",
    "  if obj.v is None:\n",
    "    obj.v = tf.Variable(1.0)\n",
    "  return obj.v.assign_add(x)\n",
    "\n",
    "print(g(1.0))  # 2.0\n",
    "print(g(2.0))  # 4.0"
   ]
  },
  {
   "cell_type": "markdown",
   "metadata": {},
   "source": [
    "Variable initializers can depend on function arguments and on values of other variables. We can figure out the right initialization order using the same method we use to generate control dependencies."
   ]
  },
  {
   "cell_type": "code",
   "execution_count": 19,
   "metadata": {},
   "outputs": [
    {
     "name": "stdout",
     "output_type": "stream",
     "text": [
      "tf.Tensor(12.0, shape=(), dtype=float32)\n",
      "tf.Tensor(36.0, shape=(), dtype=float32)\n"
     ]
    }
   ],
   "source": [
    "state = []\n",
    "@tf.function\n",
    "def fn(x):\n",
    "  if not state:\n",
    "    state.append(tf.Variable(2.0 * x))\n",
    "    state.append(tf.Variable(state[0] * 3.0))\n",
    "  return state[0] * x * state[1]\n",
    "\n",
    "print(fn(tf.constant(1.0)))\n",
    "print(fn(tf.constant(3.0)))\n"
   ]
  },
  {
   "cell_type": "markdown",
   "metadata": {},
   "source": [
    "## Using AutoGraph"
   ]
  },
  {
   "cell_type": "markdown",
   "metadata": {},
   "source": [
    "The autograph library is fully integrated with tf.function, and it will rewrite conditionals and loops which depend on Tensors to run dynamically in the graph.\n",
    "\n",
    "tf.cond and tf.while_loop continue to work with tf.function, but code with control flow is often easier to write and understand when written in imperative style."
   ]
  },
  {
   "cell_type": "code",
   "execution_count": 20,
   "metadata": {},
   "outputs": [
    {
     "name": "stdout",
     "output_type": "stream",
     "text": [
      "[0.298597932 0.0629018545 0.504001141 0.356087446 0.706617]\n",
      "[0.290029 0.0628190264 0.465258 0.341763109 0.608551]\n",
      "[0.282161474 0.0627365261 0.434359938 0.329050511 0.543106318]\n",
      "[0.27490437 0.0626543462 0.408958524 0.317667365 0.495335728]\n",
      "[0.268182427 0.0625724941 0.387588024 0.307396203 0.458441049]\n",
      "[0.26193276 0.0624909587 0.369279027 0.298066467 0.428812772]\n",
      "[0.256102413 0.0624097399 0.353360921 0.289542168 0.404328674]\n",
      "[0.250646383 0.0623288378 0.339352787 0.281713367 0.383646637]\n",
      "[0.24552618 0.0622482486 0.326899469 0.274490088 0.365870178]\n",
      "[0.240708619 0.0621679723 0.315732062 0.267797887 0.350374132]\n",
      "[0.236164957 0.0620880052 0.305642724 0.261574566 0.336707294]\n",
      "[0.23187013 0.0620083474 0.29646793 0.255767673 0.324534625]\n",
      "[0.227802187 0.061928995 0.288076967 0.250332654 0.313601375]\n",
      "[0.223941788 0.061849948 0.280363888 0.24523133 0.303709835]\n",
      "[0.220271841 0.0617712028 0.273241818 0.240430832 0.294703931]\n",
      "[0.216777146 0.0616927557 0.266638756 0.235902652 0.286458522]\n",
      "[0.213444158 0.0616146065 0.260494411 0.231621921 0.278871983]\n",
      "[0.210260764 0.0615367554 0.254757911 0.227566853 0.271860749]\n",
      "[0.207216084 0.0614592 0.249385923 0.223718241 0.265355408]\n"
     ]
    },
    {
     "data": {
      "text/plain": [
       "<tf.Tensor: shape=(5,), dtype=float32, numpy=\n",
       "array([0.20430031, 0.06138194, 0.24434133, 0.22005913, 0.25929776],\n",
       "      dtype=float32)>"
      ]
     },
     "execution_count": 20,
     "metadata": {},
     "output_type": "execute_result"
    }
   ],
   "source": [
    "# Simple loop\n",
    "\n",
    "@tf.function\n",
    "def f(x):\n",
    "  while tf.reduce_sum(x) > 1:\n",
    "    tf.print(x)\n",
    "    x = tf.tanh(x)\n",
    "  return x\n",
    "\n",
    "f(tf.random.uniform([5]))"
   ]
  },
  {
   "cell_type": "markdown",
   "metadata": {},
   "source": [
    "If you're curious you can inspect the code autograph generates."
   ]
  },
  {
   "cell_type": "code",
   "execution_count": 21,
   "metadata": {},
   "outputs": [
    {
     "name": "stdout",
     "output_type": "stream",
     "text": [
      "def tf__f(x):\n",
      "  do_return = False\n",
      "  retval_ = ag__.UndefinedReturnValue()\n",
      "  with ag__.FunctionScope('f', 'fscope', ag__.ConversionOptions(recursive=True, user_requested=True, optional_features=(), internal_convert_user_code=True)) as fscope:\n",
      "\n",
      "    def get_state():\n",
      "      return ()\n",
      "\n",
      "    def set_state(_):\n",
      "      pass\n",
      "\n",
      "    def loop_body(x):\n",
      "      ag__.converted_call(tf.print, (x,), None, fscope)\n",
      "      x = ag__.converted_call(tf.tanh, (x,), None, fscope)\n",
      "      return x,\n",
      "\n",
      "    def loop_test(x):\n",
      "      return ag__.converted_call(tf.reduce_sum, (x,), None, fscope) > 1\n",
      "    x, = ag__.while_stmt(loop_test, loop_body, get_state, set_state, (x,), ('x',), ())\n",
      "    do_return = True\n",
      "    retval_ = fscope.mark_return_value(x)\n",
      "  do_return,\n",
      "  return ag__.retval(retval_)\n",
      "\n"
     ]
    }
   ],
   "source": [
    "def f(x):\n",
    "  while tf.reduce_sum(x) > 1:\n",
    "    tf.print(x)\n",
    "    x = tf.tanh(x)\n",
    "  return x\n",
    "\n",
    "print(tf.autograph.to_code(f))"
   ]
  },
  {
   "cell_type": "markdown",
   "metadata": {},
   "source": [
    "## AutoGraph: Conditionals"
   ]
  },
  {
   "cell_type": "markdown",
   "metadata": {},
   "source": [
    "AutoGraph will convert if statements into the equivalent tf.cond calls.\n",
    "\n",
    "This substitution is made if the condition is a Tensor. Otherwise, the conditional is executed during tracing.\n",
    "\n",
    "Here is a function that checks if the resulting graph uses tf.cond:"
   ]
  },
  {
   "cell_type": "code",
   "execution_count": 22,
   "metadata": {},
   "outputs": [],
   "source": [
    "def test_tf_cond(f, *args):\n",
    "  g = f.get_concrete_function(*args).graph\n",
    "  if any(node.name == 'cond' for node in g.as_graph_def().node):\n",
    "    print(\"{}({}) uses tf.cond.\".format(\n",
    "        f.__name__, ', '.join(map(str, args))))\n",
    "  else:\n",
    "    print(\"{}({}) executes normally.\".format(\n",
    "        f.__name__, ', '.join(map(str, args))))\n",
    "\n",
    "  print(\"  result: \",f(*args).numpy())"
   ]
  },
  {
   "cell_type": "markdown",
   "metadata": {},
   "source": [
    "This substitution is made if the condition is a Tensor. Otherwise, the conditional is executed during tracing.\n",
    "\n",
    "Passing a python True executes the conditional normally:"
   ]
  },
  {
   "cell_type": "code",
   "execution_count": 23,
   "metadata": {},
   "outputs": [],
   "source": [
    "@tf.function\n",
    "def dropout(x, training=True):\n",
    "  if training:\n",
    "    x = tf.nn.dropout(x, rate=0.5)\n",
    "  return x"
   ]
  },
  {
   "cell_type": "code",
   "execution_count": 24,
   "metadata": {},
   "outputs": [
    {
     "name": "stdout",
     "output_type": "stream",
     "text": [
      "dropout(tf.Tensor([1. 1. 1. 1. 1. 1. 1. 1. 1. 1.], shape=(10,), dtype=float32), True) executes normally.\n",
      "  result:  [0. 2. 2. 0. 0. 2. 2. 0. 2. 2.]\n"
     ]
    }
   ],
   "source": [
    "test_tf_cond(dropout, tf.ones([10], dtype=tf.float32), True)"
   ]
  },
  {
   "cell_type": "markdown",
   "metadata": {},
   "source": [
    "But passing a tensor replaces the python if with a tf.cond:"
   ]
  },
  {
   "cell_type": "code",
   "execution_count": 25,
   "metadata": {},
   "outputs": [
    {
     "name": "stdout",
     "output_type": "stream",
     "text": [
      "dropout(tf.Tensor([1. 1. 1. 1. 1. 1. 1. 1. 1. 1.], shape=(10,), dtype=float32), tf.Tensor(True, shape=(), dtype=bool)) uses tf.cond.\n",
      "  result:  [2. 2. 2. 2. 2. 0. 2. 2. 2. 0.]\n"
     ]
    }
   ],
   "source": [
    "test_tf_cond(dropout, tf.ones([10], dtype=tf.float32), tf.constant(True))"
   ]
  },
  {
   "cell_type": "markdown",
   "metadata": {},
   "source": [
    "tf.cond has a number of subtleties."
   ]
  },
  {
   "cell_type": "markdown",
   "metadata": {},
   "source": [
    "it works by tracing both sides of the conditional, and then choosing the appropriate branch at runtime, depending on the condition. Tracing both sides can result in unexpected execution of Python code."
   ]
  },
  {
   "cell_type": "code",
   "execution_count": 26,
   "metadata": {},
   "outputs": [],
   "source": [
    "@tf.function\n",
    "def f(x):\n",
    "  if x > 0:\n",
    "    x = x + 1.\n",
    "    print(\"Tracing `then` branch\")\n",
    "  else:\n",
    "    x = x - 1.\n",
    "    print(\"Tracing `else` branch\")\n",
    "  return x"
   ]
  },
  {
   "cell_type": "code",
   "execution_count": 27,
   "metadata": {},
   "outputs": [
    {
     "name": "stdout",
     "output_type": "stream",
     "text": [
      "Tracing `else` branch\n"
     ]
    },
    {
     "data": {
      "text/plain": [
       "-2.0"
      ]
     },
     "execution_count": 27,
     "metadata": {},
     "output_type": "execute_result"
    }
   ],
   "source": [
    "f(-1.0).numpy()"
   ]
  },
  {
   "cell_type": "code",
   "execution_count": 28,
   "metadata": {},
   "outputs": [
    {
     "name": "stdout",
     "output_type": "stream",
     "text": [
      "Tracing `then` branch\n"
     ]
    },
    {
     "data": {
      "text/plain": [
       "2.0"
      ]
     },
     "execution_count": 28,
     "metadata": {},
     "output_type": "execute_result"
    }
   ],
   "source": [
    "f(1.0).numpy()"
   ]
  },
  {
   "cell_type": "code",
   "execution_count": 29,
   "metadata": {},
   "outputs": [
    {
     "name": "stdout",
     "output_type": "stream",
     "text": [
      "Tracing `then` branch\n",
      "Tracing `else` branch\n"
     ]
    },
    {
     "data": {
      "text/plain": [
       "2.0"
      ]
     },
     "execution_count": 29,
     "metadata": {},
     "output_type": "execute_result"
    }
   ],
   "source": [
    "f(tf.constant(1.0)).numpy()"
   ]
  },
  {
   "cell_type": "markdown",
   "metadata": {},
   "source": [
    "It requires that if one branch creates a tensor used downstream, the other branch must also create that tensor."
   ]
  },
  {
   "cell_type": "code",
   "execution_count": 30,
   "metadata": {},
   "outputs": [
    {
     "name": "stdout",
     "output_type": "stream",
     "text": [
      "Caught expected exception \n",
      "  <class 'ValueError'>:\n"
     ]
    },
    {
     "name": "stderr",
     "output_type": "stream",
     "text": [
      "Traceback (most recent call last):\n",
      "  File \"<ipython-input-2-73d0ca52e838>\", line 8, in assert_raises\n",
      "    yield\n",
      "  File \"<ipython-input-30-3ae6a92ff50d>\", line 9, in <module>\n",
      "    f()\n",
      "ValueError: in converted code:\n",
      "\n",
      "    <ipython-input-30-3ae6a92ff50d>:3 f  *\n",
      "        if tf.constant(True):\n",
      "    C:\\ProgramData\\Anaconda3\\envs\\spyder\\lib\\site-packages\\tensorflow_core\\python\\autograph\\operators\\control_flow.py:918 if_stmt\n",
      "        basic_symbol_names, composite_symbol_names)\n",
      "    C:\\ProgramData\\Anaconda3\\envs\\spyder\\lib\\site-packages\\tensorflow_core\\python\\autograph\\operators\\control_flow.py:956 tf_if_stmt\n",
      "        error_checking_orelse)\n",
      "    C:\\ProgramData\\Anaconda3\\envs\\spyder\\lib\\site-packages\\tensorflow_core\\python\\util\\deprecation.py:507 new_func\n",
      "        return func(*args, **kwargs)\n",
      "    C:\\ProgramData\\Anaconda3\\envs\\spyder\\lib\\site-packages\\tensorflow_core\\python\\ops\\control_flow_ops.py:1174 cond\n",
      "        return cond_v2.cond_v2(pred, true_fn, false_fn, name)\n",
      "    C:\\ProgramData\\Anaconda3\\envs\\spyder\\lib\\site-packages\\tensorflow_core\\python\\ops\\cond_v2.py:90 cond_v2\n",
      "        op_return_value=pred)\n",
      "    C:\\ProgramData\\Anaconda3\\envs\\spyder\\lib\\site-packages\\tensorflow_core\\python\\framework\\func_graph.py:978 func_graph_from_py_func\n",
      "        func_outputs = python_func(*func_args, **func_kwargs)\n",
      "    C:\\ProgramData\\Anaconda3\\envs\\spyder\\lib\\site-packages\\tensorflow_core\\python\\autograph\\operators\\control_flow.py:949 error_checking_orelse\n",
      "        result[orelse_branch] = orelse()\n",
      "    C:\\ProgramData\\Anaconda3\\envs\\spyder\\lib\\site-packages\\tensorflow_core\\python\\autograph\\operators\\control_flow.py:987 wrapper\n",
      "        new_vars = func()\n",
      "    C:\\ProgramData\\Anaconda3\\envs\\spyder\\lib\\site-packages\\tensorflow_core\\python\\autograph\\operators\\control_flow.py:1013 wrapper\n",
      "        tuple(s.symbol_name for s in undefined)))\n",
      "\n",
      "    ValueError: The following symbols must also be initialized in the else branch: ('x',). Alternatively, you may initialize them before the if statement.\n",
      "\n"
     ]
    }
   ],
   "source": [
    "@tf.function\n",
    "def f():\n",
    "  if tf.constant(True):\n",
    "    x = tf.ones([3, 3])\n",
    "  return x\n",
    "\n",
    "# Throws an error because both branches need to define `x`.\n",
    "with assert_raises(ValueError):\n",
    "  f()"
   ]
  },
  {
   "cell_type": "markdown",
   "metadata": {},
   "source": [
    "If you want to be sure that a particular section of control flow is never converted by autograph, then explicitly convert the object to a python type so an error is raised instead:"
   ]
  },
  {
   "cell_type": "code",
   "execution_count": 31,
   "metadata": {},
   "outputs": [],
   "source": [
    "@tf.function\n",
    "def f(x, y):\n",
    "  if bool(x):\n",
    "    y = y + 1.\n",
    "    print(\"Tracing `then` branch\")\n",
    "  else:\n",
    "    y = y - 1.\n",
    "    print(\"Tracing `else` branch\")\n",
    "  return y"
   ]
  },
  {
   "cell_type": "code",
   "execution_count": 32,
   "metadata": {},
   "outputs": [
    {
     "name": "stdout",
     "output_type": "stream",
     "text": [
      "Tracing `then` branch\n"
     ]
    },
    {
     "data": {
      "text/plain": [
       "1.0"
      ]
     },
     "execution_count": 32,
     "metadata": {},
     "output_type": "execute_result"
    }
   ],
   "source": [
    "f(True, 0).numpy()"
   ]
  },
  {
   "cell_type": "code",
   "execution_count": 33,
   "metadata": {},
   "outputs": [
    {
     "name": "stdout",
     "output_type": "stream",
     "text": [
      "Tracing `else` branch\n"
     ]
    },
    {
     "data": {
      "text/plain": [
       "-1.0"
      ]
     },
     "execution_count": 33,
     "metadata": {},
     "output_type": "execute_result"
    }
   ],
   "source": [
    "f(False, 0).numpy()"
   ]
  },
  {
   "cell_type": "code",
   "execution_count": 34,
   "metadata": {},
   "outputs": [
    {
     "name": "stdout",
     "output_type": "stream",
     "text": [
      "Caught expected exception \n",
      "  <class 'TypeError'>:\n"
     ]
    },
    {
     "name": "stderr",
     "output_type": "stream",
     "text": [
      "Traceback (most recent call last):\n",
      "  File \"<ipython-input-2-73d0ca52e838>\", line 8, in assert_raises\n",
      "    yield\n",
      "  File \"<ipython-input-34-427fe80db841>\", line 2, in <module>\n",
      "    f(tf.constant(True), 0.0)\n",
      "tensorflow.python.framework.errors_impl.OperatorNotAllowedInGraphError: in converted code:\n",
      "\n",
      "    <ipython-input-31-772984717e3d>:3 f  *\n",
      "        if bool(x):\n",
      "    C:\\ProgramData\\Anaconda3\\envs\\spyder\\lib\\site-packages\\tensorflow_core\\python\\autograph\\impl\\api.py:416 converted_call\n",
      "        return py_builtins.overload_of(f)(*args)\n",
      "    C:\\ProgramData\\Anaconda3\\envs\\spyder\\lib\\site-packages\\tensorflow_core\\python\\framework\\ops.py:757 __bool__\n",
      "        self._disallow_bool_casting()\n",
      "    C:\\ProgramData\\Anaconda3\\envs\\spyder\\lib\\site-packages\\tensorflow_core\\python\\framework\\ops.py:523 _disallow_bool_casting\n",
      "        \"using a `tf.Tensor` as a Python `bool`\")\n",
      "    C:\\ProgramData\\Anaconda3\\envs\\spyder\\lib\\site-packages\\tensorflow_core\\python\\framework\\ops.py:510 _disallow_when_autograph_enabled\n",
      "        \" decorating it directly with @tf.function.\".format(task))\n",
      "\n",
      "    OperatorNotAllowedInGraphError: using a `tf.Tensor` as a Python `bool` is not allowed: AutoGraph did not convert this function. Try decorating it directly with @tf.function.\n",
      "\n"
     ]
    }
   ],
   "source": [
    "with assert_raises(TypeError):\n",
    "  f(tf.constant(True), 0.0)"
   ]
  },
  {
   "cell_type": "markdown",
   "metadata": {},
   "source": [
    "## AutoGraph and loops"
   ]
  },
  {
   "cell_type": "markdown",
   "metadata": {},
   "source": [
    "AutoGraph has a few simple rules for converting loops.\n",
    "\n",
    "* for: Convert if the iterable is a tensor\n",
    "* while: Convert if the while condition depends on a tensor\n",
    "\n",
    "If a loop is converted, it will be dynamically unrolled with tf.while_loop, or in the special case of a for x in tf.data.Dataset, transformed into tf.data.Dataset.reduce.\n",
    "\n",
    "If a loop is not converted, it will be statically unrolled"
   ]
  },
  {
   "cell_type": "code",
   "execution_count": 35,
   "metadata": {},
   "outputs": [],
   "source": [
    "def test_dynamically_unrolled(f, *args):\n",
    "  g = f.get_concrete_function(*args).graph\n",
    "  if any(node.name == 'while' for node in g.as_graph_def().node):\n",
    "    print(\"{}({}) uses tf.while_loop.\".format(\n",
    "        f.__name__, ', '.join(map(str, args))))\n",
    "  elif any(node.name == 'ReduceDataset' for node in g.as_graph_def().node):\n",
    "    print(\"{}({}) uses tf.data.Dataset.reduce.\".format(\n",
    "        f.__name__, ', '.join(map(str, args))))\n",
    "  else:\n",
    "    print(\"{}({}) gets unrolled.\".format(\n",
    "        f.__name__, ', '.join(map(str, args))))"
   ]
  },
  {
   "cell_type": "markdown",
   "metadata": {},
   "source": [
    "## For loops"
   ]
  },
  {
   "cell_type": "markdown",
   "metadata": {},
   "source": [
    "Here is a tf.function that demonstrates static unrolling:"
   ]
  },
  {
   "cell_type": "code",
   "execution_count": 36,
   "metadata": {},
   "outputs": [
    {
     "name": "stdout",
     "output_type": "stream",
     "text": [
      "for_in_range() gets unrolled.\n"
     ]
    }
   ],
   "source": [
    "@tf.function\n",
    "def for_in_range():\n",
    "  x = 0\n",
    "  for i in range(5):\n",
    "    x += i\n",
    "  return x\n",
    "\n",
    "test_dynamically_unrolled(for_in_range)"
   ]
  },
  {
   "cell_type": "code",
   "execution_count": 37,
   "metadata": {},
   "outputs": [
    {
     "name": "stdout",
     "output_type": "stream",
     "text": [
      "for_in_tfrange() uses tf.while_loop.\n"
     ]
    }
   ],
   "source": [
    "@tf.function\n",
    "def for_in_tfrange():\n",
    "  x = tf.constant(0, dtype=tf.int32)\n",
    "  for i in tf.range(5):\n",
    "    x += i\n",
    "  return x\n",
    "\n",
    "test_dynamically_unrolled(for_in_tfrange)"
   ]
  },
  {
   "cell_type": "code",
   "execution_count": 38,
   "metadata": {},
   "outputs": [
    {
     "name": "stdout",
     "output_type": "stream",
     "text": [
      "for_in_tfdataset() uses tf.data.Dataset.reduce.\n"
     ]
    }
   ],
   "source": [
    "@tf.function\n",
    "def for_in_tfdataset():\n",
    "  x = tf.constant(0, dtype=tf.int64)\n",
    "  for i in tf.data.Dataset.range(5):\n",
    "    x += i\n",
    "  return x\n",
    "\n",
    "test_dynamically_unrolled(for_in_tfdataset)"
   ]
  },
  {
   "cell_type": "code",
   "execution_count": 39,
   "metadata": {},
   "outputs": [
    {
     "name": "stdout",
     "output_type": "stream",
     "text": [
      "while_tf_cond() uses tf.while_loop.\n"
     ]
    }
   ],
   "source": [
    "@tf.function\n",
    "def while_tf_cond():\n",
    "  x = tf.constant(5)\n",
    "  while x > 0:\n",
    "    x -= 1\n",
    "  return x\n",
    "\n",
    "test_dynamically_unrolled(while_tf_cond)"
   ]
  },
  {
   "cell_type": "markdown",
   "metadata": {},
   "source": [
    "If you have a break or early return clause that depends on a tensor, the top-level condition or iterable should also be a tensor.\n",
    "\n",
    "Compare the following examples:"
   ]
  },
  {
   "cell_type": "code",
   "execution_count": 40,
   "metadata": {},
   "outputs": [
    {
     "name": "stdout",
     "output_type": "stream",
     "text": [
      "while_py_true_py_break(5) gets unrolled.\n"
     ]
    }
   ],
   "source": [
    "@tf.function\n",
    "def while_py_true_py_break(x):\n",
    "  while True:  # py true\n",
    "    if x == 0: # py break\n",
    "      break\n",
    "    x -= 1\n",
    "  return x\n",
    "\n",
    "test_dynamically_unrolled(while_py_true_py_break, 5)"
   ]
  },
  {
   "cell_type": "code",
   "execution_count": 41,
   "metadata": {},
   "outputs": [
    {
     "name": "stdout",
     "output_type": "stream",
     "text": [
      "Caught expected exception \n",
      "  <class 'TypeError'>:\n"
     ]
    },
    {
     "name": "stderr",
     "output_type": "stream",
     "text": [
      "Traceback (most recent call last):\n",
      "  File \"<ipython-input-2-73d0ca52e838>\", line 8, in assert_raises\n",
      "    yield\n",
      "  File \"<ipython-input-41-453240ea98e6>\", line 10, in <module>\n",
      "    test_dynamically_unrolled(buggy_while_py_true_tf_break, 5)\n",
      "tensorflow.python.framework.errors_impl.OperatorNotAllowedInGraphError: in converted code:\n",
      "\n",
      "    <ipython-input-41-453240ea98e6>:3 buggy_while_py_true_tf_break  *\n",
      "        while True:   # py true\n",
      "    C:\\ProgramData\\Anaconda3\\envs\\spyder\\lib\\site-packages\\tensorflow_core\\python\\autograph\\operators\\control_flow.py:755 while_stmt\n",
      "        return _py_while_stmt(test, body, get_state, set_state, init_vars, opts)\n",
      "    C:\\ProgramData\\Anaconda3\\envs\\spyder\\lib\\site-packages\\tensorflow_core\\python\\autograph\\operators\\control_flow.py:870 _py_while_stmt\n",
      "        while test(*loop_vars):\n",
      "    C:\\ProgramData\\Anaconda3\\envs\\spyder\\lib\\site-packages\\tensorflow_core\\python\\framework\\ops.py:757 __bool__\n",
      "        self._disallow_bool_casting()\n",
      "    C:\\ProgramData\\Anaconda3\\envs\\spyder\\lib\\site-packages\\tensorflow_core\\python\\framework\\ops.py:523 _disallow_bool_casting\n",
      "        \"using a `tf.Tensor` as a Python `bool`\")\n",
      "    C:\\ProgramData\\Anaconda3\\envs\\spyder\\lib\\site-packages\\tensorflow_core\\python\\framework\\ops.py:510 _disallow_when_autograph_enabled\n",
      "        \" decorating it directly with @tf.function.\".format(task))\n",
      "\n",
      "    OperatorNotAllowedInGraphError: using a `tf.Tensor` as a Python `bool` is not allowed: AutoGraph did not convert this function. Try decorating it directly with @tf.function.\n",
      "\n"
     ]
    }
   ],
   "source": [
    "@tf.function\n",
    "def buggy_while_py_true_tf_break(x):\n",
    "  while True:   # py true\n",
    "    if tf.equal(x, 0): # tf break\n",
    "      break\n",
    "    x -= 1\n",
    "  return x\n",
    "\n",
    "with assert_raises(TypeError):\n",
    "  test_dynamically_unrolled(buggy_while_py_true_tf_break, 5)"
   ]
  },
  {
   "cell_type": "code",
   "execution_count": 42,
   "metadata": {},
   "outputs": [
    {
     "name": "stdout",
     "output_type": "stream",
     "text": [
      "while_tf_true_tf_break(5) uses tf.while_loop.\n"
     ]
    }
   ],
   "source": [
    "@tf.function\n",
    "def while_tf_true_tf_break(x):\n",
    "  while tf.constant(True): # tf true\n",
    "    if x == 0:  # py break\n",
    "      break\n",
    "    x -= 1\n",
    "  return x\n",
    "\n",
    "test_dynamically_unrolled(while_tf_true_tf_break, 5)"
   ]
  },
  {
   "cell_type": "code",
   "execution_count": 43,
   "metadata": {},
   "outputs": [
    {
     "name": "stdout",
     "output_type": "stream",
     "text": [
      "Caught expected exception \n",
      "  <class 'TypeError'>:\n"
     ]
    },
    {
     "name": "stderr",
     "output_type": "stream",
     "text": [
      "Traceback (most recent call last):\n",
      "  File \"<ipython-input-2-73d0ca52e838>\", line 8, in assert_raises\n",
      "    yield\n",
      "  File \"<ipython-input-43-82742b0a14d0>\", line 11, in <module>\n",
      "    test_dynamically_unrolled(buggy_py_for_tf_break)\n",
      "tensorflow.python.framework.errors_impl.OperatorNotAllowedInGraphError: in converted code:\n",
      "\n",
      "    <ipython-input-43-82742b0a14d0>:4 buggy_py_for_tf_break  *\n",
      "        for i in range(5):  # py for\n",
      "    C:\\ProgramData\\Anaconda3\\envs\\spyder\\lib\\site-packages\\tensorflow_core\\python\\autograph\\operators\\control_flow.py:339 for_stmt\n",
      "        return _py_for_stmt(iter_, extra_test, body, get_state, set_state, init_vars)\n",
      "    C:\\ProgramData\\Anaconda3\\envs\\spyder\\lib\\site-packages\\tensorflow_core\\python\\autograph\\operators\\control_flow.py:348 _py_for_stmt\n",
      "        if extra_test is not None and not extra_test(*state):\n",
      "    C:\\ProgramData\\Anaconda3\\envs\\spyder\\lib\\site-packages\\tensorflow_core\\python\\framework\\ops.py:757 __bool__\n",
      "        self._disallow_bool_casting()\n",
      "    C:\\ProgramData\\Anaconda3\\envs\\spyder\\lib\\site-packages\\tensorflow_core\\python\\framework\\ops.py:523 _disallow_bool_casting\n",
      "        \"using a `tf.Tensor` as a Python `bool`\")\n",
      "    C:\\ProgramData\\Anaconda3\\envs\\spyder\\lib\\site-packages\\tensorflow_core\\python\\framework\\ops.py:510 _disallow_when_autograph_enabled\n",
      "        \" decorating it directly with @tf.function.\".format(task))\n",
      "\n",
      "    OperatorNotAllowedInGraphError: using a `tf.Tensor` as a Python `bool` is not allowed: AutoGraph did not convert this function. Try decorating it directly with @tf.function.\n",
      "\n"
     ]
    }
   ],
   "source": [
    "@tf.function\n",
    "def buggy_py_for_tf_break():\n",
    "  x = 0\n",
    "  for i in range(5):  # py for\n",
    "    if tf.equal(i, 3): # tf break\n",
    "      break\n",
    "    x += i\n",
    "  return x\n",
    "\n",
    "with assert_raises(TypeError):\n",
    "  test_dynamically_unrolled(buggy_py_for_tf_break)"
   ]
  },
  {
   "cell_type": "code",
   "execution_count": 44,
   "metadata": {},
   "outputs": [
    {
     "name": "stdout",
     "output_type": "stream",
     "text": [
      "tf_for_py_break() uses tf.while_loop.\n"
     ]
    }
   ],
   "source": [
    "@tf.function\n",
    "def tf_for_py_break():\n",
    "  x = 0\n",
    "  for i in tf.range(5): # tf for\n",
    "    if i == 3:  # py break\n",
    "      break\n",
    "    x += i\n",
    "  return x\n",
    "\n",
    "test_dynamically_unrolled(tf_for_py_break)"
   ]
  },
  {
   "cell_type": "markdown",
   "metadata": {},
   "source": [
    "In order to accumulate results from a dynamically unrolled loop, you'll want to use tf.TensorArray."
   ]
  },
  {
   "cell_type": "code",
   "execution_count": 45,
   "metadata": {},
   "outputs": [
    {
     "data": {
      "text/plain": [
       "<tf.Tensor: shape=(2, 3, 4), dtype=float32, numpy=\n",
       "array([[[0.36638224, 0.05787444, 0.66331315, 0.78486884],\n",
       "        [1.2193046 , 0.6693361 , 1.1764828 , 1.2884865 ],\n",
       "        [2.0475757 , 0.9847654 , 1.3233309 , 1.865722  ]],\n",
       "\n",
       "       [[0.9347379 , 0.6177472 , 0.9364108 , 0.83301604],\n",
       "        [1.0896035 , 1.2216744 , 1.0037694 , 1.4630585 ],\n",
       "        [1.7954907 , 1.4364597 , 1.1107106 , 1.9399939 ]]], dtype=float32)>"
      ]
     },
     "execution_count": 45,
     "metadata": {},
     "output_type": "execute_result"
    }
   ],
   "source": [
    "batch_size = 2\n",
    "seq_len = 3\n",
    "feature_size = 4\n",
    "\n",
    "def rnn_step(inp, state):\n",
    "  return inp + state\n",
    "\n",
    "@tf.function\n",
    "def dynamic_rnn(rnn_step, input_data, initial_state):\n",
    "  # [batch, time, features] -> [time, batch, features]\n",
    "  input_data = tf.transpose(input_data, [1, 0, 2])\n",
    "  max_seq_len = input_data.shape[0]\n",
    "\n",
    "  states = tf.TensorArray(tf.float32, size=max_seq_len)\n",
    "  state = initial_state\n",
    "  for i in tf.range(max_seq_len):\n",
    "    state = rnn_step(input_data[i], state)\n",
    "    states = states.write(i, state)\n",
    "  return tf.transpose(states.stack(), [1, 0, 2])\n",
    "  \n",
    "dynamic_rnn(rnn_step,\n",
    "            tf.random.uniform([batch_size, seq_len, feature_size]),\n",
    "            tf.zeros([batch_size, feature_size]))"
   ]
  },
  {
   "cell_type": "markdown",
   "metadata": {},
   "source": [
    "## Gotcha's"
   ]
  },
  {
   "cell_type": "markdown",
   "metadata": {},
   "source": [
    "As with tf.cond, tf.while_loop also comes with a number of subtleties."
   ]
  },
  {
   "cell_type": "markdown",
   "metadata": {},
   "source": [
    "### Zero iterations"
   ]
  },
  {
   "cell_type": "markdown",
   "metadata": {},
   "source": [
    "Since a loop can execute 0 times, all tensors used downstream of the while_loop must be initialized above the loop.\n",
    "\n",
    "Here is an example of incorrect code:"
   ]
  },
  {
   "cell_type": "code",
   "execution_count": 46,
   "metadata": {},
   "outputs": [
    {
     "name": "stdout",
     "output_type": "stream",
     "text": [
      "Caught expected exception \n",
      "  <class 'ValueError'>:\n"
     ]
    },
    {
     "name": "stderr",
     "output_type": "stream",
     "text": [
      "Traceback (most recent call last):\n",
      "  File \"<ipython-input-2-73d0ca52e838>\", line 8, in assert_raises\n",
      "    yield\n",
      "  File \"<ipython-input-46-815fd6bba8cc>\", line 8, in <module>\n",
      "    buggy_loop_var_uninitialized()\n",
      "ValueError: in converted code:\n",
      "\n",
      "    <ipython-input-46-815fd6bba8cc>:3 buggy_loop_var_uninitialized  *\n",
      "        for i in tf.range(3):\n",
      "    C:\\ProgramData\\Anaconda3\\envs\\spyder\\lib\\site-packages\\tensorflow_core\\python\\autograph\\operators\\control_flow.py:315 for_stmt\n",
      "        composite_symbol_names)\n",
      "    C:\\ProgramData\\Anaconda3\\envs\\spyder\\lib\\site-packages\\tensorflow_core\\python\\autograph\\operators\\control_flow.py:419 _tf_range_for_stmt\n",
      "        _disallow_undefs_into_loop(*init_vars)\n",
      "    C:\\ProgramData\\Anaconda3\\envs\\spyder\\lib\\site-packages\\tensorflow_core\\python\\autograph\\operators\\control_flow.py:97 _disallow_undefs_into_loop\n",
      "        ' before the loop: {}'.format(tuple(s.symbol_name for s in undefined)))\n",
      "\n",
      "    ValueError: TensorFlow requires that the following symbols must be defined before the loop: ('x',)\n",
      "\n"
     ]
    }
   ],
   "source": [
    "@tf.function\n",
    "def buggy_loop_var_uninitialized():\n",
    "  for i in tf.range(3):\n",
    "    x = i\n",
    "  return x\n",
    "\n",
    "with assert_raises(ValueError):\n",
    "  buggy_loop_var_uninitialized()"
   ]
  },
  {
   "cell_type": "markdown",
   "metadata": {},
   "source": [
    "And the correct version:"
   ]
  },
  {
   "cell_type": "code",
   "execution_count": 48,
   "metadata": {},
   "outputs": [
    {
     "data": {
      "text/plain": [
       "<tf.Tensor: shape=(), dtype=int32, numpy=2>"
      ]
     },
     "execution_count": 48,
     "metadata": {},
     "output_type": "execute_result"
    }
   ],
   "source": [
    "@tf.function\n",
    "def f():\n",
    "  x = tf.constant(0)\n",
    "  for i in tf.range(3):\n",
    "    x = i\n",
    "  return x\n",
    "\n",
    "f()"
   ]
  },
  {
   "cell_type": "markdown",
   "metadata": {},
   "source": [
    "### Consistent shapes and types"
   ]
  },
  {
   "cell_type": "markdown",
   "metadata": {},
   "source": [
    "The shape/dtypes of all loop variables must stay consistent with each iteration.\n",
    "\n",
    "Here is an incorrect example that attempts to change a tensor's type:"
   ]
  },
  {
   "cell_type": "code",
   "execution_count": 49,
   "metadata": {},
   "outputs": [
    {
     "name": "stdout",
     "output_type": "stream",
     "text": [
      "Caught expected exception \n",
      "  <class 'TypeError'>:\n"
     ]
    },
    {
     "name": "stderr",
     "output_type": "stream",
     "text": [
      "Traceback (most recent call last):\n",
      "  File \"<ipython-input-2-73d0ca52e838>\", line 8, in assert_raises\n",
      "    yield\n",
      "  File \"<ipython-input-49-401f74deca47>\", line 9, in <module>\n",
      "    buggy_loop_type_changes()\n",
      "TypeError: in converted code:\n",
      "\n",
      "    <ipython-input-49-401f74deca47>:4 buggy_loop_type_changes  *\n",
      "        for i in tf.range(3): # Yields tensors of type tf.int32...\n",
      "    C:\\ProgramData\\Anaconda3\\envs\\spyder\\lib\\site-packages\\tensorflow_core\\python\\autograph\\operators\\control_flow.py:315 for_stmt\n",
      "        composite_symbol_names)\n",
      "    C:\\ProgramData\\Anaconda3\\envs\\spyder\\lib\\site-packages\\tensorflow_core\\python\\autograph\\operators\\control_flow.py:478 _tf_range_for_stmt\n",
      "        opts=opts,\n",
      "    C:\\ProgramData\\Anaconda3\\envs\\spyder\\lib\\site-packages\\tensorflow_core\\python\\autograph\\operators\\control_flow.py:794 _tf_while_stmt\n",
      "        aug_init_vars, **opts)\n",
      "    C:\\ProgramData\\Anaconda3\\envs\\spyder\\lib\\site-packages\\tensorflow_core\\python\\ops\\control_flow_ops.py:2675 while_loop\n",
      "        back_prop=back_prop)\n",
      "    C:\\ProgramData\\Anaconda3\\envs\\spyder\\lib\\site-packages\\tensorflow_core\\python\\ops\\while_v2.py:194 while_loop\n",
      "        add_control_dependencies=add_control_dependencies)\n",
      "    C:\\ProgramData\\Anaconda3\\envs\\spyder\\lib\\site-packages\\tensorflow_core\\python\\framework\\func_graph.py:978 func_graph_from_py_func\n",
      "        func_outputs = python_func(*func_args, **func_kwargs)\n",
      "    C:\\ProgramData\\Anaconda3\\envs\\spyder\\lib\\site-packages\\tensorflow_core\\python\\ops\\while_v2.py:172 wrapped_body\n",
      "        outputs = body(*_pack_sequence_as(orig_loop_vars, args))\n",
      "    C:\\ProgramData\\Anaconda3\\envs\\spyder\\lib\\site-packages\\tensorflow_core\\python\\autograph\\operators\\control_flow.py:784 aug_body\n",
      "        composite_symbol_names)\n",
      "    C:\\ProgramData\\Anaconda3\\envs\\spyder\\lib\\site-packages\\tensorflow_core\\python\\autograph\\operators\\control_flow.py:195 _verify_tf_loop_vars\n",
      "        first_iter_var)\n",
      "    C:\\ProgramData\\Anaconda3\\envs\\spyder\\lib\\site-packages\\tensorflow_core\\python\\util\\nest.py:568 map_structure\n",
      "        structure[0], [func(*x) for x in entries],\n",
      "    C:\\ProgramData\\Anaconda3\\envs\\spyder\\lib\\site-packages\\tensorflow_core\\python\\util\\nest.py:568 <listcomp>\n",
      "        structure[0], [func(*x) for x in entries],\n",
      "    C:\\ProgramData\\Anaconda3\\envs\\spyder\\lib\\site-packages\\tensorflow_core\\python\\autograph\\operators\\control_flow.py:179 _check_same_type\n",
      "        first_iter_var.dtype.name,\n",
      "\n",
      "    TypeError: \"x\" has dtype float32 before the loop, but dtype int32 after one iteration. TensorFlow control flow requires it stays the same.\n",
      "\n"
     ]
    }
   ],
   "source": [
    "@tf.function\n",
    "def buggy_loop_type_changes():\n",
    "  x = tf.constant(0, dtype=tf.float32)\n",
    "  for i in tf.range(3): # Yields tensors of type tf.int32...\n",
    "    x = i\n",
    "  return x\n",
    "\n",
    "with assert_raises(TypeError):\n",
    "  buggy_loop_type_changes()"
   ]
  },
  {
   "cell_type": "markdown",
   "metadata": {},
   "source": [
    "Here is an incorrect example that attempts to change a Tensor's shape while iterating:"
   ]
  },
  {
   "cell_type": "code",
   "execution_count": 50,
   "metadata": {},
   "outputs": [
    {
     "name": "stdout",
     "output_type": "stream",
     "text": [
      "Caught expected exception \n",
      "  <class 'ValueError'>:\n"
     ]
    },
    {
     "name": "stderr",
     "output_type": "stream",
     "text": [
      "Traceback (most recent call last):\n",
      "  File \"<ipython-input-2-73d0ca52e838>\", line 8, in assert_raises\n",
      "    yield\n",
      "  File \"<ipython-input-50-bae298a1ce41>\", line 9, in <module>\n",
      "    buggy_concat()\n",
      "ValueError: in converted code:\n",
      "\n",
      "    <ipython-input-50-bae298a1ce41>:4 buggy_concat  *\n",
      "        for i in tf.range(5):\n",
      "    C:\\ProgramData\\Anaconda3\\envs\\spyder\\lib\\site-packages\\tensorflow_core\\python\\autograph\\operators\\control_flow.py:315 for_stmt\n",
      "        composite_symbol_names)\n",
      "    C:\\ProgramData\\Anaconda3\\envs\\spyder\\lib\\site-packages\\tensorflow_core\\python\\autograph\\operators\\control_flow.py:478 _tf_range_for_stmt\n",
      "        opts=opts,\n",
      "    C:\\ProgramData\\Anaconda3\\envs\\spyder\\lib\\site-packages\\tensorflow_core\\python\\autograph\\operators\\control_flow.py:794 _tf_while_stmt\n",
      "        aug_init_vars, **opts)\n",
      "    C:\\ProgramData\\Anaconda3\\envs\\spyder\\lib\\site-packages\\tensorflow_core\\python\\ops\\control_flow_ops.py:2675 while_loop\n",
      "        back_prop=back_prop)\n",
      "    C:\\ProgramData\\Anaconda3\\envs\\spyder\\lib\\site-packages\\tensorflow_core\\python\\ops\\while_v2.py:194 while_loop\n",
      "        add_control_dependencies=add_control_dependencies)\n",
      "    C:\\ProgramData\\Anaconda3\\envs\\spyder\\lib\\site-packages\\tensorflow_core\\python\\framework\\func_graph.py:978 func_graph_from_py_func\n",
      "        func_outputs = python_func(*func_args, **func_kwargs)\n",
      "    C:\\ProgramData\\Anaconda3\\envs\\spyder\\lib\\site-packages\\tensorflow_core\\python\\ops\\while_v2.py:172 wrapped_body\n",
      "        outputs = body(*_pack_sequence_as(orig_loop_vars, args))\n",
      "    C:\\ProgramData\\Anaconda3\\envs\\spyder\\lib\\site-packages\\tensorflow_core\\python\\autograph\\operators\\control_flow.py:784 aug_body\n",
      "        composite_symbol_names)\n",
      "    C:\\ProgramData\\Anaconda3\\envs\\spyder\\lib\\site-packages\\tensorflow_core\\python\\autograph\\operators\\control_flow.py:195 _verify_tf_loop_vars\n",
      "        first_iter_var)\n",
      "    C:\\ProgramData\\Anaconda3\\envs\\spyder\\lib\\site-packages\\tensorflow_core\\python\\util\\nest.py:568 map_structure\n",
      "        structure[0], [func(*x) for x in entries],\n",
      "    C:\\ProgramData\\Anaconda3\\envs\\spyder\\lib\\site-packages\\tensorflow_core\\python\\util\\nest.py:568 <listcomp>\n",
      "        structure[0], [func(*x) for x in entries],\n",
      "    C:\\ProgramData\\Anaconda3\\envs\\spyder\\lib\\site-packages\\tensorflow_core\\python\\autograph\\operators\\control_flow.py:191 _check_same_type\n",
      "        first_iter_shape))\n",
      "\n",
      "    ValueError: \"x\" has shape (0, 10) before the loop, but shape (1, 10) after one iteration. TensorFlow control flow requires it stays the same or be more specific.\n",
      "\n"
     ]
    }
   ],
   "source": [
    "@tf.function\n",
    "def buggy_concat():\n",
    "  x = tf.ones([0, 10])\n",
    "  for i in tf.range(5):\n",
    "    x = tf.concat([x, tf.ones([1, 10])], axis=0)\n",
    "  return x\n",
    "\n",
    "with assert_raises(ValueError):\n",
    "  buggy_concat()"
   ]
  },
  {
   "cell_type": "code",
   "execution_count": 51,
   "metadata": {},
   "outputs": [
    {
     "data": {
      "text/plain": [
       "<tf.Tensor: shape=(5, 10), dtype=float32, numpy=\n",
       "array([[1., 1., 1., 1., 1., 1., 1., 1., 1., 1.],\n",
       "       [1., 1., 1., 1., 1., 1., 1., 1., 1., 1.],\n",
       "       [1., 1., 1., 1., 1., 1., 1., 1., 1., 1.],\n",
       "       [1., 1., 1., 1., 1., 1., 1., 1., 1., 1.],\n",
       "       [1., 1., 1., 1., 1., 1., 1., 1., 1., 1.]], dtype=float32)>"
      ]
     },
     "execution_count": 51,
     "metadata": {},
     "output_type": "execute_result"
    }
   ],
   "source": [
    "@tf.function\n",
    "def concat_with_padding():\n",
    "  x = tf.zeros([5, 10])\n",
    "  for i in tf.range(5):\n",
    "    x = tf.concat([x[:i], tf.ones([1, 10]), tf.zeros([4-i, 10])], axis=0)\n",
    "    x.set_shape([5, 10])\n",
    "  return x\n",
    "\n",
    "concat_with_padding()\n"
   ]
  },
  {
   "cell_type": "code",
   "execution_count": null,
   "metadata": {},
   "outputs": [],
   "source": []
  }
 ],
 "metadata": {
  "kernelspec": {
   "display_name": "Python 3",
   "language": "python",
   "name": "python3"
  },
  "language_info": {
   "codemirror_mode": {
    "name": "ipython",
    "version": 3
   },
   "file_extension": ".py",
   "mimetype": "text/x-python",
   "name": "python",
   "nbconvert_exporter": "python",
   "pygments_lexer": "ipython3",
   "version": "3.7.6"
  }
 },
 "nbformat": 4,
 "nbformat_minor": 4
}
