{
 "cells": [
  {
   "cell_type": "markdown",
   "metadata": {},
   "source": [
    "# Transformer model for language understanding"
   ]
  },
  {
   "cell_type": "markdown",
   "metadata": {},
   "source": [
    "This tutorial trains a Transformer model to translate Portuguese to English. This is an advanced example that assumes knowledge of text generation and attention.\n",
    "\n",
    "The core idea behind the Transformer model is self-attention—the ability to attend to different positions of the input sequence to compute a representation of that sequence. Transformer creates stacks of self-attention layers and is explained below in the sections Scaled dot product attention and Multi-head attention.\n",
    "\n",
    "A transformer model handles variable-sized input using stacks of self-attention layers instead of RNNs or CNNs. This general architecture has a number of advantages:\n",
    "\n",
    "* It make no assumptions about the temporal/spatial relationships across the data. This is ideal for processing a set of objects (for example, StarCraft units).\n",
    "* Layer outputs can be calculated in parallel, instead of a series like an RNN.\n",
    "* Distant items can affect each other's output without passing through many RNN-steps, or convolution layers (see Scene Memory Transformer for example).\n",
    "* It can learn long-range dependencies. This is a challenge in many sequence tasks.\n",
    "\n",
    "The downsides of this architecture are:\n",
    "\n",
    "* For a time-series, the output for a time-step is calculated from the entire history instead of only the inputs and current hidden-state. This may be less efficient.\n",
    "* If the input does have a temporal/spatial relationship, like text, some positional encoding must be added or the model will effectively see a bag of words.\n",
    "\n",
    "After training the model in this notebook, you will be able to input a Portuguese sentence and return the English translation."
   ]
  },
  {
   "cell_type": "code",
   "execution_count": 1,
   "metadata": {},
   "outputs": [],
   "source": [
    "from __future__ import absolute_import, division, print_function, unicode_literals\n",
    "\n",
    "#try:\n",
    "  #!pip install -q tf-nightly\n",
    "#except Exception:\n",
    "  #pass\n",
    "import tensorflow_datasets as tfds\n",
    "import tensorflow as tf\n",
    "\n",
    "import time\n",
    "import numpy as np\n",
    "import matplotlib.pyplot as plt"
   ]
  },
  {
   "cell_type": "markdown",
   "metadata": {},
   "source": [
    "## Setup input pipeline"
   ]
  },
  {
   "cell_type": "markdown",
   "metadata": {},
   "source": [
    "Use TFDS to load the Portugese-English translation dataset from the TED Talks Open Translation Project.\n",
    "\n",
    "This dataset contains approximately 50000 training examples, 1100 validation examples, and 2000 test examples."
   ]
  },
  {
   "cell_type": "code",
   "execution_count": 2,
   "metadata": {},
   "outputs": [],
   "source": [
    "examples, metadata = tfds.load('ted_hrlr_translate/pt_to_en', with_info=True,\n",
    "                               as_supervised=True)\n",
    "train_examples, val_examples = examples['train'], examples['validation']"
   ]
  },
  {
   "cell_type": "markdown",
   "metadata": {},
   "source": [
    "Create a custom subwords tokenizer from the training dataset."
   ]
  },
  {
   "cell_type": "code",
   "execution_count": 3,
   "metadata": {},
   "outputs": [],
   "source": [
    "tokenizer_en = tfds.features.text.SubwordTextEncoder.build_from_corpus(\n",
    "    (en.numpy() for pt, en in train_examples), target_vocab_size=2**13)\n",
    "\n",
    "tokenizer_pt = tfds.features.text.SubwordTextEncoder.build_from_corpus(\n",
    "    (pt.numpy() for pt, en in train_examples), target_vocab_size=2**13)"
   ]
  },
  {
   "cell_type": "code",
   "execution_count": 4,
   "metadata": {},
   "outputs": [
    {
     "name": "stdout",
     "output_type": "stream",
     "text": [
      "Tokenized string is [7915, 1248, 7946, 7194, 13, 2799, 7877]\n",
      "The original string: Transformer is awesome.\n"
     ]
    }
   ],
   "source": [
    "sample_string = 'Transformer is awesome.'\n",
    "\n",
    "tokenized_string = tokenizer_en.encode(sample_string)\n",
    "print ('Tokenized string is {}'.format(tokenized_string))\n",
    "\n",
    "original_string = tokenizer_en.decode(tokenized_string)\n",
    "print ('The original string: {}'.format(original_string))\n",
    "\n",
    "assert original_string == sample_string"
   ]
  },
  {
   "cell_type": "markdown",
   "metadata": {},
   "source": [
    "The tokenizer encodes the string by breaking it into subwords if the word is not in its dictionary."
   ]
  },
  {
   "cell_type": "code",
   "execution_count": 5,
   "metadata": {},
   "outputs": [
    {
     "name": "stdout",
     "output_type": "stream",
     "text": [
      "7915 ----> T\n",
      "1248 ----> ran\n",
      "7946 ----> s\n",
      "7194 ----> former \n",
      "13 ----> is \n",
      "2799 ----> awesome\n",
      "7877 ----> .\n"
     ]
    }
   ],
   "source": [
    "for ts in tokenized_string:\n",
    "  print ('{} ----> {}'.format(ts, tokenizer_en.decode([ts])))"
   ]
  },
  {
   "cell_type": "code",
   "execution_count": 6,
   "metadata": {},
   "outputs": [],
   "source": [
    "BUFFER_SIZE = 20000\n",
    "BATCH_SIZE = 64"
   ]
  },
  {
   "cell_type": "markdown",
   "metadata": {},
   "source": [
    "Add a start and end token to the input and target."
   ]
  },
  {
   "cell_type": "code",
   "execution_count": 7,
   "metadata": {},
   "outputs": [],
   "source": [
    "def encode(lang1, lang2):\n",
    "  lang1 = [tokenizer_pt.vocab_size] + tokenizer_pt.encode(\n",
    "      lang1.numpy()) + [tokenizer_pt.vocab_size+1]\n",
    "\n",
    "  lang2 = [tokenizer_en.vocab_size] + tokenizer_en.encode(\n",
    "      lang2.numpy()) + [tokenizer_en.vocab_size+1]\n",
    "  \n",
    "  return lang1, lang2"
   ]
  },
  {
   "cell_type": "markdown",
   "metadata": {},
   "source": [
    "You want to use Dataset.map to apply this function to each element of the dataset. Dataset.map runs in graph mode.\n",
    "\n",
    "* Graph tensors do not have a value.\n",
    "* In graph mode you can only use TensorFlow Ops and functions.\n",
    "\n",
    "So you can't .map this function directly: You need to wrap it in a tf.py_function. The tf.py_function will pass regular tensors (with a value and a .numpy() method to access it), to the wrapped python function."
   ]
  },
  {
   "cell_type": "code",
   "execution_count": 8,
   "metadata": {},
   "outputs": [],
   "source": [
    "def tf_encode(pt, en):\n",
    "  result_pt, result_en = tf.py_function(encode, [pt, en], [tf.int64, tf.int64])\n",
    "  result_pt.set_shape([None])\n",
    "  result_en.set_shape([None])\n",
    "\n",
    "  return result_pt, result_en"
   ]
  },
  {
   "cell_type": "markdown",
   "metadata": {},
   "source": [
    "<div class=\"alert alert-block alert-info\">\n",
    "<b>Note:</b> To keep this example small and relatively fast, drop examples with a length of over 40 tokens.\n",
    "</div>"
   ]
  },
  {
   "cell_type": "code",
   "execution_count": 9,
   "metadata": {},
   "outputs": [],
   "source": [
    "MAX_LENGTH = 40"
   ]
  },
  {
   "cell_type": "code",
   "execution_count": 10,
   "metadata": {},
   "outputs": [],
   "source": [
    "def filter_max_length(x, y, max_length=MAX_LENGTH):\n",
    "  return tf.logical_and(tf.size(x) <= max_length,\n",
    "                        tf.size(y) <= max_length)"
   ]
  },
  {
   "cell_type": "code",
   "execution_count": 11,
   "metadata": {},
   "outputs": [],
   "source": [
    "train_dataset = train_examples.map(tf_encode)\n",
    "train_dataset = train_dataset.filter(filter_max_length)\n",
    "# cache the dataset to memory to get a speedup while reading from it.\n",
    "train_dataset = train_dataset.cache()\n",
    "train_dataset = train_dataset.shuffle(BUFFER_SIZE).padded_batch(BATCH_SIZE)\n",
    "train_dataset = train_dataset.prefetch(tf.data.experimental.AUTOTUNE)\n",
    "\n",
    "\n",
    "val_dataset = val_examples.map(tf_encode)\n",
    "val_dataset = val_dataset.filter(filter_max_length).padded_batch(BATCH_SIZE)"
   ]
  },
  {
   "cell_type": "code",
   "execution_count": 12,
   "metadata": {},
   "outputs": [
    {
     "data": {
      "text/plain": [
       "(<tf.Tensor: shape=(64, 38), dtype=int64, numpy=\n",
       " array([[8214,  342, 3032, ...,    0,    0,    0],\n",
       "        [8214,   95,  198, ...,    0,    0,    0],\n",
       "        [8214, 4479, 7990, ...,    0,    0,    0],\n",
       "        ...,\n",
       "        [8214,  584,   12, ...,    0,    0,    0],\n",
       "        [8214,   59, 1548, ...,    0,    0,    0],\n",
       "        [8214,  118,   34, ...,    0,    0,    0]], dtype=int64)>,\n",
       " <tf.Tensor: shape=(64, 40), dtype=int64, numpy=\n",
       " array([[8087,   98,   25, ...,    0,    0,    0],\n",
       "        [8087,   12,   20, ...,    0,    0,    0],\n",
       "        [8087,   12, 5453, ...,    0,    0,    0],\n",
       "        ...,\n",
       "        [8087,   18, 2059, ...,    0,    0,    0],\n",
       "        [8087,   16, 1436, ...,    0,    0,    0],\n",
       "        [8087,   15,   57, ...,    0,    0,    0]], dtype=int64)>)"
      ]
     },
     "execution_count": 12,
     "metadata": {},
     "output_type": "execute_result"
    }
   ],
   "source": [
    "pt_batch, en_batch = next(iter(val_dataset))\n",
    "pt_batch, en_batch"
   ]
  },
  {
   "cell_type": "markdown",
   "metadata": {},
   "source": [
    "## Positional encoding"
   ]
  },
  {
   "cell_type": "markdown",
   "metadata": {},
   "source": [
    "Since this model doesn't contain any recurrence or convolution, positional encoding is added to give the model some information about the relative position of the words in the sentence.\n",
    "\n",
    "The positional encoding vector is added to the embedding vector. Embeddings represent a token in a d-dimensional space where tokens with similar meaning will be closer to each other. But the embeddings do not encode the relative position of words in a sentence. So after adding the positional encoding, words will be closer to each other based on the similarity of their meaning and their position in the sentence, in the d-dimensional space.\n",
    "\n",
    "See the notebook on positional encoding to learn more about it. The formula for calculating the positional encoding is as follows:"
   ]
  },
  {
   "cell_type": "code",
   "execution_count": 13,
   "metadata": {},
   "outputs": [],
   "source": [
    "def get_angles(pos, i, d_model):\n",
    "  angle_rates = 1 / np.power(10000, (2 * (i//2)) / np.float32(d_model))\n",
    "  return pos * angle_rates"
   ]
  },
  {
   "cell_type": "code",
   "execution_count": 14,
   "metadata": {},
   "outputs": [],
   "source": [
    "def positional_encoding(position, d_model):\n",
    "  angle_rads = get_angles(np.arange(position)[:, np.newaxis],\n",
    "                          np.arange(d_model)[np.newaxis, :],\n",
    "                          d_model)\n",
    "  \n",
    "  # apply sin to even indices in the array; 2i\n",
    "  angle_rads[:, 0::2] = np.sin(angle_rads[:, 0::2])\n",
    "  \n",
    "  # apply cos to odd indices in the array; 2i+1\n",
    "  angle_rads[:, 1::2] = np.cos(angle_rads[:, 1::2])\n",
    "    \n",
    "  pos_encoding = angle_rads[np.newaxis, ...]\n",
    "    \n",
    "  return tf.cast(pos_encoding, dtype=tf.float32)"
   ]
  },
  {
   "cell_type": "code",
   "execution_count": 15,
   "metadata": {},
   "outputs": [
    {
     "name": "stdout",
     "output_type": "stream",
     "text": [
      "(1, 50, 512)\n"
     ]
    },
    {
     "data": {
      "image/png": "[encoded data removed]",
      "text/plain": [
       "<Figure size 432x288 with 2 Axes>"
      ]
     },
     "metadata": {
      "needs_background": "light"
     },
     "output_type": "display_data"
    }
   ],
   "source": [
    "pos_encoding = positional_encoding(50, 512)\n",
    "print (pos_encoding.shape)\n",
    "\n",
    "plt.pcolormesh(pos_encoding[0], cmap='RdBu')\n",
    "plt.xlabel('Depth')\n",
    "plt.xlim((0, 512))\n",
    "plt.ylabel('Position')\n",
    "plt.colorbar()\n",
    "plt.show()"
   ]
  },
  {
   "cell_type": "markdown",
   "metadata": {},
   "source": [
    "## Masking"
   ]
  },
  {
   "cell_type": "markdown",
   "metadata": {},
   "source": [
    "Mask all the pad tokens in the batch of sequence. It ensures that the model does not treat padding as the input. The mask indicates where pad value 0 is present: it outputs a 1 at those locations, and a 0 otherwise."
   ]
  },
  {
   "cell_type": "code",
   "execution_count": 16,
   "metadata": {},
   "outputs": [],
   "source": [
    "def create_padding_mask(seq):\n",
    "  seq = tf.cast(tf.math.equal(seq, 0), tf.float32)\n",
    "  \n",
    "  # add extra dimensions to add the padding\n",
    "  # to the attention logits.\n",
    "  return seq[:, tf.newaxis, tf.newaxis, :]  # (batch_size, 1, 1, seq_len)"
   ]
  },
  {
   "cell_type": "code",
   "execution_count": 17,
   "metadata": {},
   "outputs": [
    {
     "data": {
      "text/plain": [
       "<tf.Tensor: shape=(3, 1, 1, 5), dtype=float32, numpy=\n",
       "array([[[[0., 0., 1., 1., 0.]]],\n",
       "\n",
       "\n",
       "       [[[0., 0., 0., 1., 1.]]],\n",
       "\n",
       "\n",
       "       [[[1., 1., 1., 0., 0.]]]], dtype=float32)>"
      ]
     },
     "execution_count": 17,
     "metadata": {},
     "output_type": "execute_result"
    }
   ],
   "source": [
    "x = tf.constant([[7, 6, 0, 0, 1], [1, 2, 3, 0, 0], [0, 0, 0, 4, 5]])\n",
    "create_padding_mask(x)"
   ]
  },
  {
   "cell_type": "markdown",
   "metadata": {},
   "source": [
    "The look-ahead mask is used to mask the future tokens in a sequence. In other words, the mask indicates which entries should not be used.\n",
    "\n",
    "This means that to predict the third word, only the first and second word will be used. Similarly to predict the fourth word, only the first, second and the third word will be used and so on."
   ]
  },
  {
   "cell_type": "code",
   "execution_count": 18,
   "metadata": {},
   "outputs": [],
   "source": [
    "def create_look_ahead_mask(size):\n",
    "  mask = 1 - tf.linalg.band_part(tf.ones((size, size)), -1, 0)\n",
    "  return mask  # (seq_len, seq_len)"
   ]
  },
  {
   "cell_type": "code",
   "execution_count": 19,
   "metadata": {},
   "outputs": [
    {
     "data": {
      "text/plain": [
       "<tf.Tensor: shape=(3, 3), dtype=float32, numpy=\n",
       "array([[0., 1., 1.],\n",
       "       [0., 0., 1.],\n",
       "       [0., 0., 0.]], dtype=float32)>"
      ]
     },
     "execution_count": 19,
     "metadata": {},
     "output_type": "execute_result"
    }
   ],
   "source": [
    "x = tf.random.uniform((1, 3))\n",
    "temp = create_look_ahead_mask(x.shape[1])\n",
    "temp"
   ]
  },
  {
   "cell_type": "markdown",
   "metadata": {},
   "source": [
    "## Scaled dot product attention"
   ]
  },
  {
   "cell_type": "markdown",
   "metadata": {},
   "source": [
    "The attention function used by the transformer takes three inputs: Q (query), K (key), V (value). The equation used to calculate the attention weights is:"
   ]
  },
  {
   "cell_type": "markdown",
   "metadata": {},
   "source": [
    "The dot-product attention is scaled by a factor of square root of the depth. This is done because for large values of depth, the dot product grows large in magnitude pushing the softmax function where it has small gradients resulting in a very hard softmax.\n",
    "\n",
    "For example, consider that Q and K have a mean of 0 and variance of 1. Their matrix multiplication will have a mean of 0 and variance of dk. Hence, square root of dk is used for scaling (and not any other number) because the matmul of Q and K should have a mean of 0 and variance of 1, and you get a gentler softmax.\n",
    "\n",
    "The mask is multiplied with -1e9 (close to negative infinity). This is done because the mask is summed with the scaled matrix multiplication of Q and K and is applied immediately before a softmax. The goal is to zero out these cells, and large negative inputs to softmax are near zero in the output."
   ]
  },
  {
   "cell_type": "code",
   "execution_count": 20,
   "metadata": {},
   "outputs": [],
   "source": [
    "def scaled_dot_product_attention(q, k, v, mask):\n",
    "  \"\"\"Calculate the attention weights.\n",
    "  q, k, v must have matching leading dimensions.\n",
    "  k, v must have matching penultimate dimension, i.e.: seq_len_k = seq_len_v.\n",
    "  The mask has different shapes depending on its type(padding or look ahead) \n",
    "  but it must be broadcastable for addition.\n",
    "  \n",
    "  Args:\n",
    "    q: query shape == (..., seq_len_q, depth)\n",
    "    k: key shape == (..., seq_len_k, depth)\n",
    "    v: value shape == (..., seq_len_v, depth_v)\n",
    "    mask: Float tensor with shape broadcastable \n",
    "          to (..., seq_len_q, seq_len_k). Defaults to None.\n",
    "    \n",
    "  Returns:\n",
    "    output, attention_weights\n",
    "  \"\"\"\n",
    "\n",
    "  matmul_qk = tf.matmul(q, k, transpose_b=True)  # (..., seq_len_q, seq_len_k)\n",
    "  \n",
    "  # scale matmul_qk\n",
    "  dk = tf.cast(tf.shape(k)[-1], tf.float32)\n",
    "  scaled_attention_logits = matmul_qk / tf.math.sqrt(dk)\n",
    "\n",
    "  # add the mask to the scaled tensor.\n",
    "  if mask is not None:\n",
    "    scaled_attention_logits += (mask * -1e9)  \n",
    "\n",
    "  # softmax is normalized on the last axis (seq_len_k) so that the scores\n",
    "  # add up to 1.\n",
    "  attention_weights = tf.nn.softmax(scaled_attention_logits, axis=-1)  # (..., seq_len_q, seq_len_k)\n",
    "\n",
    "  output = tf.matmul(attention_weights, v)  # (..., seq_len_q, depth_v)\n",
    "\n",
    "  return output, attention_weights"
   ]
  },
  {
   "cell_type": "markdown",
   "metadata": {},
   "source": [
    "As the softmax normalization is done on K, its values decide the amount of importance given to Q.\n",
    "\n",
    "The output represents the multiplication of the attention weights and the V (value) vector. This ensures that the words you want to focus on are kept as-is and the irrelevant words are flushed out."
   ]
  },
  {
   "cell_type": "code",
   "execution_count": 21,
   "metadata": {},
   "outputs": [],
   "source": [
    "def print_out(q, k, v):\n",
    "  temp_out, temp_attn = scaled_dot_product_attention(\n",
    "      q, k, v, None)\n",
    "  print ('Attention weights are:')\n",
    "  print (temp_attn)\n",
    "  print ('Output is:')\n",
    "  print (temp_out)"
   ]
  },
  {
   "cell_type": "code",
   "execution_count": 22,
   "metadata": {},
   "outputs": [
    {
     "name": "stdout",
     "output_type": "stream",
     "text": [
      "Attention weights are:\n",
      "tf.Tensor([[0. 1. 0. 0.]], shape=(1, 4), dtype=float32)\n",
      "Output is:\n",
      "tf.Tensor([[10.  0.]], shape=(1, 2), dtype=float32)\n"
     ]
    }
   ],
   "source": [
    "np.set_printoptions(suppress=True)\n",
    "\n",
    "temp_k = tf.constant([[10,0,0],\n",
    "                      [0,10,0],\n",
    "                      [0,0,10],\n",
    "                      [0,0,10]], dtype=tf.float32)  # (4, 3)\n",
    "\n",
    "temp_v = tf.constant([[   1,0],\n",
    "                      [  10,0],\n",
    "                      [ 100,5],\n",
    "                      [1000,6]], dtype=tf.float32)  # (4, 2)\n",
    "\n",
    "# This `query` aligns with the second `key`,\n",
    "# so the second `value` is returned.\n",
    "temp_q = tf.constant([[0, 10, 0]], dtype=tf.float32)  # (1, 3)\n",
    "print_out(temp_q, temp_k, temp_v)"
   ]
  },
  {
   "cell_type": "code",
   "execution_count": 23,
   "metadata": {},
   "outputs": [
    {
     "name": "stdout",
     "output_type": "stream",
     "text": [
      "Attention weights are:\n",
      "tf.Tensor([[0.  0.  0.5 0.5]], shape=(1, 4), dtype=float32)\n",
      "Output is:\n",
      "tf.Tensor([[550.    5.5]], shape=(1, 2), dtype=float32)\n"
     ]
    }
   ],
   "source": [
    "# This query aligns with a repeated key (third and fourth), \n",
    "# so all associated values get averaged.\n",
    "temp_q = tf.constant([[0, 0, 10]], dtype=tf.float32)  # (1, 3)\n",
    "print_out(temp_q, temp_k, temp_v)"
   ]
  },
  {
   "cell_type": "code",
   "execution_count": 24,
   "metadata": {},
   "outputs": [
    {
     "name": "stdout",
     "output_type": "stream",
     "text": [
      "Attention weights are:\n",
      "tf.Tensor([[0.5 0.5 0.  0. ]], shape=(1, 4), dtype=float32)\n",
      "Output is:\n",
      "tf.Tensor([[5.5 0. ]], shape=(1, 2), dtype=float32)\n"
     ]
    }
   ],
   "source": [
    "# This query aligns equally with the first and second key, \n",
    "# so their values get averaged.\n",
    "temp_q = tf.constant([[10, 10, 0]], dtype=tf.float32)  # (1, 3)\n",
    "print_out(temp_q, temp_k, temp_v)"
   ]
  },
  {
   "cell_type": "markdown",
   "metadata": {},
   "source": [
    "Pass all the queries together."
   ]
  },
  {
   "cell_type": "code",
   "execution_count": 25,
   "metadata": {},
   "outputs": [
    {
     "name": "stdout",
     "output_type": "stream",
     "text": [
      "Attention weights are:\n",
      "tf.Tensor(\n",
      "[[0.  0.  0.5 0.5]\n",
      " [0.  1.  0.  0. ]\n",
      " [0.5 0.5 0.  0. ]], shape=(3, 4), dtype=float32)\n",
      "Output is:\n",
      "tf.Tensor(\n",
      "[[550.    5.5]\n",
      " [ 10.    0. ]\n",
      " [  5.5   0. ]], shape=(3, 2), dtype=float32)\n"
     ]
    }
   ],
   "source": [
    "temp_q = tf.constant([[0, 0, 10], [0, 10, 0], [10, 10, 0]], dtype=tf.float32)  # (3, 3)\n",
    "print_out(temp_q, temp_k, temp_v)"
   ]
  },
  {
   "cell_type": "markdown",
   "metadata": {},
   "source": [
    "## Multi-head attention"
   ]
  },
  {
   "cell_type": "markdown",
   "metadata": {},
   "source": [
    "Multi-head attention consists of four parts:\n",
    "\n",
    "* Linear layers and split into heads.\n",
    "* Scaled dot-product attention.\n",
    "* Concatenation of heads.\n",
    "* Final linear layer.\n",
    "\n",
    "Each multi-head attention block gets three inputs; Q (query), K (key), V (value). These are put through linear (Dense) layers and split up into multiple heads.\n",
    "\n",
    "The scaled_dot_product_attention defined above is applied to each head (broadcasted for efficiency). An appropriate mask must be used in the attention step. The attention output for each head is then concatenated (using tf.transpose, and tf.reshape) and put through a final Dense layer.\n",
    "\n",
    "Instead of one single attention head, Q, K, and V are split into multiple heads because it allows the model to jointly attend to information at different positions from different representational spaces. After the split each head has a reduced dimensionality, so the total computation cost is the same as a single head attention with full dimensionality."
   ]
  },
  {
   "cell_type": "code",
   "execution_count": 26,
   "metadata": {},
   "outputs": [],
   "source": [
    "class MultiHeadAttention(tf.keras.layers.Layer):\n",
    "  def __init__(self, d_model, num_heads):\n",
    "    super(MultiHeadAttention, self).__init__()\n",
    "    self.num_heads = num_heads\n",
    "    self.d_model = d_model\n",
    "    \n",
    "    assert d_model % self.num_heads == 0\n",
    "    \n",
    "    self.depth = d_model // self.num_heads\n",
    "    \n",
    "    self.wq = tf.keras.layers.Dense(d_model)\n",
    "    self.wk = tf.keras.layers.Dense(d_model)\n",
    "    self.wv = tf.keras.layers.Dense(d_model)\n",
    "    \n",
    "    self.dense = tf.keras.layers.Dense(d_model)\n",
    "        \n",
    "  def split_heads(self, x, batch_size):\n",
    "    \"\"\"Split the last dimension into (num_heads, depth).\n",
    "    Transpose the result such that the shape is (batch_size, num_heads, seq_len, depth)\n",
    "    \"\"\"\n",
    "    x = tf.reshape(x, (batch_size, -1, self.num_heads, self.depth))\n",
    "    return tf.transpose(x, perm=[0, 2, 1, 3])\n",
    "    \n",
    "  def call(self, v, k, q, mask):\n",
    "    batch_size = tf.shape(q)[0]\n",
    "    \n",
    "    q = self.wq(q)  # (batch_size, seq_len, d_model)\n",
    "    k = self.wk(k)  # (batch_size, seq_len, d_model)\n",
    "    v = self.wv(v)  # (batch_size, seq_len, d_model)\n",
    "    \n",
    "    q = self.split_heads(q, batch_size)  # (batch_size, num_heads, seq_len_q, depth)\n",
    "    k = self.split_heads(k, batch_size)  # (batch_size, num_heads, seq_len_k, depth)\n",
    "    v = self.split_heads(v, batch_size)  # (batch_size, num_heads, seq_len_v, depth)\n",
    "    \n",
    "    # scaled_attention.shape == (batch_size, num_heads, seq_len_q, depth)\n",
    "    # attention_weights.shape == (batch_size, num_heads, seq_len_q, seq_len_k)\n",
    "    scaled_attention, attention_weights = scaled_dot_product_attention(\n",
    "        q, k, v, mask)\n",
    "    \n",
    "    scaled_attention = tf.transpose(scaled_attention, perm=[0, 2, 1, 3])  # (batch_size, seq_len_q, num_heads, depth)\n",
    "\n",
    "    concat_attention = tf.reshape(scaled_attention, \n",
    "                                  (batch_size, -1, self.d_model))  # (batch_size, seq_len_q, d_model)\n",
    "\n",
    "    output = self.dense(concat_attention)  # (batch_size, seq_len_q, d_model)\n",
    "        \n",
    "    return output, attention_weights\n"
   ]
  },
  {
   "cell_type": "markdown",
   "metadata": {},
   "source": [
    "Create a MultiHeadAttention layer to try out. At each location in the sequence, y, the MultiHeadAttention runs all 8 attention heads across all other locations in the sequence, returning a new vector of the same length at each location."
   ]
  },
  {
   "cell_type": "code",
   "execution_count": 27,
   "metadata": {},
   "outputs": [
    {
     "data": {
      "text/plain": [
       "(TensorShape([1, 60, 512]), TensorShape([1, 8, 60, 60]))"
      ]
     },
     "execution_count": 27,
     "metadata": {},
     "output_type": "execute_result"
    }
   ],
   "source": [
    "temp_mha = MultiHeadAttention(d_model=512, num_heads=8)\n",
    "y = tf.random.uniform((1, 60, 512))  # (batch_size, encoder_sequence, d_model)\n",
    "out, attn = temp_mha(y, k=y, q=y, mask=None)\n",
    "out.shape, attn.shape"
   ]
  },
  {
   "cell_type": "markdown",
   "metadata": {},
   "source": [
    "## Point wise feed forward network"
   ]
  },
  {
   "cell_type": "markdown",
   "metadata": {},
   "source": [
    "Point wise feed forward network consists of two fully-connected layers with a ReLU activation in between."
   ]
  },
  {
   "cell_type": "code",
   "execution_count": 28,
   "metadata": {},
   "outputs": [],
   "source": [
    "def point_wise_feed_forward_network(d_model, dff):\n",
    "  return tf.keras.Sequential([\n",
    "      tf.keras.layers.Dense(dff, activation='relu'),  # (batch_size, seq_len, dff)\n",
    "      tf.keras.layers.Dense(d_model)  # (batch_size, seq_len, d_model)\n",
    "  ])"
   ]
  },
  {
   "cell_type": "code",
   "execution_count": 29,
   "metadata": {},
   "outputs": [
    {
     "data": {
      "text/plain": [
       "TensorShape([64, 50, 512])"
      ]
     },
     "execution_count": 29,
     "metadata": {},
     "output_type": "execute_result"
    }
   ],
   "source": [
    "sample_ffn = point_wise_feed_forward_network(512, 2048)\n",
    "sample_ffn(tf.random.uniform((64, 50, 512))).shape"
   ]
  },
  {
   "cell_type": "markdown",
   "metadata": {},
   "source": [
    "## Encoder and decoder"
   ]
  },
  {
   "cell_type": "markdown",
   "metadata": {},
   "source": [
    "The transformer model follows the same general pattern as a standard sequence to sequence with attention model.\n",
    "\n",
    "* The input sentence is passed through N encoder layers that generates an output for each word/token in the sequence.\n",
    "* The decoder attends on the encoder's output and its own input (self-attention) to predict the next word."
   ]
  },
  {
   "cell_type": "markdown",
   "metadata": {},
   "source": [
    "### Encoder layer"
   ]
  },
  {
   "cell_type": "markdown",
   "metadata": {},
   "source": [
    "Each encoder layer consists of sublayers:\n",
    "\n",
    "1. Multi-head attention (with padding mask)\n",
    "2. Point wise feed forward networks.\n",
    "\n",
    "Each of these sublayers has a residual connection around it followed by a layer normalization. Residual connections help in avoiding the vanishing gradient problem in deep networks.\n",
    "\n",
    "The output of each sublayer is LayerNorm(x + Sublayer(x)). The normalization is done on the d_model (last) axis. There are N encoder layers in the transformer."
   ]
  },
  {
   "cell_type": "code",
   "execution_count": 30,
   "metadata": {},
   "outputs": [],
   "source": [
    "class EncoderLayer(tf.keras.layers.Layer):\n",
    "  def __init__(self, d_model, num_heads, dff, rate=0.1):\n",
    "    super(EncoderLayer, self).__init__()\n",
    "\n",
    "    self.mha = MultiHeadAttention(d_model, num_heads)\n",
    "    self.ffn = point_wise_feed_forward_network(d_model, dff)\n",
    "\n",
    "    self.layernorm1 = tf.keras.layers.LayerNormalization(epsilon=1e-6)\n",
    "    self.layernorm2 = tf.keras.layers.LayerNormalization(epsilon=1e-6)\n",
    "    \n",
    "    self.dropout1 = tf.keras.layers.Dropout(rate)\n",
    "    self.dropout2 = tf.keras.layers.Dropout(rate)\n",
    "    \n",
    "  def call(self, x, training, mask):\n",
    "\n",
    "    attn_output, _ = self.mha(x, x, x, mask)  # (batch_size, input_seq_len, d_model)\n",
    "    attn_output = self.dropout1(attn_output, training=training)\n",
    "    out1 = self.layernorm1(x + attn_output)  # (batch_size, input_seq_len, d_model)\n",
    "    \n",
    "    ffn_output = self.ffn(out1)  # (batch_size, input_seq_len, d_model)\n",
    "    ffn_output = self.dropout2(ffn_output, training=training)\n",
    "    out2 = self.layernorm2(out1 + ffn_output)  # (batch_size, input_seq_len, d_model)\n",
    "    \n",
    "    return out2"
   ]
  },
  {
   "cell_type": "code",
   "execution_count": 31,
   "metadata": {},
   "outputs": [
    {
     "data": {
      "text/plain": [
       "TensorShape([64, 43, 512])"
      ]
     },
     "execution_count": 31,
     "metadata": {},
     "output_type": "execute_result"
    }
   ],
   "source": [
    "sample_encoder_layer = EncoderLayer(512, 8, 2048)\n",
    "\n",
    "sample_encoder_layer_output = sample_encoder_layer(\n",
    "    tf.random.uniform((64, 43, 512)), False, None)\n",
    "\n",
    "sample_encoder_layer_output.shape  # (batch_size, input_seq_len, d_model)"
   ]
  },
  {
   "cell_type": "markdown",
   "metadata": {},
   "source": [
    "### Decoder layer"
   ]
  },
  {
   "cell_type": "markdown",
   "metadata": {},
   "source": [
    "Each decoder layer consists of sublayers:\n",
    "\n",
    "1. Masked multi-head attention (with look ahead mask and padding mask)\n",
    "2. Multi-head attention (with padding mask). V (value) and K (key) receive the encoder output as inputs. Q (query) receives the output from the masked multi-head attention sublayer.\n",
    "3. Point wise feed forward networks\n",
    "\n",
    "Each of these sublayers has a residual connection around it followed by a layer normalization. The output of each sublayer is LayerNorm(x + Sublayer(x)). The normalization is done on the d_model (last) axis.\n",
    "\n",
    "There are N decoder layers in the transformer.\n",
    "\n",
    "As Q receives the output from decoder's first attention block, and K receives the encoder output, the attention weights represent the importance given to the decoder's input based on the encoder's output. In other words, the decoder predicts the next word by looking at the encoder output and self-attending to its own output. See the demonstration above in the scaled dot product attention section."
   ]
  },
  {
   "cell_type": "code",
   "execution_count": 32,
   "metadata": {},
   "outputs": [],
   "source": [
    "class DecoderLayer(tf.keras.layers.Layer):\n",
    "  def __init__(self, d_model, num_heads, dff, rate=0.1):\n",
    "    super(DecoderLayer, self).__init__()\n",
    "\n",
    "    self.mha1 = MultiHeadAttention(d_model, num_heads)\n",
    "    self.mha2 = MultiHeadAttention(d_model, num_heads)\n",
    "\n",
    "    self.ffn = point_wise_feed_forward_network(d_model, dff)\n",
    " \n",
    "    self.layernorm1 = tf.keras.layers.LayerNormalization(epsilon=1e-6)\n",
    "    self.layernorm2 = tf.keras.layers.LayerNormalization(epsilon=1e-6)\n",
    "    self.layernorm3 = tf.keras.layers.LayerNormalization(epsilon=1e-6)\n",
    "    \n",
    "    self.dropout1 = tf.keras.layers.Dropout(rate)\n",
    "    self.dropout2 = tf.keras.layers.Dropout(rate)\n",
    "    self.dropout3 = tf.keras.layers.Dropout(rate)\n",
    "    \n",
    "    \n",
    "  def call(self, x, enc_output, training, \n",
    "           look_ahead_mask, padding_mask):\n",
    "    # enc_output.shape == (batch_size, input_seq_len, d_model)\n",
    "\n",
    "    attn1, attn_weights_block1 = self.mha1(x, x, x, look_ahead_mask)  # (batch_size, target_seq_len, d_model)\n",
    "    attn1 = self.dropout1(attn1, training=training)\n",
    "    out1 = self.layernorm1(attn1 + x)\n",
    "    \n",
    "    attn2, attn_weights_block2 = self.mha2(\n",
    "        enc_output, enc_output, out1, padding_mask)  # (batch_size, target_seq_len, d_model)\n",
    "    attn2 = self.dropout2(attn2, training=training)\n",
    "    out2 = self.layernorm2(attn2 + out1)  # (batch_size, target_seq_len, d_model)\n",
    "    \n",
    "    ffn_output = self.ffn(out2)  # (batch_size, target_seq_len, d_model)\n",
    "    ffn_output = self.dropout3(ffn_output, training=training)\n",
    "    out3 = self.layernorm3(ffn_output + out2)  # (batch_size, target_seq_len, d_model)\n",
    "    \n",
    "    return out3, attn_weights_block1, attn_weights_block2"
   ]
  },
  {
   "cell_type": "code",
   "execution_count": 33,
   "metadata": {},
   "outputs": [
    {
     "data": {
      "text/plain": [
       "TensorShape([64, 50, 512])"
      ]
     },
     "execution_count": 33,
     "metadata": {},
     "output_type": "execute_result"
    }
   ],
   "source": [
    "sample_decoder_layer = DecoderLayer(512, 8, 2048)\n",
    "\n",
    "sample_decoder_layer_output, _, _ = sample_decoder_layer(\n",
    "    tf.random.uniform((64, 50, 512)), sample_encoder_layer_output, \n",
    "    False, None, None)\n",
    "\n",
    "sample_decoder_layer_output.shape  # (batch_size, target_seq_len, d_model)"
   ]
  },
  {
   "cell_type": "markdown",
   "metadata": {},
   "source": [
    "### Encoder"
   ]
  },
  {
   "cell_type": "markdown",
   "metadata": {},
   "source": [
    "The Encoder consists of:\n",
    "\n",
    "1. Input Embedding\n",
    "2. Positional Encoding\n",
    "3. N encoder layers\n",
    "\n",
    "The input is put through an embedding which is summed with the positional encoding. The output of this summation is the input to the encoder layers. The output of the encoder is the input to the decoder."
   ]
  },
  {
   "cell_type": "code",
   "execution_count": 34,
   "metadata": {},
   "outputs": [],
   "source": [
    "class Encoder(tf.keras.layers.Layer):\n",
    "  def __init__(self, num_layers, d_model, num_heads, dff, input_vocab_size,\n",
    "               maximum_position_encoding, rate=0.1):\n",
    "    super(Encoder, self).__init__()\n",
    "\n",
    "    self.d_model = d_model\n",
    "    self.num_layers = num_layers\n",
    "    \n",
    "    self.embedding = tf.keras.layers.Embedding(input_vocab_size, d_model)\n",
    "    self.pos_encoding = positional_encoding(maximum_position_encoding, \n",
    "                                            self.d_model)\n",
    "    \n",
    "    \n",
    "    self.enc_layers = [EncoderLayer(d_model, num_heads, dff, rate) \n",
    "                       for _ in range(num_layers)]\n",
    "  \n",
    "    self.dropout = tf.keras.layers.Dropout(rate)\n",
    "        \n",
    "  def call(self, x, training, mask):\n",
    "\n",
    "    seq_len = tf.shape(x)[1]\n",
    "    \n",
    "    # adding embedding and position encoding.\n",
    "    x = self.embedding(x)  # (batch_size, input_seq_len, d_model)\n",
    "    x *= tf.math.sqrt(tf.cast(self.d_model, tf.float32))\n",
    "    x += self.pos_encoding[:, :seq_len, :]\n",
    "\n",
    "    x = self.dropout(x, training=training)\n",
    "    \n",
    "    for i in range(self.num_layers):\n",
    "      x = self.enc_layers[i](x, training, mask)\n",
    "    \n",
    "    return x  # (batch_size, input_seq_len, d_model)"
   ]
  },
  {
   "cell_type": "code",
   "execution_count": 35,
   "metadata": {},
   "outputs": [
    {
     "name": "stdout",
     "output_type": "stream",
     "text": [
      "(64, 62, 512)\n"
     ]
    }
   ],
   "source": [
    "sample_encoder = Encoder(num_layers=2, d_model=512, num_heads=8, \n",
    "                         dff=2048, input_vocab_size=8500,\n",
    "                         maximum_position_encoding=10000)\n",
    "temp_input = tf.random.uniform((64, 62), dtype=tf.int64, minval=0, maxval=200)\n",
    "\n",
    "sample_encoder_output = sample_encoder(temp_input, training=False, mask=None)\n",
    "\n",
    "print (sample_encoder_output.shape)  # (batch_size, input_seq_len, d_model)"
   ]
  },
  {
   "cell_type": "markdown",
   "metadata": {},
   "source": [
    "### Decoder"
   ]
  },
  {
   "cell_type": "markdown",
   "metadata": {},
   "source": [
    "The Decoder consists of:\n",
    "\n",
    "1. Output Embedding\n",
    "2. Positional Encoding\n",
    "3. N decoder layers\n",
    "\n",
    "The target is put through an embedding which is summed with the positional encoding. The output of this summation is the input to the decoder layers. The output of the decoder is the input to the final linear layer."
   ]
  },
  {
   "cell_type": "code",
   "execution_count": 36,
   "metadata": {},
   "outputs": [],
   "source": [
    "class Decoder(tf.keras.layers.Layer):\n",
    "  def __init__(self, num_layers, d_model, num_heads, dff, target_vocab_size,\n",
    "               maximum_position_encoding, rate=0.1):\n",
    "    super(Decoder, self).__init__()\n",
    "\n",
    "    self.d_model = d_model\n",
    "    self.num_layers = num_layers\n",
    "    \n",
    "    self.embedding = tf.keras.layers.Embedding(target_vocab_size, d_model)\n",
    "    self.pos_encoding = positional_encoding(maximum_position_encoding, d_model)\n",
    "    \n",
    "    self.dec_layers = [DecoderLayer(d_model, num_heads, dff, rate) \n",
    "                       for _ in range(num_layers)]\n",
    "    self.dropout = tf.keras.layers.Dropout(rate)\n",
    "    \n",
    "  def call(self, x, enc_output, training, \n",
    "           look_ahead_mask, padding_mask):\n",
    "\n",
    "    seq_len = tf.shape(x)[1]\n",
    "    attention_weights = {}\n",
    "    \n",
    "    x = self.embedding(x)  # (batch_size, target_seq_len, d_model)\n",
    "    x *= tf.math.sqrt(tf.cast(self.d_model, tf.float32))\n",
    "    x += self.pos_encoding[:, :seq_len, :]\n",
    "    \n",
    "    x = self.dropout(x, training=training)\n",
    "\n",
    "    for i in range(self.num_layers):\n",
    "      x, block1, block2 = self.dec_layers[i](x, enc_output, training,\n",
    "                                             look_ahead_mask, padding_mask)\n",
    "      \n",
    "      attention_weights['decoder_layer{}_block1'.format(i+1)] = block1\n",
    "      attention_weights['decoder_layer{}_block2'.format(i+1)] = block2\n",
    "    \n",
    "    # x.shape == (batch_size, target_seq_len, d_model)\n",
    "    return x, attention_weights"
   ]
  },
  {
   "cell_type": "markdown",
   "metadata": {},
   "source": [
    "## Create the Transformer"
   ]
  },
  {
   "cell_type": "markdown",
   "metadata": {},
   "source": [
    "Transformer consists of the encoder, decoder and a final linear layer. The output of the decoder is the input to the linear layer and its output is returned."
   ]
  },
  {
   "cell_type": "code",
   "execution_count": 37,
   "metadata": {},
   "outputs": [],
   "source": [
    "class Transformer(tf.keras.Model):\n",
    "  def __init__(self, num_layers, d_model, num_heads, dff, input_vocab_size, \n",
    "               target_vocab_size, pe_input, pe_target, rate=0.1):\n",
    "    super(Transformer, self).__init__()\n",
    "\n",
    "    self.encoder = Encoder(num_layers, d_model, num_heads, dff, \n",
    "                           input_vocab_size, pe_input, rate)\n",
    "\n",
    "    self.decoder = Decoder(num_layers, d_model, num_heads, dff, \n",
    "                           target_vocab_size, pe_target, rate)\n",
    "\n",
    "    self.final_layer = tf.keras.layers.Dense(target_vocab_size)\n",
    "    \n",
    "  def call(self, inp, tar, training, enc_padding_mask, \n",
    "           look_ahead_mask, dec_padding_mask):\n",
    "\n",
    "    enc_output = self.encoder(inp, training, enc_padding_mask)  # (batch_size, inp_seq_len, d_model)\n",
    "    \n",
    "    # dec_output.shape == (batch_size, tar_seq_len, d_model)\n",
    "    dec_output, attention_weights = self.decoder(\n",
    "        tar, enc_output, training, look_ahead_mask, dec_padding_mask)\n",
    "    \n",
    "    final_output = self.final_layer(dec_output)  # (batch_size, tar_seq_len, target_vocab_size)\n",
    "    \n",
    "    return final_output, attention_weights"
   ]
  },
  {
   "cell_type": "code",
   "execution_count": 38,
   "metadata": {},
   "outputs": [
    {
     "data": {
      "text/plain": [
       "TensorShape([64, 36, 8000])"
      ]
     },
     "execution_count": 38,
     "metadata": {},
     "output_type": "execute_result"
    }
   ],
   "source": [
    "sample_transformer = Transformer(\n",
    "    num_layers=2, d_model=512, num_heads=8, dff=2048, \n",
    "    input_vocab_size=8500, target_vocab_size=8000, \n",
    "    pe_input=10000, pe_target=6000)\n",
    "\n",
    "temp_input = tf.random.uniform((64, 38), dtype=tf.int64, minval=0, maxval=200)\n",
    "temp_target = tf.random.uniform((64, 36), dtype=tf.int64, minval=0, maxval=200)\n",
    "\n",
    "fn_out, _ = sample_transformer(temp_input, temp_target, training=False, \n",
    "                               enc_padding_mask=None, \n",
    "                               look_ahead_mask=None,\n",
    "                               dec_padding_mask=None)\n",
    "\n",
    "fn_out.shape  # (batch_size, tar_seq_len, target_vocab_size)"
   ]
  },
  {
   "cell_type": "markdown",
   "metadata": {},
   "source": [
    "## Set hyperparameters"
   ]
  },
  {
   "cell_type": "markdown",
   "metadata": {},
   "source": [
    "To keep this example small and relatively fast, the values for num_layers, d_model, and dff have been reduced.\n",
    "\n",
    "The values used in the base model of transformer were; num_layers=6, d_model = 512, dff = 2048. See the paper for all the other versions of the transformer."
   ]
  },
  {
   "cell_type": "markdown",
   "metadata": {},
   "source": [
    "<div class=\"alert alert-block alert-info\">\n",
    "<b>Note:</b> By changing the values below, you can get the model that achieved state of the art on many tasks.\n",
    "</div>"
   ]
  },
  {
   "cell_type": "code",
   "execution_count": 39,
   "metadata": {},
   "outputs": [],
   "source": [
    "num_layers = 4\n",
    "d_model = 128\n",
    "dff = 512\n",
    "num_heads = 8\n",
    "\n",
    "input_vocab_size = tokenizer_pt.vocab_size + 2\n",
    "target_vocab_size = tokenizer_en.vocab_size + 2\n",
    "dropout_rate = 0.1"
   ]
  },
  {
   "cell_type": "markdown",
   "metadata": {},
   "source": [
    "## Optimizer"
   ]
  },
  {
   "cell_type": "markdown",
   "metadata": {},
   "source": [
    "Use the Adam optimizer with a custom learning rate scheduler according to the formula in the paper."
   ]
  },
  {
   "cell_type": "code",
   "execution_count": 40,
   "metadata": {},
   "outputs": [],
   "source": [
    "class CustomSchedule(tf.keras.optimizers.schedules.LearningRateSchedule):\n",
    "  def __init__(self, d_model, warmup_steps=4000):\n",
    "    super(CustomSchedule, self).__init__()\n",
    "    \n",
    "    self.d_model = d_model\n",
    "    self.d_model = tf.cast(self.d_model, tf.float32)\n",
    "\n",
    "    self.warmup_steps = warmup_steps\n",
    "    \n",
    "  def __call__(self, step):\n",
    "    arg1 = tf.math.rsqrt(step)\n",
    "    arg2 = step * (self.warmup_steps ** -1.5)\n",
    "    \n",
    "    return tf.math.rsqrt(self.d_model) * tf.math.minimum(arg1, arg2)"
   ]
  },
  {
   "cell_type": "code",
   "execution_count": 41,
   "metadata": {},
   "outputs": [],
   "source": [
    "learning_rate = CustomSchedule(d_model)\n",
    "\n",
    "optimizer = tf.keras.optimizers.Adam(learning_rate, beta_1=0.9, beta_2=0.98, \n",
    "                                     epsilon=1e-9)"
   ]
  },
  {
   "cell_type": "code",
   "execution_count": 42,
   "metadata": {},
   "outputs": [
    {
     "data": {
      "text/plain": [
       "Text(0.5, 0, 'Train Step')"
      ]
     },
     "execution_count": 42,
     "metadata": {},
     "output_type": "execute_result"
    },
    {
     "data": {
      "image/png": "[encoded data removed]",
      "text/plain": [
       "<Figure size 432x288 with 1 Axes>"
      ]
     },
     "metadata": {
      "needs_background": "light"
     },
     "output_type": "display_data"
    }
   ],
   "source": [
    "temp_learning_rate_schedule = CustomSchedule(d_model)\n",
    "\n",
    "plt.plot(temp_learning_rate_schedule(tf.range(40000, dtype=tf.float32)))\n",
    "plt.ylabel(\"Learning Rate\")\n",
    "plt.xlabel(\"Train Step\")"
   ]
  },
  {
   "cell_type": "markdown",
   "metadata": {},
   "source": [
    "## Loss and metrics"
   ]
  },
  {
   "cell_type": "markdown",
   "metadata": {},
   "source": [
    "Since the target sequences are padded, it is important to apply a padding mask when calculating the loss."
   ]
  },
  {
   "cell_type": "code",
   "execution_count": 43,
   "metadata": {},
   "outputs": [],
   "source": [
    "loss_object = tf.keras.losses.SparseCategoricalCrossentropy(\n",
    "    from_logits=True, reduction='none')"
   ]
  },
  {
   "cell_type": "code",
   "execution_count": 44,
   "metadata": {},
   "outputs": [],
   "source": [
    "def loss_function(real, pred):\n",
    "  mask = tf.math.logical_not(tf.math.equal(real, 0))\n",
    "  loss_ = loss_object(real, pred)\n",
    "\n",
    "  mask = tf.cast(mask, dtype=loss_.dtype)\n",
    "  loss_ *= mask\n",
    "  \n",
    "  return tf.reduce_mean(loss_)"
   ]
  },
  {
   "cell_type": "code",
   "execution_count": 45,
   "metadata": {},
   "outputs": [],
   "source": [
    "train_loss = tf.keras.metrics.Mean(name='train_loss')\n",
    "train_accuracy = tf.keras.metrics.SparseCategoricalAccuracy(\n",
    "    name='train_accuracy')"
   ]
  },
  {
   "cell_type": "markdown",
   "metadata": {},
   "source": [
    "## Training and checkpointing"
   ]
  },
  {
   "cell_type": "code",
   "execution_count": 46,
   "metadata": {},
   "outputs": [],
   "source": [
    "transformer = Transformer(num_layers, d_model, num_heads, dff,\n",
    "                          input_vocab_size, target_vocab_size, \n",
    "                          pe_input=input_vocab_size, \n",
    "                          pe_target=target_vocab_size,\n",
    "                          rate=dropout_rate)"
   ]
  },
  {
   "cell_type": "code",
   "execution_count": 47,
   "metadata": {},
   "outputs": [],
   "source": [
    "def create_masks(inp, tar):\n",
    "  # Encoder padding mask\n",
    "  enc_padding_mask = create_padding_mask(inp)\n",
    "  \n",
    "  # Used in the 2nd attention block in the decoder.\n",
    "  # This padding mask is used to mask the encoder outputs.\n",
    "  dec_padding_mask = create_padding_mask(inp)\n",
    "  \n",
    "  # Used in the 1st attention block in the decoder.\n",
    "  # It is used to pad and mask future tokens in the input received by \n",
    "  # the decoder.\n",
    "  look_ahead_mask = create_look_ahead_mask(tf.shape(tar)[1])\n",
    "  dec_target_padding_mask = create_padding_mask(tar)\n",
    "  combined_mask = tf.maximum(dec_target_padding_mask, look_ahead_mask)\n",
    "  \n",
    "  return enc_padding_mask, combined_mask, dec_padding_mask"
   ]
  },
  {
   "cell_type": "markdown",
   "metadata": {},
   "source": [
    "Create the checkpoint path and the checkpoint manager. This will be used to save checkpoints every n epochs."
   ]
  },
  {
   "cell_type": "code",
   "execution_count": 48,
   "metadata": {},
   "outputs": [
    {
     "name": "stdout",
     "output_type": "stream",
     "text": [
      "Latest checkpoint restored!!\n"
     ]
    }
   ],
   "source": [
    "checkpoint_path = \"./checkpoints/train\"\n",
    "\n",
    "ckpt = tf.train.Checkpoint(transformer=transformer,\n",
    "                           optimizer=optimizer)\n",
    "\n",
    "ckpt_manager = tf.train.CheckpointManager(ckpt, checkpoint_path, max_to_keep=5)\n",
    "\n",
    "# if a checkpoint exists, restore the latest checkpoint.\n",
    "if ckpt_manager.latest_checkpoint:\n",
    "  ckpt.restore(ckpt_manager.latest_checkpoint)\n",
    "  print ('Latest checkpoint restored!!')"
   ]
  },
  {
   "cell_type": "markdown",
   "metadata": {},
   "source": [
    "The target is divided into tar_inp and tar_real. tar_inp is passed as an input to the decoder. tar_real is that same input shifted by 1: At each location in tar_input, tar_real contains the next token that should be predicted.\n",
    "\n",
    "For example, sentence = \"SOS A lion in the jungle is sleeping EOS\"\n",
    "\n",
    "tar_inp = \"SOS A lion in the jungle is sleeping\"\n",
    "\n",
    "tar_real = \"A lion in the jungle is sleeping EOS\"\n",
    "\n",
    "The transformer is an auto-regressive model: it makes predictions one part at a time, and uses its output so far to decide what to do next.\n",
    "\n",
    "During training this example uses teacher-forcing (like in the text generation tutorial). Teacher forcing is passing the true output to the next time step regardless of what the model predicts at the current time step.\n",
    "\n",
    "As the transformer predicts each word, self-attention allows it to look at the previous words in the input sequence to better predict the next word.\n",
    "\n",
    "To prevent the model from peaking at the expected output the model uses a look-ahead mask."
   ]
  },
  {
   "cell_type": "code",
   "execution_count": 49,
   "metadata": {},
   "outputs": [],
   "source": [
    "EPOCHS = 20"
   ]
  },
  {
   "cell_type": "code",
   "execution_count": 50,
   "metadata": {},
   "outputs": [],
   "source": [
    "# The @tf.function trace-compiles train_step into a TF graph for faster\n",
    "# execution. The function specializes to the precise shape of the argument\n",
    "# tensors. To avoid re-tracing due to the variable sequence lengths or variable\n",
    "# batch sizes (the last batch is smaller), use input_signature to specify\n",
    "# more generic shapes.\n",
    "\n",
    "train_step_signature = [\n",
    "    tf.TensorSpec(shape=(None, None), dtype=tf.int64),\n",
    "    tf.TensorSpec(shape=(None, None), dtype=tf.int64),\n",
    "]\n",
    "\n",
    "@tf.function(input_signature=train_step_signature)\n",
    "def train_step(inp, tar):\n",
    "  tar_inp = tar[:, :-1]\n",
    "  tar_real = tar[:, 1:]\n",
    "  \n",
    "  enc_padding_mask, combined_mask, dec_padding_mask = create_masks(inp, tar_inp)\n",
    "  \n",
    "  with tf.GradientTape() as tape:\n",
    "    predictions, _ = transformer(inp, tar_inp, \n",
    "                                 True, \n",
    "                                 enc_padding_mask, \n",
    "                                 combined_mask, \n",
    "                                 dec_padding_mask)\n",
    "    loss = loss_function(tar_real, predictions)\n",
    "\n",
    "  gradients = tape.gradient(loss, transformer.trainable_variables)    \n",
    "  optimizer.apply_gradients(zip(gradients, transformer.trainable_variables))\n",
    "  \n",
    "  train_loss(loss)\n",
    "  train_accuracy(tar_real, predictions)"
   ]
  },
  {
   "cell_type": "markdown",
   "metadata": {},
   "source": [
    "Portuguese is used as the input language and English is the target language."
   ]
  },
  {
   "cell_type": "code",
   "execution_count": 51,
   "metadata": {},
   "outputs": [
    {
     "name": "stdout",
     "output_type": "stream",
     "text": [
      "Epoch 1 Batch 0 Loss 4.3568 Accuracy 0.0000\n",
      "Epoch 1 Batch 50 Loss 3.1682 Accuracy 0.0263\n",
      "Epoch 1 Batch 100 Loss 3.1319 Accuracy 0.0266\n",
      "Epoch 1 Batch 150 Loss 3.1014 Accuracy 0.0267\n",
      "Epoch 1 Batch 200 Loss 3.0917 Accuracy 0.0267\n",
      "Epoch 1 Batch 250 Loss 3.0927 Accuracy 0.0268\n",
      "Epoch 1 Batch 300 Loss 3.0953 Accuracy 0.0268\n",
      "Epoch 1 Batch 350 Loss 3.0845 Accuracy 0.0268\n",
      "Epoch 1 Batch 400 Loss 3.0791 Accuracy 0.0269\n",
      "Epoch 1 Batch 450 Loss 3.0811 Accuracy 0.0269\n",
      "Epoch 1 Batch 500 Loss 3.0840 Accuracy 0.0270\n",
      "Epoch 1 Batch 550 Loss 3.0803 Accuracy 0.0269\n",
      "Epoch 1 Batch 600 Loss 3.0800 Accuracy 0.0269\n",
      "Epoch 1 Batch 650 Loss 3.0763 Accuracy 0.0269\n",
      "Epoch 1 Batch 700 Loss 3.0783 Accuracy 0.0269\n",
      "Epoch 1 Loss 3.0781 Accuracy 0.0269\n",
      "Time taken for 1 epoch: 90.96092247962952 secs\n",
      "\n",
      "Epoch 2 Batch 0 Loss 3.4253 Accuracy 0.0263\n",
      "Epoch 2 Batch 50 Loss 3.0155 Accuracy 0.0268\n",
      "Epoch 2 Batch 100 Loss 3.0363 Accuracy 0.0269\n",
      "Epoch 2 Batch 150 Loss 3.0410 Accuracy 0.0270\n",
      "Epoch 2 Batch 200 Loss 3.0468 Accuracy 0.0270\n",
      "Epoch 2 Batch 250 Loss 3.0445 Accuracy 0.0270\n",
      "Epoch 2 Batch 300 Loss 3.0441 Accuracy 0.0270\n",
      "Epoch 2 Batch 350 Loss 3.0470 Accuracy 0.0270\n",
      "Epoch 2 Batch 400 Loss 3.0549 Accuracy 0.0270\n",
      "Epoch 2 Batch 450 Loss 3.0460 Accuracy 0.0270\n",
      "Epoch 2 Batch 500 Loss 3.0496 Accuracy 0.0270\n",
      "Epoch 2 Batch 550 Loss 3.0549 Accuracy 0.0270\n",
      "Epoch 2 Batch 600 Loss 3.0546 Accuracy 0.0270\n",
      "Epoch 2 Batch 650 Loss 3.0527 Accuracy 0.0270\n",
      "Epoch 2 Batch 700 Loss 3.0557 Accuracy 0.0270\n",
      "Epoch 2 Loss 3.0554 Accuracy 0.0270\n",
      "Time taken for 1 epoch: 70.16430997848511 secs\n",
      "\n",
      "Epoch 3 Batch 0 Loss 3.1982 Accuracy 0.0263\n",
      "Epoch 3 Batch 50 Loss 3.0498 Accuracy 0.0268\n",
      "Epoch 3 Batch 100 Loss 3.0295 Accuracy 0.0267\n",
      "Epoch 3 Batch 150 Loss 3.0259 Accuracy 0.0267\n",
      "Epoch 3 Batch 200 Loss 3.0488 Accuracy 0.0269\n",
      "Epoch 3 Batch 250 Loss 3.0421 Accuracy 0.0269\n",
      "Epoch 3 Batch 300 Loss 3.0473 Accuracy 0.0269\n",
      "Epoch 3 Batch 350 Loss 3.0555 Accuracy 0.0269\n",
      "Epoch 3 Batch 400 Loss 3.0504 Accuracy 0.0269\n",
      "Epoch 3 Batch 450 Loss 3.0521 Accuracy 0.0269\n",
      "Epoch 3 Batch 500 Loss 3.0508 Accuracy 0.0270\n",
      "Epoch 3 Batch 550 Loss 3.0524 Accuracy 0.0273\n",
      "Epoch 3 Batch 600 Loss 3.0486 Accuracy 0.0275\n",
      "Epoch 3 Batch 650 Loss 3.0414 Accuracy 0.0279\n",
      "Epoch 3 Batch 700 Loss 3.0406 Accuracy 0.0284\n",
      "Epoch 3 Loss 3.0409 Accuracy 0.0284\n",
      "Time taken for 1 epoch: 70.18374514579773 secs\n",
      "\n",
      "Epoch 4 Batch 0 Loss 3.1232 Accuracy 0.0418\n",
      "Epoch 4 Batch 50 Loss 3.0003 Accuracy 0.0359\n",
      "Epoch 4 Batch 100 Loss 2.9870 Accuracy 0.0362\n",
      "Epoch 4 Batch 150 Loss 2.9803 Accuracy 0.0362\n",
      "Epoch 4 Batch 200 Loss 2.9754 Accuracy 0.0364\n",
      "Epoch 4 Batch 250 Loss 2.9722 Accuracy 0.0365\n",
      "Epoch 4 Batch 300 Loss 2.9813 Accuracy 0.0367\n",
      "Epoch 4 Batch 350 Loss 2.9748 Accuracy 0.0367\n",
      "Epoch 4 Batch 400 Loss 2.9720 Accuracy 0.0369\n",
      "Epoch 4 Batch 450 Loss 2.9765 Accuracy 0.0371\n",
      "Epoch 4 Batch 500 Loss 2.9774 Accuracy 0.0372\n",
      "Epoch 4 Batch 550 Loss 2.9766 Accuracy 0.0373\n",
      "Epoch 4 Batch 600 Loss 2.9761 Accuracy 0.0374\n",
      "Epoch 4 Batch 650 Loss 2.9778 Accuracy 0.0375\n",
      "Epoch 4 Batch 700 Loss 2.9793 Accuracy 0.0376\n",
      "Epoch 4 Loss 2.9792 Accuracy 0.0376\n",
      "Time taken for 1 epoch: 70.18410611152649 secs\n",
      "\n",
      "Epoch 5 Batch 0 Loss 3.3034 Accuracy 0.0449\n",
      "Epoch 5 Batch 50 Loss 2.9548 Accuracy 0.0393\n",
      "Epoch 5 Batch 100 Loss 2.9392 Accuracy 0.0389\n",
      "Epoch 5 Batch 150 Loss 2.9475 Accuracy 0.0391\n",
      "Epoch 5 Batch 200 Loss 2.9452 Accuracy 0.0391\n",
      "Epoch 5 Batch 250 Loss 2.9435 Accuracy 0.0391\n",
      "Epoch 5 Batch 300 Loss 2.9433 Accuracy 0.0391\n",
      "Epoch 5 Batch 350 Loss 2.9399 Accuracy 0.0392\n",
      "Epoch 5 Batch 400 Loss 2.9465 Accuracy 0.0394\n",
      "Epoch 5 Batch 450 Loss 2.9525 Accuracy 0.0396\n",
      "Epoch 5 Batch 500 Loss 2.9590 Accuracy 0.0397\n",
      "Epoch 5 Batch 550 Loss 2.9585 Accuracy 0.0397\n",
      "Epoch 5 Batch 600 Loss 2.9609 Accuracy 0.0397\n",
      "Epoch 5 Batch 650 Loss 2.9602 Accuracy 0.0398\n",
      "Epoch 5 Batch 700 Loss 2.9583 Accuracy 0.0398\n",
      "Saving checkpoint for epoch 5 at ./checkpoints/train\\ckpt-5\n",
      "Epoch 5 Loss 2.9576 Accuracy 0.0398\n",
      "Time taken for 1 epoch: 70.90915083885193 secs\n",
      "\n",
      "Epoch 6 Batch 0 Loss 2.8286 Accuracy 0.0377\n",
      "Epoch 6 Batch 50 Loss 3.0037 Accuracy 0.0406\n",
      "Epoch 6 Batch 100 Loss 2.9851 Accuracy 0.0404\n",
      "Epoch 6 Batch 150 Loss 2.9646 Accuracy 0.0403\n",
      "Epoch 6 Batch 200 Loss 2.9530 Accuracy 0.0403\n",
      "Epoch 6 Batch 250 Loss 2.9416 Accuracy 0.0403\n",
      "Epoch 6 Batch 300 Loss 2.9411 Accuracy 0.0404\n",
      "Epoch 6 Batch 350 Loss 2.9425 Accuracy 0.0404\n",
      "Epoch 6 Batch 400 Loss 2.9544 Accuracy 0.0406\n",
      "Epoch 6 Batch 450 Loss 2.9508 Accuracy 0.0406\n",
      "Epoch 6 Batch 500 Loss 2.9546 Accuracy 0.0407\n",
      "Epoch 6 Batch 550 Loss 2.9534 Accuracy 0.0407\n",
      "Epoch 6 Batch 600 Loss 2.9540 Accuracy 0.0407\n",
      "Epoch 6 Batch 650 Loss 2.9531 Accuracy 0.0408\n",
      "Epoch 6 Batch 700 Loss 2.9550 Accuracy 0.0408\n",
      "Epoch 6 Loss 2.9546 Accuracy 0.0408\n",
      "Time taken for 1 epoch: 70.03848958015442 secs\n",
      "\n",
      "Epoch 7 Batch 0 Loss 3.1715 Accuracy 0.0397\n",
      "Epoch 7 Batch 50 Loss 2.9269 Accuracy 0.0411\n",
      "Epoch 7 Batch 100 Loss 2.9074 Accuracy 0.0406\n",
      "Epoch 7 Batch 150 Loss 2.9144 Accuracy 0.0407\n",
      "Epoch 7 Batch 200 Loss 2.9249 Accuracy 0.0407\n",
      "Epoch 7 Batch 250 Loss 2.9265 Accuracy 0.0407\n",
      "Epoch 7 Batch 300 Loss 2.9230 Accuracy 0.0407\n",
      "Epoch 7 Batch 350 Loss 2.9313 Accuracy 0.0409\n",
      "Epoch 7 Batch 400 Loss 2.9303 Accuracy 0.0410\n",
      "Epoch 7 Batch 450 Loss 2.9261 Accuracy 0.0410\n",
      "Epoch 7 Batch 500 Loss 2.9345 Accuracy 0.0410\n",
      "Epoch 7 Batch 550 Loss 2.9395 Accuracy 0.0411\n",
      "Epoch 7 Batch 600 Loss 2.9386 Accuracy 0.0411\n",
      "Epoch 7 Batch 650 Loss 2.9405 Accuracy 0.0412\n",
      "Epoch 7 Batch 700 Loss 2.9391 Accuracy 0.0412\n",
      "Epoch 7 Loss 2.9389 Accuracy 0.0412\n",
      "Time taken for 1 epoch: 70.71223783493042 secs\n",
      "\n",
      "Epoch 8 Batch 0 Loss 2.7633 Accuracy 0.0393\n",
      "Epoch 8 Batch 50 Loss 2.9237 Accuracy 0.0421\n",
      "Epoch 8 Batch 100 Loss 2.9374 Accuracy 0.0423\n",
      "Epoch 8 Batch 150 Loss 2.9394 Accuracy 0.0421\n",
      "Epoch 8 Batch 200 Loss 2.9332 Accuracy 0.0420\n",
      "Epoch 8 Batch 250 Loss 2.9330 Accuracy 0.0417\n",
      "Epoch 8 Batch 300 Loss 2.9313 Accuracy 0.0417\n",
      "Epoch 8 Batch 350 Loss 2.9341 Accuracy 0.0416\n",
      "Epoch 8 Batch 400 Loss 2.9335 Accuracy 0.0416\n",
      "Epoch 8 Batch 450 Loss 2.9357 Accuracy 0.0417\n",
      "Epoch 8 Batch 500 Loss 2.9397 Accuracy 0.0419\n",
      "Epoch 8 Batch 550 Loss 2.9361 Accuracy 0.0419\n",
      "Epoch 8 Batch 600 Loss 2.9387 Accuracy 0.0420\n",
      "Epoch 8 Batch 650 Loss 2.9350 Accuracy 0.0421\n",
      "Epoch 8 Batch 700 Loss 2.9397 Accuracy 0.0421\n",
      "Epoch 8 Loss 2.9408 Accuracy 0.0421\n",
      "Time taken for 1 epoch: 70.09178876876831 secs\n",
      "\n",
      "Epoch 9 Batch 0 Loss 2.8558 Accuracy 0.0384\n",
      "Epoch 9 Batch 50 Loss 2.9260 Accuracy 0.0422\n",
      "Epoch 9 Batch 100 Loss 2.9234 Accuracy 0.0421\n",
      "Epoch 9 Batch 150 Loss 2.9181 Accuracy 0.0419\n",
      "Epoch 9 Batch 200 Loss 2.9157 Accuracy 0.0419\n",
      "Epoch 9 Batch 250 Loss 2.9118 Accuracy 0.0420\n",
      "Epoch 9 Batch 300 Loss 2.9158 Accuracy 0.0421\n",
      "Epoch 9 Batch 350 Loss 2.9145 Accuracy 0.0422\n",
      "Epoch 9 Batch 400 Loss 2.9141 Accuracy 0.0422\n",
      "Epoch 9 Batch 450 Loss 2.9214 Accuracy 0.0422\n",
      "Epoch 9 Batch 500 Loss 2.9213 Accuracy 0.0423\n",
      "Epoch 9 Batch 550 Loss 2.9193 Accuracy 0.0422\n",
      "Epoch 9 Batch 600 Loss 2.9232 Accuracy 0.0422\n",
      "Epoch 9 Batch 650 Loss 2.9258 Accuracy 0.0422\n",
      "Epoch 9 Batch 700 Loss 2.9261 Accuracy 0.0422\n",
      "Epoch 9 Loss 2.9260 Accuracy 0.0422\n",
      "Time taken for 1 epoch: 70.28484749794006 secs\n",
      "\n",
      "Epoch 10 Batch 0 Loss 2.5552 Accuracy 0.0349\n",
      "Epoch 10 Batch 50 Loss 2.8965 Accuracy 0.0424\n",
      "Epoch 10 Batch 100 Loss 2.8908 Accuracy 0.0424\n",
      "Epoch 10 Batch 150 Loss 2.9058 Accuracy 0.0428\n",
      "Epoch 10 Batch 200 Loss 2.9038 Accuracy 0.0428\n",
      "Epoch 10 Batch 250 Loss 2.9072 Accuracy 0.0427\n",
      "Epoch 10 Batch 300 Loss 2.9112 Accuracy 0.0427\n",
      "Epoch 10 Batch 350 Loss 2.9221 Accuracy 0.0428\n",
      "Epoch 10 Batch 400 Loss 2.9296 Accuracy 0.0428\n",
      "Epoch 10 Batch 450 Loss 2.9296 Accuracy 0.0429\n",
      "Epoch 10 Batch 500 Loss 2.9294 Accuracy 0.0429\n",
      "Epoch 10 Batch 550 Loss 2.9258 Accuracy 0.0429\n",
      "Epoch 10 Batch 600 Loss 2.9247 Accuracy 0.0428\n",
      "Epoch 10 Batch 650 Loss 2.9272 Accuracy 0.0429\n",
      "Epoch 10 Batch 700 Loss 2.9247 Accuracy 0.0429\n",
      "Saving checkpoint for epoch 10 at ./checkpoints/train\\ckpt-6\n",
      "Epoch 10 Loss 2.9247 Accuracy 0.0429\n",
      "Time taken for 1 epoch: 70.50307154655457 secs\n",
      "\n",
      "Epoch 11 Batch 0 Loss 2.8122 Accuracy 0.0405\n",
      "Epoch 11 Batch 50 Loss 2.9401 Accuracy 0.0431\n",
      "Epoch 11 Batch 100 Loss 2.9405 Accuracy 0.0437\n",
      "Epoch 11 Batch 150 Loss 2.9350 Accuracy 0.0435\n",
      "Epoch 11 Batch 200 Loss 2.9289 Accuracy 0.0434\n",
      "Epoch 11 Batch 250 Loss 2.9354 Accuracy 0.0432\n",
      "Epoch 11 Batch 300 Loss 2.9216 Accuracy 0.0432\n",
      "Epoch 11 Batch 350 Loss 2.9204 Accuracy 0.0431\n",
      "Epoch 11 Batch 400 Loss 2.9243 Accuracy 0.0432\n",
      "Epoch 11 Batch 450 Loss 2.9226 Accuracy 0.0432\n",
      "Epoch 11 Batch 500 Loss 2.9243 Accuracy 0.0433\n",
      "Epoch 11 Batch 550 Loss 2.9202 Accuracy 0.0433\n",
      "Epoch 11 Batch 600 Loss 2.9168 Accuracy 0.0434\n",
      "Epoch 11 Batch 650 Loss 2.9155 Accuracy 0.0434\n",
      "Epoch 11 Batch 700 Loss 2.9184 Accuracy 0.0435\n",
      "Epoch 11 Loss 2.9180 Accuracy 0.0435\n",
      "Time taken for 1 epoch: 70.09840703010559 secs\n",
      "\n",
      "Epoch 12 Batch 0 Loss 2.9400 Accuracy 0.0473\n",
      "Epoch 12 Batch 50 Loss 2.9184 Accuracy 0.0449\n",
      "Epoch 12 Batch 100 Loss 2.9152 Accuracy 0.0445\n",
      "Epoch 12 Batch 150 Loss 2.9104 Accuracy 0.0446\n",
      "Epoch 12 Batch 200 Loss 2.9084 Accuracy 0.0445\n",
      "Epoch 12 Batch 250 Loss 2.9147 Accuracy 0.0445\n",
      "Epoch 12 Batch 300 Loss 2.9191 Accuracy 0.0446\n",
      "Epoch 12 Batch 350 Loss 2.9209 Accuracy 0.0446\n",
      "Epoch 12 Batch 400 Loss 2.9176 Accuracy 0.0446\n",
      "Epoch 12 Batch 450 Loss 2.9169 Accuracy 0.0447\n",
      "Epoch 12 Batch 500 Loss 2.9140 Accuracy 0.0447\n",
      "Epoch 12 Batch 550 Loss 2.9116 Accuracy 0.0448\n",
      "Epoch 12 Batch 600 Loss 2.9114 Accuracy 0.0448\n",
      "Epoch 12 Batch 650 Loss 2.9083 Accuracy 0.0447\n",
      "Epoch 12 Batch 700 Loss 2.9093 Accuracy 0.0447\n",
      "Epoch 12 Loss 2.9100 Accuracy 0.0447\n",
      "Time taken for 1 epoch: 69.72362661361694 secs\n",
      "\n",
      "Epoch 13 Batch 0 Loss 2.8134 Accuracy 0.0435\n",
      "Epoch 13 Batch 50 Loss 2.8807 Accuracy 0.0446\n",
      "Epoch 13 Batch 100 Loss 2.8804 Accuracy 0.0449\n",
      "Epoch 13 Batch 150 Loss 2.8720 Accuracy 0.0449\n",
      "Epoch 13 Batch 200 Loss 2.8863 Accuracy 0.0451\n",
      "Epoch 13 Batch 250 Loss 2.8870 Accuracy 0.0453\n",
      "Epoch 13 Batch 300 Loss 2.8929 Accuracy 0.0456\n",
      "Epoch 13 Batch 350 Loss 2.8887 Accuracy 0.0456\n",
      "Epoch 13 Batch 400 Loss 2.8943 Accuracy 0.0457\n",
      "Epoch 13 Batch 450 Loss 2.8945 Accuracy 0.0456\n",
      "Epoch 13 Batch 500 Loss 2.8924 Accuracy 0.0457\n",
      "Epoch 13 Batch 550 Loss 2.8925 Accuracy 0.0456\n",
      "Epoch 13 Batch 600 Loss 2.8968 Accuracy 0.0457\n",
      "Epoch 13 Batch 650 Loss 2.8961 Accuracy 0.0457\n",
      "Epoch 13 Batch 700 Loss 2.8981 Accuracy 0.0457\n",
      "Epoch 13 Loss 2.8982 Accuracy 0.0457\n",
      "Time taken for 1 epoch: 273.8661048412323 secs\n",
      "\n",
      "Epoch 14 Batch 0 Loss 2.8598 Accuracy 0.0477\n",
      "Epoch 14 Batch 50 Loss 2.8502 Accuracy 0.0459\n",
      "Epoch 14 Batch 100 Loss 2.8633 Accuracy 0.0460\n",
      "Epoch 14 Batch 150 Loss 2.8698 Accuracy 0.0465\n",
      "Epoch 14 Batch 200 Loss 2.8843 Accuracy 0.0465\n",
      "Epoch 14 Batch 250 Loss 2.8879 Accuracy 0.0464\n",
      "Epoch 14 Batch 300 Loss 2.8904 Accuracy 0.0467\n",
      "Epoch 14 Batch 350 Loss 2.8901 Accuracy 0.0467\n",
      "Epoch 14 Batch 400 Loss 2.8881 Accuracy 0.0467\n",
      "Epoch 14 Batch 450 Loss 2.8891 Accuracy 0.0467\n",
      "Epoch 14 Batch 500 Loss 2.8926 Accuracy 0.0469\n",
      "Epoch 14 Batch 550 Loss 2.8907 Accuracy 0.0469\n",
      "Epoch 14 Batch 600 Loss 2.8902 Accuracy 0.0469\n",
      "Epoch 14 Batch 650 Loss 2.8924 Accuracy 0.0470\n",
      "Epoch 14 Batch 700 Loss 2.8928 Accuracy 0.0470\n",
      "Epoch 14 Loss 2.8936 Accuracy 0.0470\n",
      "Time taken for 1 epoch: 308.443400144577 secs\n",
      "\n",
      "Epoch 15 Batch 0 Loss 3.2310 Accuracy 0.0486\n",
      "Epoch 15 Batch 50 Loss 2.8689 Accuracy 0.0475\n",
      "Epoch 15 Batch 100 Loss 2.8713 Accuracy 0.0474\n",
      "Epoch 15 Batch 150 Loss 2.8661 Accuracy 0.0478\n",
      "Epoch 15 Batch 200 Loss 2.8626 Accuracy 0.0481\n",
      "Epoch 15 Batch 250 Loss 2.8511 Accuracy 0.0483\n",
      "Epoch 15 Batch 300 Loss 2.8519 Accuracy 0.0487\n",
      "Epoch 15 Batch 350 Loss 2.8552 Accuracy 0.0491\n",
      "Epoch 15 Batch 400 Loss 2.8561 Accuracy 0.0495\n",
      "Epoch 15 Batch 450 Loss 2.8609 Accuracy 0.0499\n",
      "Epoch 15 Batch 500 Loss 2.8642 Accuracy 0.0503\n",
      "Epoch 15 Batch 550 Loss 2.8667 Accuracy 0.0506\n",
      "Epoch 15 Batch 600 Loss 2.8667 Accuracy 0.0508\n",
      "Epoch 15 Batch 650 Loss 2.8658 Accuracy 0.0511\n",
      "Epoch 15 Batch 700 Loss 2.8665 Accuracy 0.0514\n",
      "Saving checkpoint for epoch 15 at ./checkpoints/train\\ckpt-7\n",
      "Epoch 15 Loss 2.8663 Accuracy 0.0514\n",
      "Time taken for 1 epoch: 303.25058150291443 secs\n",
      "\n",
      "Epoch 16 Batch 0 Loss 2.8471 Accuracy 0.0558\n",
      "Epoch 16 Batch 50 Loss 2.8507 Accuracy 0.0561\n",
      "Epoch 16 Batch 100 Loss 2.8300 Accuracy 0.0569\n",
      "Epoch 16 Batch 150 Loss 2.8337 Accuracy 0.0571\n",
      "Epoch 16 Batch 200 Loss 2.8358 Accuracy 0.0568\n",
      "Epoch 16 Batch 250 Loss 2.8346 Accuracy 0.0567\n",
      "Epoch 16 Batch 300 Loss 2.8383 Accuracy 0.0566\n",
      "Epoch 16 Batch 350 Loss 2.8404 Accuracy 0.0565\n",
      "Epoch 16 Batch 400 Loss 2.8468 Accuracy 0.0567\n",
      "Epoch 16 Batch 450 Loss 2.8471 Accuracy 0.0567\n",
      "Epoch 16 Batch 500 Loss 2.8498 Accuracy 0.0568\n",
      "Epoch 16 Batch 550 Loss 2.8500 Accuracy 0.0568\n",
      "Epoch 16 Batch 600 Loss 2.8487 Accuracy 0.0568\n",
      "Epoch 16 Batch 650 Loss 2.8495 Accuracy 0.0568\n",
      "Epoch 16 Batch 700 Loss 2.8493 Accuracy 0.0568\n",
      "Epoch 16 Loss 2.8493 Accuracy 0.0568\n",
      "Time taken for 1 epoch: 310.27429032325745 secs\n",
      "\n",
      "Epoch 17 Batch 0 Loss 2.8929 Accuracy 0.0543\n",
      "Epoch 17 Batch 50 Loss 2.8319 Accuracy 0.0568\n",
      "Epoch 17 Batch 100 Loss 2.8462 Accuracy 0.0560\n",
      "Epoch 17 Batch 150 Loss 2.8427 Accuracy 0.0545\n",
      "Epoch 17 Batch 200 Loss 2.8425 Accuracy 0.0548\n",
      "Epoch 17 Batch 250 Loss 2.8483 Accuracy 0.0551\n",
      "Epoch 17 Batch 300 Loss 2.8546 Accuracy 0.0547\n",
      "Epoch 17 Batch 350 Loss 2.8545 Accuracy 0.0549\n",
      "Epoch 17 Batch 400 Loss 2.8533 Accuracy 0.0551\n",
      "Epoch 17 Batch 450 Loss 2.8536 Accuracy 0.0551\n",
      "Epoch 17 Batch 500 Loss 2.8495 Accuracy 0.0552\n",
      "Epoch 17 Batch 550 Loss 2.8468 Accuracy 0.0553\n",
      "Epoch 17 Batch 600 Loss 2.8457 Accuracy 0.0554\n",
      "Epoch 17 Batch 650 Loss 2.8457 Accuracy 0.0556\n",
      "Epoch 17 Batch 700 Loss 2.8454 Accuracy 0.0557\n",
      "Epoch 17 Loss 2.8456 Accuracy 0.0557\n",
      "Time taken for 1 epoch: 311.43670082092285 secs\n",
      "\n",
      "Epoch 18 Batch 0 Loss 3.2032 Accuracy 0.0641\n",
      "Epoch 18 Batch 50 Loss 2.8322 Accuracy 0.0570\n",
      "Epoch 18 Batch 100 Loss 2.8420 Accuracy 0.0570\n",
      "Epoch 18 Batch 150 Loss 2.8223 Accuracy 0.0566\n",
      "Epoch 18 Batch 200 Loss 2.8243 Accuracy 0.0567\n",
      "Epoch 18 Batch 250 Loss 2.8253 Accuracy 0.0565\n",
      "Epoch 18 Batch 300 Loss 2.8203 Accuracy 0.0562\n",
      "Epoch 18 Batch 350 Loss 2.8267 Accuracy 0.0560\n",
      "Epoch 18 Batch 400 Loss 2.8316 Accuracy 0.0557\n",
      "Epoch 18 Batch 450 Loss 2.8318 Accuracy 0.0555\n",
      "Epoch 18 Batch 500 Loss 2.8320 Accuracy 0.0554\n",
      "Epoch 18 Batch 550 Loss 2.8295 Accuracy 0.0553\n",
      "Epoch 18 Batch 600 Loss 2.8294 Accuracy 0.0552\n",
      "Epoch 18 Batch 650 Loss 2.8328 Accuracy 0.0551\n",
      "Epoch 18 Batch 700 Loss 2.8329 Accuracy 0.0550\n",
      "Epoch 18 Loss 2.8336 Accuracy 0.0550\n",
      "Time taken for 1 epoch: 312.66008496284485 secs\n",
      "\n",
      "Epoch 19 Batch 0 Loss 2.6549 Accuracy 0.0535\n",
      "Epoch 19 Batch 50 Loss 2.7649 Accuracy 0.0537\n",
      "Epoch 19 Batch 100 Loss 2.8002 Accuracy 0.0533\n",
      "Epoch 19 Batch 150 Loss 2.8031 Accuracy 0.0536\n",
      "Epoch 19 Batch 200 Loss 2.8014 Accuracy 0.0538\n",
      "Epoch 19 Batch 250 Loss 2.8081 Accuracy 0.0538\n",
      "Epoch 19 Batch 300 Loss 2.8149 Accuracy 0.0538\n",
      "Epoch 19 Batch 350 Loss 2.8168 Accuracy 0.0537\n",
      "Epoch 19 Batch 400 Loss 2.8276 Accuracy 0.0538\n",
      "Epoch 19 Batch 450 Loss 2.8267 Accuracy 0.0538\n",
      "Epoch 19 Batch 500 Loss 2.8241 Accuracy 0.0539\n",
      "Epoch 19 Batch 550 Loss 2.8294 Accuracy 0.0540\n",
      "Epoch 19 Batch 600 Loss 2.8307 Accuracy 0.0540\n",
      "Epoch 19 Batch 650 Loss 2.8269 Accuracy 0.0539\n",
      "Epoch 19 Batch 700 Loss 2.8267 Accuracy 0.0540\n",
      "Epoch 19 Loss 2.8271 Accuracy 0.0540\n",
      "Time taken for 1 epoch: 305.3281898498535 secs\n",
      "\n",
      "Epoch 20 Batch 0 Loss 2.4915 Accuracy 0.0513\n",
      "Epoch 20 Batch 50 Loss 2.7567 Accuracy 0.0544\n",
      "Epoch 20 Batch 100 Loss 2.7641 Accuracy 0.0544\n",
      "Epoch 20 Batch 150 Loss 2.7874 Accuracy 0.0546\n",
      "Epoch 20 Batch 200 Loss 2.8008 Accuracy 0.0546\n",
      "Epoch 20 Batch 250 Loss 2.8056 Accuracy 0.0548\n",
      "Epoch 20 Batch 300 Loss 2.8167 Accuracy 0.0546\n",
      "Epoch 20 Batch 350 Loss 2.8133 Accuracy 0.0547\n",
      "Epoch 20 Batch 400 Loss 2.8141 Accuracy 0.0547\n",
      "Epoch 20 Batch 450 Loss 2.8129 Accuracy 0.0547\n",
      "Epoch 20 Batch 500 Loss 2.8197 Accuracy 0.0547\n",
      "Epoch 20 Batch 550 Loss 2.8245 Accuracy 0.0548\n",
      "Epoch 20 Batch 600 Loss 2.8195 Accuracy 0.0547\n",
      "Epoch 20 Batch 650 Loss 2.8202 Accuracy 0.0548\n",
      "Epoch 20 Batch 700 Loss 2.8232 Accuracy 0.0548\n",
      "Saving checkpoint for epoch 20 at ./checkpoints/train\\ckpt-8\n",
      "Epoch 20 Loss 2.8238 Accuracy 0.0548\n",
      "Time taken for 1 epoch: 314.23813486099243 secs\n",
      "\n"
     ]
    }
   ],
   "source": [
    "for epoch in range(EPOCHS):\n",
    "  start = time.time()\n",
    "  \n",
    "  train_loss.reset_states()\n",
    "  train_accuracy.reset_states()\n",
    "  \n",
    "  # inp -> portuguese, tar -> english\n",
    "  for (batch, (inp, tar)) in enumerate(train_dataset):\n",
    "    train_step(inp, tar)\n",
    "    \n",
    "    if batch % 50 == 0:\n",
    "      print ('Epoch {} Batch {} Loss {:.4f} Accuracy {:.4f}'.format(\n",
    "          epoch + 1, batch, train_loss.result(), train_accuracy.result()))\n",
    "      \n",
    "  if (epoch + 1) % 5 == 0:\n",
    "    ckpt_save_path = ckpt_manager.save()\n",
    "    print ('Saving checkpoint for epoch {} at {}'.format(epoch+1,\n",
    "                                                         ckpt_save_path))\n",
    "    \n",
    "  print ('Epoch {} Loss {:.4f} Accuracy {:.4f}'.format(epoch + 1, \n",
    "                                                train_loss.result(), \n",
    "                                                train_accuracy.result()))\n",
    "\n",
    "  print ('Time taken for 1 epoch: {} secs\\n'.format(time.time() - start))"
   ]
  },
  {
   "cell_type": "markdown",
   "metadata": {},
   "source": [
    "## Evaluate"
   ]
  },
  {
   "cell_type": "markdown",
   "metadata": {},
   "source": [
    "The following steps are used for evaluation:\n",
    "\n",
    "* Encode the input sentence using the Portuguese tokenizer (tokenizer_pt). Moreover, add the start and end token so the input is equivalent to what the model is trained with. This is the encoder input.\n",
    "* The decoder input is the start token == tokenizer_en.vocab_size.\n",
    "* Calculate the padding masks and the look ahead masks.\n",
    "* The decoder then outputs the predictions by looking at the encoder output and its own output (self-attention).\n",
    "* Select the last word and calculate the argmax of that.\n",
    "* Concatentate the predicted word to the decoder input as pass it to the decoder.\n",
    "* In this approach, the decoder predicts the next word based on the previous words it predicted."
   ]
  },
  {
   "cell_type": "markdown",
   "metadata": {},
   "source": [
    "<div class=\"alert alert-block alert-info\">\n",
    "<b>Note:</b> The model used here has less capacity to keep the example relatively faster so the predictions maybe less right. To reproduce the results in the paper, use the entire dataset and base transformer model or transformer XL, by changing the hyperparameters above.\n",
    "</div>"
   ]
  },
  {
   "cell_type": "code",
   "execution_count": 52,
   "metadata": {},
   "outputs": [],
   "source": [
    "def evaluate(inp_sentence):\n",
    "  start_token = [tokenizer_pt.vocab_size]\n",
    "  end_token = [tokenizer_pt.vocab_size + 1]\n",
    "  \n",
    "  # inp sentence is portuguese, hence adding the start and end token\n",
    "  inp_sentence = start_token + tokenizer_pt.encode(inp_sentence) + end_token\n",
    "  encoder_input = tf.expand_dims(inp_sentence, 0)\n",
    "  \n",
    "  # as the target is english, the first word to the transformer should be the\n",
    "  # english start token.\n",
    "  decoder_input = [tokenizer_en.vocab_size]\n",
    "  output = tf.expand_dims(decoder_input, 0)\n",
    "    \n",
    "  for i in range(MAX_LENGTH):\n",
    "    enc_padding_mask, combined_mask, dec_padding_mask = create_masks(\n",
    "        encoder_input, output)\n",
    "  \n",
    "    # predictions.shape == (batch_size, seq_len, vocab_size)\n",
    "    predictions, attention_weights = transformer(encoder_input, \n",
    "                                                 output,\n",
    "                                                 False,\n",
    "                                                 enc_padding_mask,\n",
    "                                                 combined_mask,\n",
    "                                                 dec_padding_mask)\n",
    "    \n",
    "    # select the last word from the seq_len dimension\n",
    "    predictions = predictions[: ,-1:, :]  # (batch_size, 1, vocab_size)\n",
    "\n",
    "    predicted_id = tf.cast(tf.argmax(predictions, axis=-1), tf.int32)\n",
    "    \n",
    "    # return the result if the predicted_id is equal to the end token\n",
    "    if predicted_id == tokenizer_en.vocab_size+1:\n",
    "      return tf.squeeze(output, axis=0), attention_weights\n",
    "    \n",
    "    # concatentate the predicted_id to the output which is given to the decoder\n",
    "    # as its input.\n",
    "    output = tf.concat([output, predicted_id], axis=-1)\n",
    "\n",
    "  return tf.squeeze(output, axis=0), attention_weights"
   ]
  },
  {
   "cell_type": "code",
   "execution_count": 53,
   "metadata": {},
   "outputs": [],
   "source": [
    "def plot_attention_weights(attention, sentence, result, layer):\n",
    "  fig = plt.figure(figsize=(16, 8))\n",
    "  \n",
    "  sentence = tokenizer_pt.encode(sentence)\n",
    "  \n",
    "  attention = tf.squeeze(attention[layer], axis=0)\n",
    "  \n",
    "  for head in range(attention.shape[0]):\n",
    "    ax = fig.add_subplot(2, 4, head+1)\n",
    "    \n",
    "    # plot the attention weights\n",
    "    ax.matshow(attention[head][:-1, :], cmap='viridis')\n",
    "\n",
    "    fontdict = {'fontsize': 10}\n",
    "    \n",
    "    ax.set_xticks(range(len(sentence)+2))\n",
    "    ax.set_yticks(range(len(result)))\n",
    "    \n",
    "    ax.set_ylim(len(result)-1.5, -0.5)\n",
    "        \n",
    "    ax.set_xticklabels(\n",
    "        ['<start>']+[tokenizer_pt.decode([i]) for i in sentence]+['<end>'], \n",
    "        fontdict=fontdict, rotation=90)\n",
    "    \n",
    "    ax.set_yticklabels([tokenizer_en.decode([i]) for i in result \n",
    "                        if i < tokenizer_en.vocab_size], \n",
    "                       fontdict=fontdict)\n",
    "    \n",
    "    ax.set_xlabel('Head {}'.format(head+1))\n",
    "  \n",
    "  plt.tight_layout()\n",
    "  plt.show()"
   ]
  },
  {
   "cell_type": "code",
   "execution_count": 54,
   "metadata": {},
   "outputs": [],
   "source": [
    "def translate(sentence, plot=''):\n",
    "  result, attention_weights = evaluate(sentence)\n",
    "  \n",
    "  predicted_sentence = tokenizer_en.decode([i for i in result \n",
    "                                            if i < tokenizer_en.vocab_size])  \n",
    "\n",
    "  print('Input: {}'.format(sentence))\n",
    "  print('Predicted translation: {}'.format(predicted_sentence))\n",
    "  \n",
    "  if plot:\n",
    "    plot_attention_weights(attention_weights, sentence, result, plot)"
   ]
  },
  {
   "cell_type": "code",
   "execution_count": 55,
   "metadata": {},
   "outputs": [
    {
     "name": "stdout",
     "output_type": "stream",
     "text": [
      "Input: este é um problema que temos que resolver.\n",
      "Predicted translation: i i i i i i i i i i i i i i i i i i i i i i i i i i i i i i i i i i i i i i i i \n",
      "Real translation: this is a problem we have to solve .\n"
     ]
    }
   ],
   "source": [
    "translate(\"este é um problema que temos que resolver.\")\n",
    "print (\"Real translation: this is a problem we have to solve .\")"
   ]
  },
  {
   "cell_type": "code",
   "execution_count": 56,
   "metadata": {},
   "outputs": [
    {
     "name": "stdout",
     "output_type": "stream",
     "text": [
      "Input: os meus vizinhos ouviram sobre esta ideia.\n",
      "Predicted translation: itititititititititititititititititititititititititititititititititititititititit\n",
      "Real translation: and my neighboring homes heard about this idea .\n"
     ]
    }
   ],
   "source": [
    "translate(\"os meus vizinhos ouviram sobre esta ideia.\")\n",
    "print (\"Real translation: and my neighboring homes heard about this idea .\")"
   ]
  },
  {
   "cell_type": "code",
   "execution_count": 57,
   "metadata": {},
   "outputs": [
    {
     "name": "stdout",
     "output_type": "stream",
     "text": [
      "Input: vou então muito rapidamente partilhar convosco algumas histórias de algumas coisas mágicas que aconteceram.\n",
      "Predicted translation: and and and and and and and and and and and i i i i i i i i i i i i i i i i i i i i i i i i i i i i i \n",
      "Real translation: so i 'll just share with you some stories very quickly of some magical things that have happened .\n"
     ]
    }
   ],
   "source": [
    "translate(\"vou então muito rapidamente partilhar convosco algumas histórias de algumas coisas mágicas que aconteceram.\")\n",
    "print (\"Real translation: so i 'll just share with you some stories very quickly of some magical things that have happened .\")"
   ]
  },
  {
   "cell_type": "markdown",
   "metadata": {},
   "source": [
    "You can pass different layers and attention blocks of the decoder to the plot parameter."
   ]
  },
  {
   "cell_type": "code",
   "execution_count": 58,
   "metadata": {},
   "outputs": [
    {
     "name": "stdout",
     "output_type": "stream",
     "text": [
      "Input: este é o primeiro livro que eu fiz.\n",
      "Predicted translation: and i i i i i i i i i i i i i i i i i i i i i i i i i i i i i i i i i i i i i i i \n"
     ]
    },
    {
     "data": {
      "image/png": "[encoded data removed]",
      "text/plain": [
       "<Figure size 1152x576 with 8 Axes>"
      ]
     },
     "metadata": {
      "needs_background": "light"
     },
     "output_type": "display_data"
    },
    {
     "name": "stdout",
     "output_type": "stream",
     "text": [
      "Real translation: this is the first book i've ever done.\n"
     ]
    }
   ],
   "source": [
    "translate(\"este é o primeiro livro que eu fiz.\", plot='decoder_layer4_block2')\n",
    "print (\"Real translation: this is the first book i've ever done.\")"
   ]
  },
  {
   "cell_type": "markdown",
   "metadata": {},
   "source": [
    "## Summary"
   ]
  },
  {
   "cell_type": "markdown",
   "metadata": {},
   "source": [
    "In this tutorial, you learned about positional encoding, multi-head attention, the importance of masking and how to create a transformer.\n",
    "\n",
    "Try using a different dataset to train the transformer. You can also create the base transformer or transformer XL by changing the hyperparameters above. You can also use the layers defined here to create BERT and train state of the art models. Futhermore, you can implement beam search to get better predictions."
   ]
  },
  {
   "cell_type": "code",
   "execution_count": null,
   "metadata": {},
   "outputs": [],
   "source": []
  }
 ],
 "metadata": {
  "kernelspec": {
   "display_name": "Python 3",
   "language": "python",
   "name": "python3"
  },
  "language_info": {
   "codemirror_mode": {
    "name": "ipython",
    "version": 3
   },
   "file_extension": ".py",
   "mimetype": "text/x-python",
   "name": "python",
   "nbconvert_exporter": "python",
   "pygments_lexer": "ipython3",
   "version": "3.7.6"
  }
 },
 "nbformat": 4,
 "nbformat_minor": 4
}
