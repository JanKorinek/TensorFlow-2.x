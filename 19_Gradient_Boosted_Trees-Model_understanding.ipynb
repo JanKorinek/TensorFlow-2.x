{
 "cells": [
  {
   "cell_type": "markdown",
   "metadata": {},
   "source": [
    "# Gradient Boosted Trees: Model understanding"
   ]
  },
  {
   "cell_type": "markdown",
   "metadata": {},
   "source": [
    "For an end-to-end walkthrough of training a Gradient Boosting model check out the boosted trees tutorial. In this tutorial you will:\n",
    "\n",
    "* Learn how to interpret a Boosted Trees model both locally and globally\n",
    "* Gain intution for how a Boosted Trees model fits a dataset"
   ]
  },
  {
   "cell_type": "markdown",
   "metadata": {},
   "source": [
    "## How to interpret Boosted Trees models both locally and globally"
   ]
  },
  {
   "cell_type": "markdown",
   "metadata": {},
   "source": [
    "Local interpretability refers to an understanding of a model’s predictions at the individual example level, while global interpretability refers to an understanding of the model as a whole. Such techniques can help machine learning (ML) practitioners detect bias and bugs during the model development stage.\n",
    "\n",
    "For local interpretability, you will learn how to create and visualize per-instance contributions. To distinguish this from feature importances, we refer to these values as directional feature contributions (DFCs).\n",
    "\n",
    "For global interpretability you will retrieve and visualize gain-based feature importances, permutation feature importances and also show aggregated DFCs."
   ]
  },
  {
   "cell_type": "markdown",
   "metadata": {},
   "source": [
    "## Load the titanic dataset"
   ]
  },
  {
   "cell_type": "markdown",
   "metadata": {},
   "source": [
    "You will be using the titanic dataset, where the (rather morbid) goal is to predict passenger survival, given characteristics such as gender, age, class, etc."
   ]
  },
  {
   "cell_type": "code",
   "execution_count": 1,
   "metadata": {},
   "outputs": [],
   "source": [
    "from __future__ import absolute_import, division, print_function, unicode_literals\n",
    "\n",
    "import numpy as np\n",
    "import pandas as pd\n",
    "from IPython.display import clear_output\n",
    "from matplotlib import pyplot as plt\n",
    "\n",
    "# Load dataset.\n",
    "dftrain = pd.read_csv('https://storage.googleapis.com/tf-datasets/titanic/train.csv')\n",
    "dfeval = pd.read_csv('https://storage.googleapis.com/tf-datasets/titanic/eval.csv')\n",
    "y_train = dftrain.pop('survived')\n",
    "y_eval = dfeval.pop('survived')"
   ]
  },
  {
   "cell_type": "code",
   "execution_count": 2,
   "metadata": {},
   "outputs": [],
   "source": [
    "import tensorflow as tf\n",
    "tf.random.set_seed(123)"
   ]
  },
  {
   "cell_type": "markdown",
   "metadata": {},
   "source": [
    "For a description of the features, please review the prior tutorial."
   ]
  },
  {
   "cell_type": "markdown",
   "metadata": {},
   "source": [
    "## Create feature columns, input_fn, and the train the estimator"
   ]
  },
  {
   "cell_type": "markdown",
   "metadata": {},
   "source": [
    "### Preprocess the data"
   ]
  },
  {
   "cell_type": "markdown",
   "metadata": {},
   "source": [
    "Create the feature columns, using the original numeric columns as is and one-hot-encoding categorical variables."
   ]
  },
  {
   "cell_type": "code",
   "execution_count": 3,
   "metadata": {},
   "outputs": [],
   "source": [
    "fc = tf.feature_column\n",
    "CATEGORICAL_COLUMNS = ['sex', 'n_siblings_spouses', 'parch', 'class', 'deck',\n",
    "                       'embark_town', 'alone']\n",
    "NUMERIC_COLUMNS = ['age', 'fare']\n",
    "\n",
    "def one_hot_cat_column(feature_name, vocab):\n",
    "  return fc.indicator_column(\n",
    "      fc.categorical_column_with_vocabulary_list(feature_name,\n",
    "                                                 vocab))\n",
    "feature_columns = []\n",
    "for feature_name in CATEGORICAL_COLUMNS:\n",
    "  # Need to one-hot encode categorical features.\n",
    "  vocabulary = dftrain[feature_name].unique()\n",
    "  feature_columns.append(one_hot_cat_column(feature_name, vocabulary))\n",
    "\n",
    "for feature_name in NUMERIC_COLUMNS:\n",
    "  feature_columns.append(fc.numeric_column(feature_name,\n",
    "                                           dtype=tf.float32))"
   ]
  },
  {
   "cell_type": "markdown",
   "metadata": {},
   "source": [
    "### Build the input pipeline"
   ]
  },
  {
   "cell_type": "markdown",
   "metadata": {},
   "source": [
    "Create the input functions using the from_tensor_slices method in the tf.data API to read in data directly from Pandas."
   ]
  },
  {
   "cell_type": "code",
   "execution_count": 4,
   "metadata": {},
   "outputs": [],
   "source": [
    "# Use entire batch since this is such a small dataset.\n",
    "NUM_EXAMPLES = len(y_train)\n",
    "\n",
    "def make_input_fn(X, y, n_epochs=None, shuffle=True):\n",
    "  def input_fn():\n",
    "    dataset = tf.data.Dataset.from_tensor_slices((X.to_dict(orient='list'), y))\n",
    "    if shuffle:\n",
    "      dataset = dataset.shuffle(NUM_EXAMPLES)\n",
    "    # For training, cycle thru dataset as many times as need (n_epochs=None).\n",
    "    dataset = (dataset\n",
    "      .repeat(n_epochs)\n",
    "      .batch(NUM_EXAMPLES))\n",
    "    return dataset\n",
    "  return input_fn\n",
    "\n",
    "# Training and evaluation input functions.\n",
    "train_input_fn = make_input_fn(dftrain, y_train)\n",
    "eval_input_fn = make_input_fn(dfeval, y_eval, shuffle=False, n_epochs=1)"
   ]
  },
  {
   "cell_type": "markdown",
   "metadata": {},
   "source": [
    "## Train the model"
   ]
  },
  {
   "cell_type": "code",
   "execution_count": 5,
   "metadata": {},
   "outputs": [
    {
     "data": {
      "text/html": [
       "<div>\n",
       "<style scoped>\n",
       "    .dataframe tbody tr th:only-of-type {\n",
       "        vertical-align: middle;\n",
       "    }\n",
       "\n",
       "    .dataframe tbody tr th {\n",
       "        vertical-align: top;\n",
       "    }\n",
       "\n",
       "    .dataframe thead th {\n",
       "        text-align: right;\n",
       "    }\n",
       "</style>\n",
       "<table border=\"1\" class=\"dataframe\">\n",
       "  <thead>\n",
       "    <tr style=\"text-align: right;\">\n",
       "      <th></th>\n",
       "      <th>0</th>\n",
       "    </tr>\n",
       "  </thead>\n",
       "  <tbody>\n",
       "    <tr>\n",
       "      <th>accuracy</th>\n",
       "      <td>0.799242</td>\n",
       "    </tr>\n",
       "    <tr>\n",
       "      <th>accuracy_baseline</th>\n",
       "      <td>0.625000</td>\n",
       "    </tr>\n",
       "    <tr>\n",
       "      <th>auc</th>\n",
       "      <td>0.861922</td>\n",
       "    </tr>\n",
       "    <tr>\n",
       "      <th>auc_precision_recall</th>\n",
       "      <td>0.836084</td>\n",
       "    </tr>\n",
       "    <tr>\n",
       "      <th>average_loss</th>\n",
       "      <td>0.425851</td>\n",
       "    </tr>\n",
       "    <tr>\n",
       "      <th>label/mean</th>\n",
       "      <td>0.375000</td>\n",
       "    </tr>\n",
       "    <tr>\n",
       "      <th>loss</th>\n",
       "      <td>0.425851</td>\n",
       "    </tr>\n",
       "    <tr>\n",
       "      <th>precision</th>\n",
       "      <td>0.744681</td>\n",
       "    </tr>\n",
       "    <tr>\n",
       "      <th>prediction/mean</th>\n",
       "      <td>0.388052</td>\n",
       "    </tr>\n",
       "    <tr>\n",
       "      <th>recall</th>\n",
       "      <td>0.707071</td>\n",
       "    </tr>\n",
       "    <tr>\n",
       "      <th>global_step</th>\n",
       "      <td>100.000000</td>\n",
       "    </tr>\n",
       "  </tbody>\n",
       "</table>\n",
       "</div>"
      ],
      "text/plain": [
       "                               0\n",
       "accuracy                0.799242\n",
       "accuracy_baseline       0.625000\n",
       "auc                     0.861922\n",
       "auc_precision_recall    0.836084\n",
       "average_loss            0.425851\n",
       "label/mean              0.375000\n",
       "loss                    0.425851\n",
       "precision               0.744681\n",
       "prediction/mean         0.388052\n",
       "recall                  0.707071\n",
       "global_step           100.000000"
      ]
     },
     "execution_count": 5,
     "metadata": {},
     "output_type": "execute_result"
    }
   ],
   "source": [
    "params = {\n",
    "  'n_trees': 50,\n",
    "  'max_depth': 3,\n",
    "  'n_batches_per_layer': 1,\n",
    "  # You must enable center_bias = True to get DFCs. This will force the model to\n",
    "  # make an initial prediction before using any features (e.g. use the mean of\n",
    "  # the training labels for regression or log odds for classification when\n",
    "  # using cross entropy loss).\n",
    "  'center_bias': True\n",
    "}\n",
    "\n",
    "est = tf.estimator.BoostedTreesClassifier(feature_columns, **params)\n",
    "# Train model.\n",
    "est.train(train_input_fn, max_steps=100)\n",
    "\n",
    "# Evaluation.\n",
    "results = est.evaluate(eval_input_fn)\n",
    "clear_output()\n",
    "pd.Series(results).to_frame()"
   ]
  },
  {
   "cell_type": "markdown",
   "metadata": {},
   "source": [
    "For performance reasons, when your data fits in memory, we recommend use the boosted_trees_classifier_train_in_memory function. However if training time is not of a concern or if you have a very large dataset and want to do distributed training, use the tf.estimator.BoostedTrees API shown above.\n",
    "\n",
    "When using this method, you should not batch your input data, as the method operates on the entire dataset."
   ]
  },
  {
   "cell_type": "code",
   "execution_count": 6,
   "metadata": {},
   "outputs": [
    {
     "name": "stdout",
     "output_type": "stream",
     "text": [
      "INFO:tensorflow:Using default config.\n",
      "WARNING:tensorflow:Using temporary folder as model directory: C:\\Users\\BlackWS\\AppData\\Local\\Temp\\tmpqns5kiix\n",
      "INFO:tensorflow:Using config: {'_model_dir': 'C:\\\\Users\\\\BlackWS\\\\AppData\\\\Local\\\\Temp\\\\tmpqns5kiix', '_tf_random_seed': None, '_save_summary_steps': 100, '_save_checkpoints_steps': None, '_save_checkpoints_secs': 600, '_session_config': allow_soft_placement: true\n",
      "graph_options {\n",
      "  rewrite_options {\n",
      "    meta_optimizer_iterations: ONE\n",
      "  }\n",
      "}\n",
      ", '_keep_checkpoint_max': 5, '_keep_checkpoint_every_n_hours': 10000, '_log_step_count_steps': 100, '_train_distribute': None, '_device_fn': None, '_protocol': None, '_eval_distribute': None, '_experimental_distribute': None, '_experimental_max_worker_delay_secs': None, '_session_creation_timeout_secs': 7200, '_service': None, '_cluster_spec': <tensorflow.python.training.server_lib.ClusterSpec object at 0x00000264E06A46C8>, '_task_type': 'worker', '_task_id': 0, '_global_id_in_cluster': 0, '_master': '', '_evaluation_master': '', '_is_chief': True, '_num_ps_replicas': 0, '_num_worker_replicas': 1}\n",
      "INFO:tensorflow:Calling model_fn.\n",
      "INFO:tensorflow:Done calling model_fn.\n",
      "INFO:tensorflow:Create CheckpointSaverHook.\n",
      "WARNING:tensorflow:Issue encountered when serializing resources.\n",
      "Type is unsupported, or the types of the items don't match field type in CollectionDef. Note this is a warning and probably safe to ignore.\n",
      "'_Resource' object has no attribute 'name'\n",
      "INFO:tensorflow:Graph was finalized.\n",
      "INFO:tensorflow:Running local_init_op.\n",
      "INFO:tensorflow:Done running local_init_op.\n",
      "WARNING:tensorflow:Issue encountered when serializing resources.\n",
      "Type is unsupported, or the types of the items don't match field type in CollectionDef. Note this is a warning and probably safe to ignore.\n",
      "'_Resource' object has no attribute 'name'\n",
      "INFO:tensorflow:Saving checkpoints for 0 into C:\\Users\\BlackWS\\AppData\\Local\\Temp\\tmpqns5kiix\\model.ckpt.\n",
      "WARNING:tensorflow:Issue encountered when serializing resources.\n",
      "Type is unsupported, or the types of the items don't match field type in CollectionDef. Note this is a warning and probably safe to ignore.\n",
      "'_Resource' object has no attribute 'name'\n",
      "INFO:tensorflow:loss = 0.6931463, step = 0\n",
      "WARNING:tensorflow:It seems that global step (tf.train.get_global_step) has not been increased. Current value (could be stable): 0 vs previous value: 0. You could increase the global step by passing tf.train.get_global_step() to Optimizer.apply_gradients or Optimizer.minimize.\n",
      "INFO:tensorflow:global_step/sec: 120.371\n",
      "INFO:tensorflow:loss = 0.34565377, step = 99 (0.831 sec)\n",
      "INFO:tensorflow:Saving checkpoints for 153 into C:\\Users\\BlackWS\\AppData\\Local\\Temp\\tmpqns5kiix\\model.ckpt.\n",
      "WARNING:tensorflow:Issue encountered when serializing resources.\n",
      "Type is unsupported, or the types of the items don't match field type in CollectionDef. Note this is a warning and probably safe to ignore.\n",
      "'_Resource' object has no attribute 'name'\n",
      "INFO:tensorflow:Loss for final step: 0.32240236.\n",
      "INFO:tensorflow:Calling model_fn.\n",
      "WARNING:tensorflow:Trapezoidal rule is known to produce incorrect PR-AUCs; please switch to \"careful_interpolation\" instead.\n",
      "WARNING:tensorflow:Trapezoidal rule is known to produce incorrect PR-AUCs; please switch to \"careful_interpolation\" instead.\n",
      "INFO:tensorflow:Done calling model_fn.\n",
      "INFO:tensorflow:Starting evaluation at 2020-02-02T11:42:12Z\n",
      "INFO:tensorflow:Graph was finalized.\n",
      "INFO:tensorflow:Restoring parameters from C:\\Users\\BlackWS\\AppData\\Local\\Temp\\tmpqns5kiix\\model.ckpt-153\n",
      "INFO:tensorflow:Running local_init_op.\n",
      "INFO:tensorflow:Done running local_init_op.\n",
      "INFO:tensorflow:Finished evaluation at 2020-02-02-11:42:12\n",
      "INFO:tensorflow:Saving dict for global step 153: accuracy = 0.8030303, accuracy_baseline = 0.625, auc = 0.8680134, auc_precision_recall = 0.85367525, average_loss = 0.4192262, global_step = 153, label/mean = 0.375, loss = 0.4192262, precision = 0.7473684, prediction/mean = 0.3857634, recall = 0.7171717\n",
      "WARNING:tensorflow:Issue encountered when serializing resources.\n",
      "Type is unsupported, or the types of the items don't match field type in CollectionDef. Note this is a warning and probably safe to ignore.\n",
      "'_Resource' object has no attribute 'name'\n",
      "INFO:tensorflow:Saving 'checkpoint_path' summary for global step 153: C:\\Users\\BlackWS\\AppData\\Local\\Temp\\tmpqns5kiix\\model.ckpt-153\n",
      "{'accuracy': 0.8030303, 'accuracy_baseline': 0.625, 'auc': 0.8680134, 'auc_precision_recall': 0.85367525, 'average_loss': 0.4192262, 'label/mean': 0.375, 'loss': 0.4192262, 'precision': 0.7473684, 'prediction/mean': 0.3857634, 'recall': 0.7171717, 'global_step': 153}\n"
     ]
    }
   ],
   "source": [
    "in_memory_params = dict(params)\n",
    "in_memory_params['n_batches_per_layer'] = 1\n",
    "# In-memory input_fn does not use batching.\n",
    "def make_inmemory_train_input_fn(X, y):\n",
    "  y = np.expand_dims(y, axis=1)\n",
    "  def input_fn():\n",
    "    return dict(X), y\n",
    "  return input_fn\n",
    "train_input_fn = make_inmemory_train_input_fn(dftrain, y_train)\n",
    "\n",
    "# Train the model.\n",
    "est = tf.estimator.BoostedTreesClassifier(\n",
    "    feature_columns, \n",
    "    train_in_memory=True, \n",
    "    **in_memory_params)\n",
    "\n",
    "est.train(train_input_fn)\n",
    "print(est.evaluate(eval_input_fn))"
   ]
  },
  {
   "cell_type": "markdown",
   "metadata": {},
   "source": [
    "## Model interpretation and plotting"
   ]
  },
  {
   "cell_type": "code",
   "execution_count": 8,
   "metadata": {},
   "outputs": [],
   "source": [
    "import matplotlib.pyplot as plt\n",
    "import seaborn as sns\n",
    "sns_colors = sns.color_palette('colorblind')"
   ]
  },
  {
   "cell_type": "markdown",
   "metadata": {},
   "source": [
    "## Local interpretability"
   ]
  },
  {
   "cell_type": "markdown",
   "metadata": {},
   "source": [
    "Next you will output the directional feature contributions (DFCs) to explain individual predictions using the approach outlined in Palczewska et al and by Saabas in Interpreting Random Forests (this method is also available in scikit-learn for Random Forests in the treeinterpreter package). The DFCs are generated with:\n",
    "\n",
    "pred_dicts = list(est.experimental_predict_with_explanations(pred_input_fn))\n",
    "\n",
    "(Note: The method is named experimental as we may modify the API before dropping the experimental prefix.)"
   ]
  },
  {
   "cell_type": "code",
   "execution_count": 9,
   "metadata": {},
   "outputs": [
    {
     "name": "stdout",
     "output_type": "stream",
     "text": [
      "INFO:tensorflow:Using config: {'_model_dir': 'C:\\\\Users\\\\BlackWS\\\\AppData\\\\Local\\\\Temp\\\\tmpqns5kiix', '_tf_random_seed': None, '_save_summary_steps': 100, '_save_checkpoints_steps': None, '_save_checkpoints_secs': 600, '_session_config': allow_soft_placement: true\n",
      "graph_options {\n",
      "  rewrite_options {\n",
      "    meta_optimizer_iterations: ONE\n",
      "  }\n",
      "}\n",
      ", '_keep_checkpoint_max': 5, '_keep_checkpoint_every_n_hours': 10000, '_log_step_count_steps': 100, '_train_distribute': None, '_device_fn': None, '_protocol': None, '_eval_distribute': None, '_experimental_distribute': None, '_experimental_max_worker_delay_secs': None, '_session_creation_timeout_secs': 7200, '_service': None, '_cluster_spec': <tensorflow.python.training.server_lib.ClusterSpec object at 0x00000264DC756208>, '_task_type': 'worker', '_task_id': 0, '_global_id_in_cluster': 0, '_master': '', '_evaluation_master': '', '_is_chief': True, '_num_ps_replicas': 0, '_num_worker_replicas': 1}\n",
      "INFO:tensorflow:Calling model_fn.\n",
      "INFO:tensorflow:Done calling model_fn.\n",
      "INFO:tensorflow:Graph was finalized.\n",
      "INFO:tensorflow:Restoring parameters from C:\\Users\\BlackWS\\AppData\\Local\\Temp\\tmpqns5kiix\\model.ckpt-153\n",
      "INFO:tensorflow:Running local_init_op.\n",
      "INFO:tensorflow:Done running local_init_op.\n"
     ]
    }
   ],
   "source": [
    "pred_dicts = list(est.experimental_predict_with_explanations(eval_input_fn))"
   ]
  },
  {
   "cell_type": "code",
   "execution_count": 10,
   "metadata": {},
   "outputs": [
    {
     "data": {
      "text/html": [
       "<div>\n",
       "<style scoped>\n",
       "    .dataframe tbody tr th:only-of-type {\n",
       "        vertical-align: middle;\n",
       "    }\n",
       "\n",
       "    .dataframe tbody tr th {\n",
       "        vertical-align: top;\n",
       "    }\n",
       "\n",
       "    .dataframe thead th {\n",
       "        text-align: right;\n",
       "    }\n",
       "</style>\n",
       "<table border=\"1\" class=\"dataframe\">\n",
       "  <thead>\n",
       "    <tr style=\"text-align: right;\">\n",
       "      <th></th>\n",
       "      <th>count</th>\n",
       "      <th>mean</th>\n",
       "      <th>std</th>\n",
       "      <th>min</th>\n",
       "      <th>25%</th>\n",
       "      <th>50%</th>\n",
       "      <th>75%</th>\n",
       "      <th>max</th>\n",
       "    </tr>\n",
       "  </thead>\n",
       "  <tbody>\n",
       "    <tr>\n",
       "      <th>age</th>\n",
       "      <td>264.0</td>\n",
       "      <td>-0.026077</td>\n",
       "      <td>0.097270</td>\n",
       "      <td>-0.144143</td>\n",
       "      <td>-0.078385</td>\n",
       "      <td>-0.058749</td>\n",
       "      <td>0.006416</td>\n",
       "      <td>0.558890</td>\n",
       "    </tr>\n",
       "    <tr>\n",
       "      <th>sex</th>\n",
       "      <td>264.0</td>\n",
       "      <td>0.006989</td>\n",
       "      <td>0.110376</td>\n",
       "      <td>-0.124016</td>\n",
       "      <td>-0.074836</td>\n",
       "      <td>-0.073282</td>\n",
       "      <td>0.139651</td>\n",
       "      <td>0.183021</td>\n",
       "    </tr>\n",
       "    <tr>\n",
       "      <th>class</th>\n",
       "      <td>264.0</td>\n",
       "      <td>0.015459</td>\n",
       "      <td>0.093512</td>\n",
       "      <td>-0.077171</td>\n",
       "      <td>-0.045886</td>\n",
       "      <td>-0.044957</td>\n",
       "      <td>0.033037</td>\n",
       "      <td>0.254983</td>\n",
       "    </tr>\n",
       "    <tr>\n",
       "      <th>deck</th>\n",
       "      <td>264.0</td>\n",
       "      <td>-0.016127</td>\n",
       "      <td>0.031691</td>\n",
       "      <td>-0.053530</td>\n",
       "      <td>-0.041899</td>\n",
       "      <td>-0.029162</td>\n",
       "      <td>0.003553</td>\n",
       "      <td>0.176667</td>\n",
       "    </tr>\n",
       "    <tr>\n",
       "      <th>fare</th>\n",
       "      <td>264.0</td>\n",
       "      <td>0.020642</td>\n",
       "      <td>0.087581</td>\n",
       "      <td>-0.282485</td>\n",
       "      <td>-0.027663</td>\n",
       "      <td>-0.010647</td>\n",
       "      <td>0.055663</td>\n",
       "      <td>0.233041</td>\n",
       "    </tr>\n",
       "    <tr>\n",
       "      <th>embark_town</th>\n",
       "      <td>264.0</td>\n",
       "      <td>-0.006628</td>\n",
       "      <td>0.026840</td>\n",
       "      <td>-0.051651</td>\n",
       "      <td>-0.014022</td>\n",
       "      <td>-0.012462</td>\n",
       "      <td>-0.002967</td>\n",
       "      <td>0.065278</td>\n",
       "    </tr>\n",
       "    <tr>\n",
       "      <th>n_siblings_spouses</th>\n",
       "      <td>264.0</td>\n",
       "      <td>0.002728</td>\n",
       "      <td>0.028987</td>\n",
       "      <td>-0.182328</td>\n",
       "      <td>0.003541</td>\n",
       "      <td>0.004158</td>\n",
       "      <td>0.007276</td>\n",
       "      <td>0.141040</td>\n",
       "    </tr>\n",
       "    <tr>\n",
       "      <th>parch</th>\n",
       "      <td>264.0</td>\n",
       "      <td>0.000931</td>\n",
       "      <td>0.006020</td>\n",
       "      <td>-0.076511</td>\n",
       "      <td>0.000387</td>\n",
       "      <td>0.000482</td>\n",
       "      <td>0.000925</td>\n",
       "      <td>0.009101</td>\n",
       "    </tr>\n",
       "    <tr>\n",
       "      <th>alone</th>\n",
       "      <td>264.0</td>\n",
       "      <td>0.000288</td>\n",
       "      <td>0.003833</td>\n",
       "      <td>-0.006084</td>\n",
       "      <td>0.000000</td>\n",
       "      <td>0.000000</td>\n",
       "      <td>0.000000</td>\n",
       "      <td>0.017519</td>\n",
       "    </tr>\n",
       "  </tbody>\n",
       "</table>\n",
       "</div>"
      ],
      "text/plain": [
       "                    count      mean       std       min       25%       50%  \\\n",
       "age                 264.0 -0.026077  0.097270 -0.144143 -0.078385 -0.058749   \n",
       "sex                 264.0  0.006989  0.110376 -0.124016 -0.074836 -0.073282   \n",
       "class               264.0  0.015459  0.093512 -0.077171 -0.045886 -0.044957   \n",
       "deck                264.0 -0.016127  0.031691 -0.053530 -0.041899 -0.029162   \n",
       "fare                264.0  0.020642  0.087581 -0.282485 -0.027663 -0.010647   \n",
       "embark_town         264.0 -0.006628  0.026840 -0.051651 -0.014022 -0.012462   \n",
       "n_siblings_spouses  264.0  0.002728  0.028987 -0.182328  0.003541  0.004158   \n",
       "parch               264.0  0.000931  0.006020 -0.076511  0.000387  0.000482   \n",
       "alone               264.0  0.000288  0.003833 -0.006084  0.000000  0.000000   \n",
       "\n",
       "                         75%       max  \n",
       "age                 0.006416  0.558890  \n",
       "sex                 0.139651  0.183021  \n",
       "class               0.033037  0.254983  \n",
       "deck                0.003553  0.176667  \n",
       "fare                0.055663  0.233041  \n",
       "embark_town        -0.002967  0.065278  \n",
       "n_siblings_spouses  0.007276  0.141040  \n",
       "parch               0.000925  0.009101  \n",
       "alone               0.000000  0.017519  "
      ]
     },
     "execution_count": 10,
     "metadata": {},
     "output_type": "execute_result"
    }
   ],
   "source": [
    "# Create DFC Pandas dataframe.\n",
    "labels = y_eval.values\n",
    "probs = pd.Series([pred['probabilities'][1] for pred in pred_dicts])\n",
    "df_dfc = pd.DataFrame([pred['dfc'] for pred in pred_dicts])\n",
    "df_dfc.describe().T"
   ]
  },
  {
   "cell_type": "markdown",
   "metadata": {},
   "source": [
    "A nice property of DFCs is that the sum of the contributions + the bias is equal to the prediction for a given example."
   ]
  },
  {
   "cell_type": "code",
   "execution_count": 11,
   "metadata": {},
   "outputs": [],
   "source": [
    "# Sum of DFCs + bias == probabality.\n",
    "bias = pred_dicts[0]['bias']\n",
    "dfc_prob = df_dfc.sum(axis=1) + bias\n",
    "np.testing.assert_almost_equal(dfc_prob.values,\n",
    "                               probs.values)"
   ]
  },
  {
   "cell_type": "markdown",
   "metadata": {},
   "source": [
    "Plot DFCs for an individual passenger. Let's make the plot nice by color coding based on the contributions' directionality and add the feature values on figure."
   ]
  },
  {
   "cell_type": "code",
   "execution_count": 12,
   "metadata": {},
   "outputs": [],
   "source": [
    "# Boilerplate code for plotting :)\n",
    "def _get_color(value):\n",
    "    \"\"\"To make positive DFCs plot green, negative DFCs plot red.\"\"\"\n",
    "    green, red = sns.color_palette()[2:4]\n",
    "    if value >= 0: return green\n",
    "    return red\n",
    "\n",
    "def _add_feature_values(feature_values, ax):\n",
    "    \"\"\"Display feature's values on left of plot.\"\"\"\n",
    "    x_coord = ax.get_xlim()[0]\n",
    "    OFFSET = 0.15\n",
    "    for y_coord, (feat_name, feat_val) in enumerate(feature_values.items()):\n",
    "        t = plt.text(x_coord, y_coord - OFFSET, '{}'.format(feat_val), size=12)\n",
    "        t.set_bbox(dict(facecolor='white', alpha=0.5))\n",
    "    from matplotlib.font_manager import FontProperties\n",
    "    font = FontProperties()\n",
    "    font.set_weight('bold')\n",
    "    t = plt.text(x_coord, y_coord + 1 - OFFSET, 'feature\\nvalue',\n",
    "    fontproperties=font, size=12)\n",
    "\n",
    "def plot_example(example):\n",
    "  TOP_N = 8 # View top 8 features.\n",
    "  sorted_ix = example.abs().sort_values()[-TOP_N:].index  # Sort by magnitude.\n",
    "  example = example[sorted_ix]\n",
    "  colors = example.map(_get_color).tolist()\n",
    "  ax = example.to_frame().plot(kind='barh',\n",
    "                          color=[colors],\n",
    "                          legend=None,\n",
    "                          alpha=0.75,\n",
    "                          figsize=(10,6))\n",
    "  ax.grid(False, axis='y')\n",
    "  ax.set_yticklabels(ax.get_yticklabels(), size=14)\n",
    "\n",
    "  # Add feature values.\n",
    "  _add_feature_values(dfeval.iloc[ID][sorted_ix], ax)\n",
    "  return ax"
   ]
  },
  {
   "cell_type": "code",
   "execution_count": 13,
   "metadata": {},
   "outputs": [
    {
     "data": {
      "image/png": "[encoded data removed]",
      "text/plain": [
       "<Figure size 720x432 with 1 Axes>"
      ]
     },
     "metadata": {
      "needs_background": "light"
     },
     "output_type": "display_data"
    }
   ],
   "source": [
    "# Plot results.\n",
    "ID = 182\n",
    "example = df_dfc.iloc[ID]  # Choose ith example from evaluation set.\n",
    "TOP_N = 8  # View top 8 features.\n",
    "sorted_ix = example.abs().sort_values()[-TOP_N:].index\n",
    "ax = plot_example(example)\n",
    "ax.set_title('Feature contributions for example {}\\n pred: {:1.2f}; label: {}'.format(ID, probs[ID], labels[ID]))\n",
    "ax.set_xlabel('Contribution to predicted probability', size=14)\n",
    "plt.show()"
   ]
  },
  {
   "cell_type": "markdown",
   "metadata": {},
   "source": [
    "The larger magnitude contributions have a larger impact on the model's prediction. Negative contributions indicate the feature value for this given example reduced the model's prediction, while positive values contribute an increase in the prediction.\n",
    "\n",
    "You can also plot the example's DFCs compare with the entire distribution using a voilin plot."
   ]
  },
  {
   "cell_type": "code",
   "execution_count": 14,
   "metadata": {},
   "outputs": [],
   "source": [
    "# Boilerplate plotting code.\n",
    "def dist_violin_plot(df_dfc, ID):\n",
    "  # Initialize plot.\n",
    "  fig, ax = plt.subplots(1, 1, figsize=(10, 6))\n",
    "\n",
    "  # Create example dataframe.\n",
    "  TOP_N = 8  # View top 8 features.\n",
    "  example = df_dfc.iloc[ID]\n",
    "  ix = example.abs().sort_values()[-TOP_N:].index\n",
    "  example = example[ix]\n",
    "  example_df = example.to_frame(name='dfc')\n",
    "\n",
    "  # Add contributions of entire distribution.\n",
    "  parts=ax.violinplot([df_dfc[w] for w in ix],\n",
    "                 vert=False,\n",
    "                 showextrema=False,\n",
    "                 widths=0.7,\n",
    "                 positions=np.arange(len(ix)))\n",
    "  face_color = sns_colors[0]\n",
    "  alpha = 0.15\n",
    "  for pc in parts['bodies']:\n",
    "      pc.set_facecolor(face_color)\n",
    "      pc.set_alpha(alpha)\n",
    "\n",
    "  # Add feature values.\n",
    "  _add_feature_values(dfeval.iloc[ID][sorted_ix], ax)\n",
    "\n",
    "  # Add local contributions.\n",
    "  ax.scatter(example,\n",
    "              np.arange(example.shape[0]),\n",
    "              color=sns.color_palette()[2],\n",
    "              s=100,\n",
    "              marker=\"s\",\n",
    "              label='contributions for example')\n",
    "\n",
    "  # Legend\n",
    "  # Proxy plot, to show violinplot dist on legend.\n",
    "  ax.plot([0,0], [1,1], label='eval set contributions\\ndistributions',\n",
    "          color=face_color, alpha=alpha, linewidth=10)\n",
    "  legend = ax.legend(loc='lower right', shadow=True, fontsize='x-large',\n",
    "                     frameon=True)\n",
    "  legend.get_frame().set_facecolor('white')\n",
    "\n",
    "  # Format plot.\n",
    "  ax.set_yticks(np.arange(example.shape[0]))\n",
    "  ax.set_yticklabels(example.index)\n",
    "  ax.grid(False, axis='y')\n",
    "  ax.set_xlabel('Contribution to predicted probability', size=14)"
   ]
  },
  {
   "cell_type": "markdown",
   "metadata": {},
   "source": [
    "Plot this example."
   ]
  },
  {
   "cell_type": "code",
   "execution_count": 15,
   "metadata": {},
   "outputs": [
    {
     "data": {
      "image/png": "[encoded data removed]",
      "text/plain": [
       "<Figure size 720x432 with 1 Axes>"
      ]
     },
     "metadata": {
      "needs_background": "light"
     },
     "output_type": "display_data"
    }
   ],
   "source": [
    "dist_violin_plot(df_dfc, ID)\n",
    "plt.title('Feature contributions for example {}\\n pred: {:1.2f}; label: {}'.format(ID, probs[ID], labels[ID]))\n",
    "plt.show()"
   ]
  },
  {
   "cell_type": "markdown",
   "metadata": {},
   "source": [
    "Finally, third-party tools, such as LIME and shap, can also help understand individual predictions for a model."
   ]
  },
  {
   "cell_type": "markdown",
   "metadata": {},
   "source": [
    "## Global feature importances"
   ]
  },
  {
   "cell_type": "markdown",
   "metadata": {},
   "source": [
    "Additionally, you might want to understand the model as a whole, rather than studying individual predictions. Below, you will compute and use:\n",
    "\n",
    "* Gain-based feature importances using est.experimental_feature_importances\n",
    "* Permutation importances\n",
    "* Aggregate DFCs using est.experimental_predict_with_explanations\n",
    "\n",
    "Gain-based feature importances measure the loss change when splitting on a particular feature, while permutation feature importances are computed by evaluating model performance on the evaluation set by shuffling each feature one-by-one and attributing the change in model performance to the shuffled feature.\n",
    "\n",
    "In general, permutation feature importance are preferred to gain-based feature importance, though both methods can be unreliable in situations where potential predictor variables vary in their scale of measurement or their number of categories and when features are correlated (source). Check out this article for an in-depth overview and great discussion on different feature importance types."
   ]
  },
  {
   "cell_type": "markdown",
   "metadata": {},
   "source": [
    "### Gain-based feature importances"
   ]
  },
  {
   "cell_type": "markdown",
   "metadata": {},
   "source": [
    "Gain-based feature importances are built into the TensorFlow Boosted Trees estimators using est.experimental_feature_importances."
   ]
  },
  {
   "cell_type": "code",
   "execution_count": 16,
   "metadata": {},
   "outputs": [
    {
     "data": {
      "image/png": "[encoded data removed]",
      "text/plain": [
       "<Figure size 720x432 with 1 Axes>"
      ]
     },
     "metadata": {
      "needs_background": "light"
     },
     "output_type": "display_data"
    }
   ],
   "source": [
    "importances = est.experimental_feature_importances(normalize=True)\n",
    "df_imp = pd.Series(importances)\n",
    "\n",
    "# Visualize importances.\n",
    "N = 8\n",
    "ax = (df_imp.iloc[0:N][::-1]\n",
    "    .plot(kind='barh',\n",
    "          color=sns_colors[0],\n",
    "          title='Gain feature importances',\n",
    "          figsize=(10, 6)))\n",
    "ax.grid(False, axis='y')"
   ]
  },
  {
   "cell_type": "markdown",
   "metadata": {},
   "source": [
    "### Average absolute DFCs"
   ]
  },
  {
   "cell_type": "markdown",
   "metadata": {},
   "source": [
    "You can also average the absolute values of DFCs to understand impact at a global level."
   ]
  },
  {
   "cell_type": "code",
   "execution_count": 17,
   "metadata": {},
   "outputs": [
    {
     "data": {
      "image/png": "[encoded data removed]",
      "text/plain": [
       "<Figure size 720x432 with 1 Axes>"
      ]
     },
     "metadata": {
      "needs_background": "light"
     },
     "output_type": "display_data"
    }
   ],
   "source": [
    "# Plot.\n",
    "dfc_mean = df_dfc.abs().mean()\n",
    "N = 8\n",
    "sorted_ix = dfc_mean.abs().sort_values()[-N:].index  # Average and sort by absolute.\n",
    "ax = dfc_mean[sorted_ix].plot(kind='barh',\n",
    "                       color=sns_colors[1],\n",
    "                       title='Mean |directional feature contributions|',\n",
    "                       figsize=(10, 6))\n",
    "ax.grid(False, axis='y')"
   ]
  },
  {
   "cell_type": "markdown",
   "metadata": {},
   "source": [
    "You can also see how DFCs vary as a feature value varies."
   ]
  },
  {
   "cell_type": "code",
   "execution_count": 19,
   "metadata": {},
   "outputs": [
    {
     "data": {
      "image/png": "[encoded data removed]",
      "text/plain": [
       "<Figure size 432x288 with 1 Axes>"
      ]
     },
     "metadata": {
      "needs_background": "light"
     },
     "output_type": "display_data"
    }
   ],
   "source": [
    "FEATURE = 'fare'\n",
    "feature = pd.Series(df_dfc[FEATURE].values, index=dfeval[FEATURE].values).sort_index()\n",
    "ax = sns.regplot(feature.index.values, feature.values, lowess=True)\n",
    "ax.set_ylabel('contribution')\n",
    "ax.set_xlabel(FEATURE)\n",
    "ax.set_xlim(0, 100)\n",
    "plt.show()"
   ]
  },
  {
   "cell_type": "markdown",
   "metadata": {},
   "source": [
    "### Permutation feature importance"
   ]
  },
  {
   "cell_type": "code",
   "execution_count": 20,
   "metadata": {},
   "outputs": [
    {
     "name": "stdout",
     "output_type": "stream",
     "text": [
      "INFO:tensorflow:Calling model_fn.\n",
      "WARNING:tensorflow:Trapezoidal rule is known to produce incorrect PR-AUCs; please switch to \"careful_interpolation\" instead.\n",
      "WARNING:tensorflow:Trapezoidal rule is known to produce incorrect PR-AUCs; please switch to \"careful_interpolation\" instead.\n",
      "INFO:tensorflow:Done calling model_fn.\n",
      "INFO:tensorflow:Starting evaluation at 2020-02-02T11:59:57Z\n",
      "INFO:tensorflow:Graph was finalized.\n",
      "INFO:tensorflow:Restoring parameters from C:\\Users\\BlackWS\\AppData\\Local\\Temp\\tmpqns5kiix\\model.ckpt-153\n",
      "INFO:tensorflow:Running local_init_op.\n",
      "INFO:tensorflow:Done running local_init_op.\n",
      "INFO:tensorflow:Finished evaluation at 2020-02-02-11:59:58\n",
      "INFO:tensorflow:Saving dict for global step 153: accuracy = 0.8030303, accuracy_baseline = 0.625, auc = 0.8680134, auc_precision_recall = 0.85367525, average_loss = 0.4192262, global_step = 153, label/mean = 0.375, loss = 0.4192262, precision = 0.7473684, prediction/mean = 0.3857634, recall = 0.7171717\n",
      "INFO:tensorflow:Saving 'checkpoint_path' summary for global step 153: C:\\Users\\BlackWS\\AppData\\Local\\Temp\\tmpqns5kiix\\model.ckpt-153\n",
      "INFO:tensorflow:Calling model_fn.\n",
      "WARNING:tensorflow:Trapezoidal rule is known to produce incorrect PR-AUCs; please switch to \"careful_interpolation\" instead.\n",
      "WARNING:tensorflow:Trapezoidal rule is known to produce incorrect PR-AUCs; please switch to \"careful_interpolation\" instead.\n",
      "INFO:tensorflow:Done calling model_fn.\n",
      "INFO:tensorflow:Starting evaluation at 2020-02-02T11:59:59Z\n",
      "INFO:tensorflow:Graph was finalized.\n",
      "INFO:tensorflow:Restoring parameters from C:\\Users\\BlackWS\\AppData\\Local\\Temp\\tmpqns5kiix\\model.ckpt-153\n",
      "INFO:tensorflow:Running local_init_op.\n",
      "INFO:tensorflow:Done running local_init_op.\n",
      "INFO:tensorflow:Finished evaluation at 2020-02-02-12:00:00\n",
      "INFO:tensorflow:Saving dict for global step 153: accuracy = 0.54545456, accuracy_baseline = 0.625, auc = 0.58362406, auc_precision_recall = 0.48330784, average_loss = 0.83131677, global_step = 153, label/mean = 0.375, loss = 0.83131677, precision = 0.3960396, prediction/mean = 0.3899058, recall = 0.4040404\n",
      "INFO:tensorflow:Saving 'checkpoint_path' summary for global step 153: C:\\Users\\BlackWS\\AppData\\Local\\Temp\\tmpqns5kiix\\model.ckpt-153\n",
      "INFO:tensorflow:Calling model_fn.\n",
      "WARNING:tensorflow:Trapezoidal rule is known to produce incorrect PR-AUCs; please switch to \"careful_interpolation\" instead.\n",
      "WARNING:tensorflow:Trapezoidal rule is known to produce incorrect PR-AUCs; please switch to \"careful_interpolation\" instead.\n",
      "INFO:tensorflow:Done calling model_fn.\n",
      "INFO:tensorflow:Starting evaluation at 2020-02-02T12:00:01Z\n",
      "INFO:tensorflow:Graph was finalized.\n",
      "INFO:tensorflow:Restoring parameters from C:\\Users\\BlackWS\\AppData\\Local\\Temp\\tmpqns5kiix\\model.ckpt-153\n",
      "INFO:tensorflow:Running local_init_op.\n",
      "INFO:tensorflow:Done running local_init_op.\n",
      "INFO:tensorflow:Finished evaluation at 2020-02-02-12:00:02\n",
      "INFO:tensorflow:Saving dict for global step 153: accuracy = 0.8030303, accuracy_baseline = 0.625, auc = 0.8534129, auc_precision_recall = 0.83792305, average_loss = 0.43512955, global_step = 153, label/mean = 0.375, loss = 0.43512955, precision = 0.7373737, prediction/mean = 0.3872072, recall = 0.7373737\n",
      "INFO:tensorflow:Saving 'checkpoint_path' summary for global step 153: C:\\Users\\BlackWS\\AppData\\Local\\Temp\\tmpqns5kiix\\model.ckpt-153\n",
      "INFO:tensorflow:Calling model_fn.\n",
      "WARNING:tensorflow:Trapezoidal rule is known to produce incorrect PR-AUCs; please switch to \"careful_interpolation\" instead.\n",
      "WARNING:tensorflow:Trapezoidal rule is known to produce incorrect PR-AUCs; please switch to \"careful_interpolation\" instead.\n",
      "INFO:tensorflow:Done calling model_fn.\n",
      "INFO:tensorflow:Starting evaluation at 2020-02-02T12:00:02Z\n",
      "INFO:tensorflow:Graph was finalized.\n",
      "INFO:tensorflow:Restoring parameters from C:\\Users\\BlackWS\\AppData\\Local\\Temp\\tmpqns5kiix\\model.ckpt-153\n",
      "INFO:tensorflow:Running local_init_op.\n",
      "INFO:tensorflow:Done running local_init_op.\n",
      "INFO:tensorflow:Finished evaluation at 2020-02-02-12:00:03\n",
      "INFO:tensorflow:Saving dict for global step 153: accuracy = 0.8030303, accuracy_baseline = 0.625, auc = 0.8647995, auc_precision_recall = 0.84981716, average_loss = 0.4226746, global_step = 153, label/mean = 0.375, loss = 0.4226746, precision = 0.7473684, prediction/mean = 0.38454708, recall = 0.7171717\n",
      "INFO:tensorflow:Saving 'checkpoint_path' summary for global step 153: C:\\Users\\BlackWS\\AppData\\Local\\Temp\\tmpqns5kiix\\model.ckpt-153\n",
      "INFO:tensorflow:Calling model_fn.\n",
      "WARNING:tensorflow:Trapezoidal rule is known to produce incorrect PR-AUCs; please switch to \"careful_interpolation\" instead.\n",
      "WARNING:tensorflow:Trapezoidal rule is known to produce incorrect PR-AUCs; please switch to \"careful_interpolation\" instead.\n",
      "INFO:tensorflow:Done calling model_fn.\n",
      "INFO:tensorflow:Starting evaluation at 2020-02-02T12:00:04Z\n",
      "INFO:tensorflow:Graph was finalized.\n",
      "INFO:tensorflow:Restoring parameters from C:\\Users\\BlackWS\\AppData\\Local\\Temp\\tmpqns5kiix\\model.ckpt-153\n",
      "INFO:tensorflow:Running local_init_op.\n",
      "INFO:tensorflow:Done running local_init_op.\n",
      "INFO:tensorflow:Finished evaluation at 2020-02-02-12:00:05\n",
      "INFO:tensorflow:Saving dict for global step 153: accuracy = 0.7310606, accuracy_baseline = 0.625, auc = 0.7961739, auc_precision_recall = 0.66519237, average_loss = 0.5843935, global_step = 153, label/mean = 0.375, loss = 0.5843935, precision = 0.67948717, prediction/mean = 0.37144774, recall = 0.53535354\n",
      "INFO:tensorflow:Saving 'checkpoint_path' summary for global step 153: C:\\Users\\BlackWS\\AppData\\Local\\Temp\\tmpqns5kiix\\model.ckpt-153\n",
      "INFO:tensorflow:Calling model_fn.\n",
      "WARNING:tensorflow:Trapezoidal rule is known to produce incorrect PR-AUCs; please switch to \"careful_interpolation\" instead.\n",
      "WARNING:tensorflow:Trapezoidal rule is known to produce incorrect PR-AUCs; please switch to \"careful_interpolation\" instead.\n",
      "INFO:tensorflow:Done calling model_fn.\n",
      "INFO:tensorflow:Starting evaluation at 2020-02-02T12:00:06Z\n",
      "INFO:tensorflow:Graph was finalized.\n",
      "INFO:tensorflow:Restoring parameters from C:\\Users\\BlackWS\\AppData\\Local\\Temp\\tmpqns5kiix\\model.ckpt-153\n",
      "INFO:tensorflow:Running local_init_op.\n",
      "INFO:tensorflow:Done running local_init_op.\n",
      "INFO:tensorflow:Finished evaluation at 2020-02-02-12:00:07\n",
      "INFO:tensorflow:Saving dict for global step 153: accuracy = 0.78409094, accuracy_baseline = 0.625, auc = 0.84918886, auc_precision_recall = 0.8357793, average_loss = 0.43973622, global_step = 153, label/mean = 0.375, loss = 0.43973622, precision = 0.71875, prediction/mean = 0.39080858, recall = 0.6969697\n",
      "INFO:tensorflow:Saving 'checkpoint_path' summary for global step 153: C:\\Users\\BlackWS\\AppData\\Local\\Temp\\tmpqns5kiix\\model.ckpt-153\n",
      "INFO:tensorflow:Calling model_fn.\n",
      "WARNING:tensorflow:Trapezoidal rule is known to produce incorrect PR-AUCs; please switch to \"careful_interpolation\" instead.\n",
      "WARNING:tensorflow:Trapezoidal rule is known to produce incorrect PR-AUCs; please switch to \"careful_interpolation\" instead.\n",
      "INFO:tensorflow:Done calling model_fn.\n",
      "INFO:tensorflow:Starting evaluation at 2020-02-02T12:00:08Z\n",
      "INFO:tensorflow:Graph was finalized.\n",
      "INFO:tensorflow:Restoring parameters from C:\\Users\\BlackWS\\AppData\\Local\\Temp\\tmpqns5kiix\\model.ckpt-153\n",
      "INFO:tensorflow:Running local_init_op.\n",
      "INFO:tensorflow:Done running local_init_op.\n",
      "INFO:tensorflow:Finished evaluation at 2020-02-02-12:00:09\n",
      "INFO:tensorflow:Saving dict for global step 153: accuracy = 0.79924244, accuracy_baseline = 0.625, auc = 0.85754514, auc_precision_recall = 0.8430402, average_loss = 0.42676428, global_step = 153, label/mean = 0.375, loss = 0.42676428, precision = 0.7446808, prediction/mean = 0.38097447, recall = 0.7070707\n",
      "INFO:tensorflow:Saving 'checkpoint_path' summary for global step 153: C:\\Users\\BlackWS\\AppData\\Local\\Temp\\tmpqns5kiix\\model.ckpt-153\n",
      "INFO:tensorflow:Calling model_fn.\n",
      "WARNING:tensorflow:Trapezoidal rule is known to produce incorrect PR-AUCs; please switch to \"careful_interpolation\" instead.\n",
      "WARNING:tensorflow:Trapezoidal rule is known to produce incorrect PR-AUCs; please switch to \"careful_interpolation\" instead.\n",
      "INFO:tensorflow:Done calling model_fn.\n",
      "INFO:tensorflow:Starting evaluation at 2020-02-02T12:00:10Z\n",
      "INFO:tensorflow:Graph was finalized.\n",
      "INFO:tensorflow:Restoring parameters from C:\\Users\\BlackWS\\AppData\\Local\\Temp\\tmpqns5kiix\\model.ckpt-153\n",
      "INFO:tensorflow:Running local_init_op.\n",
      "INFO:tensorflow:Done running local_init_op.\n",
      "INFO:tensorflow:Finished evaluation at 2020-02-02-12:00:10\n",
      "INFO:tensorflow:Saving dict for global step 153: accuracy = 0.8030303, accuracy_baseline = 0.625, auc = 0.8677379, auc_precision_recall = 0.85327417, average_loss = 0.4195989, global_step = 153, label/mean = 0.375, loss = 0.4195989, precision = 0.7473684, prediction/mean = 0.38635457, recall = 0.7171717\n",
      "INFO:tensorflow:Saving 'checkpoint_path' summary for global step 153: C:\\Users\\BlackWS\\AppData\\Local\\Temp\\tmpqns5kiix\\model.ckpt-153\n",
      "INFO:tensorflow:Calling model_fn.\n",
      "WARNING:tensorflow:Trapezoidal rule is known to produce incorrect PR-AUCs; please switch to \"careful_interpolation\" instead.\n",
      "WARNING:tensorflow:Trapezoidal rule is known to produce incorrect PR-AUCs; please switch to \"careful_interpolation\" instead.\n",
      "INFO:tensorflow:Done calling model_fn.\n",
      "INFO:tensorflow:Starting evaluation at 2020-02-02T12:00:11Z\n",
      "INFO:tensorflow:Graph was finalized.\n",
      "INFO:tensorflow:Restoring parameters from C:\\Users\\BlackWS\\AppData\\Local\\Temp\\tmpqns5kiix\\model.ckpt-153\n",
      "INFO:tensorflow:Running local_init_op.\n",
      "INFO:tensorflow:Done running local_init_op.\n",
      "INFO:tensorflow:Finished evaluation at 2020-02-02-12:00:12\n",
      "INFO:tensorflow:Saving dict for global step 153: accuracy = 0.7878788, accuracy_baseline = 0.625, auc = 0.8049893, auc_precision_recall = 0.789908, average_loss = 0.49065423, global_step = 153, label/mean = 0.375, loss = 0.49065423, precision = 0.74157304, prediction/mean = 0.3826083, recall = 0.6666667\n",
      "INFO:tensorflow:Saving 'checkpoint_path' summary for global step 153: C:\\Users\\BlackWS\\AppData\\Local\\Temp\\tmpqns5kiix\\model.ckpt-153\n",
      "INFO:tensorflow:Calling model_fn.\n",
      "WARNING:tensorflow:Trapezoidal rule is known to produce incorrect PR-AUCs; please switch to \"careful_interpolation\" instead.\n",
      "WARNING:tensorflow:Trapezoidal rule is known to produce incorrect PR-AUCs; please switch to \"careful_interpolation\" instead.\n",
      "INFO:tensorflow:Done calling model_fn.\n",
      "INFO:tensorflow:Starting evaluation at 2020-02-02T12:00:13Z\n",
      "INFO:tensorflow:Graph was finalized.\n",
      "INFO:tensorflow:Restoring parameters from C:\\Users\\BlackWS\\AppData\\Local\\Temp\\tmpqns5kiix\\model.ckpt-153\n",
      "INFO:tensorflow:Running local_init_op.\n",
      "INFO:tensorflow:Done running local_init_op.\n",
      "INFO:tensorflow:Finished evaluation at 2020-02-02-12:00:14\n",
      "INFO:tensorflow:Saving dict for global step 153: accuracy = 0.8068182, accuracy_baseline = 0.625, auc = 0.8406795, auc_precision_recall = 0.8230847, average_loss = 0.4377049, global_step = 153, label/mean = 0.375, loss = 0.4377049, precision = 0.7790698, prediction/mean = 0.37906536, recall = 0.67676765\n",
      "INFO:tensorflow:Saving 'checkpoint_path' summary for global step 153: C:\\Users\\BlackWS\\AppData\\Local\\Temp\\tmpqns5kiix\\model.ckpt-153\n"
     ]
    },
    {
     "data": {
      "image/png": "[encoded data removed]",
      "text/plain": [
       "<Figure size 720x432 with 1 Axes>"
      ]
     },
     "metadata": {
      "needs_background": "light"
     },
     "output_type": "display_data"
    }
   ],
   "source": [
    "def permutation_importances(est, X_eval, y_eval, metric, features):\n",
    "    \"\"\"Column by column, shuffle values and observe effect on eval set.\n",
    "\n",
    "    source: http://explained.ai/rf-importance/index.html\n",
    "    A similar approach can be done during training. See \"Drop-column importance\"\n",
    "    in the above article.\"\"\"\n",
    "    baseline = metric(est, X_eval, y_eval)\n",
    "    imp = []\n",
    "    for col in features:\n",
    "        save = X_eval[col].copy()\n",
    "        X_eval[col] = np.random.permutation(X_eval[col])\n",
    "        m = metric(est, X_eval, y_eval)\n",
    "        X_eval[col] = save\n",
    "        imp.append(baseline - m)\n",
    "    return np.array(imp)\n",
    "\n",
    "def accuracy_metric(est, X, y):\n",
    "    \"\"\"TensorFlow estimator accuracy.\"\"\"\n",
    "    eval_input_fn = make_input_fn(X,\n",
    "                                  y=y,\n",
    "                                  shuffle=False,\n",
    "                                  n_epochs=1)\n",
    "    return est.evaluate(input_fn=eval_input_fn)['accuracy']\n",
    "features = CATEGORICAL_COLUMNS + NUMERIC_COLUMNS\n",
    "importances = permutation_importances(est, dfeval, y_eval, accuracy_metric,\n",
    "                                      features)\n",
    "df_imp = pd.Series(importances, index=features)\n",
    "\n",
    "sorted_ix = df_imp.abs().sort_values().index\n",
    "ax = df_imp[sorted_ix][-5:].plot(kind='barh', color=sns_colors[2], figsize=(10, 6))\n",
    "ax.grid(False, axis='y')\n",
    "ax.set_title('Permutation feature importance')\n",
    "plt.show()"
   ]
  },
  {
   "cell_type": "markdown",
   "metadata": {},
   "source": [
    "## Visualizing model fitting"
   ]
  },
  {
   "cell_type": "markdown",
   "metadata": {},
   "source": [
    "Lets first simulate/create training data using the following formula:\n",
    "\n",
    "Where (z) is the dependent variable you are trying to predict and (x) and (y) are the features."
   ]
  },
  {
   "cell_type": "code",
   "execution_count": 23,
   "metadata": {},
   "outputs": [],
   "source": [
    "from numpy.random import uniform, seed\n",
    "# from matplotlib.mlab import griddata\n",
    "from scipy.interpolate import griddata\n",
    "\n",
    "# Create fake data\n",
    "seed(0)\n",
    "npts = 5000\n",
    "x = uniform(-2, 2, npts)\n",
    "y = uniform(-2, 2, npts)\n",
    "z = x*np.exp(-x**2 - y**2)"
   ]
  },
  {
   "cell_type": "code",
   "execution_count": 24,
   "metadata": {},
   "outputs": [],
   "source": [
    "# Prep data for training.\n",
    "df = pd.DataFrame({'x': x, 'y': y, 'z': z})\n",
    "\n",
    "xi = np.linspace(-2.0, 2.0, 200),\n",
    "yi = np.linspace(-2.1, 2.1, 210),\n",
    "xi,yi = np.meshgrid(xi, yi)\n",
    "\n",
    "df_predict = pd.DataFrame({\n",
    "    'x' : xi.flatten(),\n",
    "    'y' : yi.flatten(),\n",
    "})\n",
    "predict_shape = xi.shape"
   ]
  },
  {
   "cell_type": "code",
   "execution_count": 25,
   "metadata": {},
   "outputs": [],
   "source": [
    "def plot_contour(x, y, z, **kwargs):\n",
    "  # Grid the data.\n",
    "  plt.figure(figsize=(10, 8))\n",
    "  # Contour the gridded data, plotting dots at the nonuniform data points.\n",
    "  CS = plt.contour(x, y, z, 15, linewidths=0.5, colors='k')\n",
    "  CS = plt.contourf(x, y, z, 15,\n",
    "                    vmax=abs(zi).max(), vmin=-abs(zi).max(), cmap='RdBu_r')\n",
    "  plt.colorbar()  # Draw colorbar.\n",
    "  # Plot data points.\n",
    "  plt.xlim(-2, 2)\n",
    "  plt.ylim(-2, 2)"
   ]
  },
  {
   "cell_type": "markdown",
   "metadata": {},
   "source": [
    "You can visualize the function. Redder colors correspond to larger function values."
   ]
  },
  {
   "cell_type": "code",
   "execution_count": null,
   "metadata": {},
   "outputs": [],
   "source": [
    "zi = griddata(x, y, z, xi, yi, method='linear')\n",
    "plot_contour(xi, yi, zi)\n",
    "plt.scatter(df.x, df.y, marker='.')\n",
    "plt.title('Contour on training data')\n",
    "plt.show()"
   ]
  },
  {
   "cell_type": "code",
   "execution_count": 28,
   "metadata": {},
   "outputs": [],
   "source": [
    "fc = [tf.feature_column.numeric_column('x'),\n",
    "      tf.feature_column.numeric_column('y')]"
   ]
  },
  {
   "cell_type": "code",
   "execution_count": 29,
   "metadata": {},
   "outputs": [],
   "source": [
    "def predict(est):\n",
    "  \"\"\"Predictions from a given estimator.\"\"\"\n",
    "  predict_input_fn = lambda: tf.data.Dataset.from_tensors(dict(df_predict))\n",
    "  preds = np.array([p['predictions'][0] for p in est.predict(predict_input_fn)])\n",
    "  return preds.reshape(predict_shape)"
   ]
  },
  {
   "cell_type": "markdown",
   "metadata": {},
   "source": [
    "First let's try to fit a linear model to the data."
   ]
  },
  {
   "cell_type": "code",
   "execution_count": 30,
   "metadata": {},
   "outputs": [
    {
     "name": "stdout",
     "output_type": "stream",
     "text": [
      "INFO:tensorflow:Using default config.\n",
      "WARNING:tensorflow:Using temporary folder as model directory: C:\\Users\\BlackWS\\AppData\\Local\\Temp\\tmp8oxnnbxl\n",
      "INFO:tensorflow:Using config: {'_model_dir': 'C:\\\\Users\\\\BlackWS\\\\AppData\\\\Local\\\\Temp\\\\tmp8oxnnbxl', '_tf_random_seed': None, '_save_summary_steps': 100, '_save_checkpoints_steps': None, '_save_checkpoints_secs': 600, '_session_config': allow_soft_placement: true\n",
      "graph_options {\n",
      "  rewrite_options {\n",
      "    meta_optimizer_iterations: ONE\n",
      "  }\n",
      "}\n",
      ", '_keep_checkpoint_max': 5, '_keep_checkpoint_every_n_hours': 10000, '_log_step_count_steps': 100, '_train_distribute': None, '_device_fn': None, '_protocol': None, '_eval_distribute': None, '_experimental_distribute': None, '_experimental_max_worker_delay_secs': None, '_session_creation_timeout_secs': 7200, '_service': None, '_cluster_spec': <tensorflow.python.training.server_lib.ClusterSpec object at 0x00000264E0011848>, '_task_type': 'worker', '_task_id': 0, '_global_id_in_cluster': 0, '_master': '', '_evaluation_master': '', '_is_chief': True, '_num_ps_replicas': 0, '_num_worker_replicas': 1}\n",
      "INFO:tensorflow:Calling model_fn.\n",
      "WARNING:tensorflow:From C:\\ProgramData\\Anaconda3\\envs\\spyder\\lib\\site-packages\\tensorflow_core\\python\\feature_column\\feature_column_v2.py:518: Layer.add_variable (from tensorflow.python.keras.engine.base_layer) is deprecated and will be removed in a future version.\n",
      "Instructions for updating:\n",
      "Please use `layer.add_weight` method instead.\n",
      "WARNING:tensorflow:From C:\\ProgramData\\Anaconda3\\envs\\spyder\\lib\\site-packages\\tensorflow_core\\python\\keras\\optimizer_v2\\ftrl.py:143: calling Constant.__init__ (from tensorflow.python.ops.init_ops) with dtype is deprecated and will be removed in a future version.\n",
      "Instructions for updating:\n",
      "Call initializer instance with the dtype argument instead of passing it to the constructor\n",
      "INFO:tensorflow:Done calling model_fn.\n",
      "INFO:tensorflow:Create CheckpointSaverHook.\n",
      "INFO:tensorflow:Graph was finalized.\n",
      "INFO:tensorflow:Running local_init_op.\n",
      "INFO:tensorflow:Done running local_init_op.\n",
      "INFO:tensorflow:Saving checkpoints for 0 into C:\\Users\\BlackWS\\AppData\\Local\\Temp\\tmp8oxnnbxl\\model.ckpt.\n",
      "INFO:tensorflow:loss = 0.023767857, step = 0\n",
      "INFO:tensorflow:global_step/sec: 280.989\n",
      "INFO:tensorflow:loss = 0.019564142, step = 100 (0.357 sec)\n",
      "INFO:tensorflow:global_step/sec: 398.533\n",
      "INFO:tensorflow:loss = 0.018595954, step = 200 (0.250 sec)\n",
      "INFO:tensorflow:global_step/sec: 406.634\n",
      "INFO:tensorflow:loss = 0.016872708, step = 300 (0.246 sec)\n",
      "INFO:tensorflow:global_step/sec: 406.634\n",
      "INFO:tensorflow:loss = 0.019995637, step = 400 (0.246 sec)\n",
      "INFO:tensorflow:Saving checkpoints for 500 into C:\\Users\\BlackWS\\AppData\\Local\\Temp\\tmp8oxnnbxl\\model.ckpt.\n",
      "INFO:tensorflow:Loss for final step: 0.018462233.\n"
     ]
    }
   ],
   "source": [
    "train_input_fn = make_input_fn(df, df.z)\n",
    "est = tf.estimator.LinearRegressor(fc)\n",
    "est.train(train_input_fn, max_steps=500);"
   ]
  },
  {
   "cell_type": "code",
   "execution_count": null,
   "metadata": {},
   "outputs": [],
   "source": [
    "plot_contour(xi, yi, predict(est))"
   ]
  },
  {
   "cell_type": "markdown",
   "metadata": {},
   "source": [
    "It's not a very good fit. Next let's try to fit a GBDT model to it and try to understand how the model fits the function."
   ]
  },
  {
   "cell_type": "code",
   "execution_count": null,
   "metadata": {},
   "outputs": [],
   "source": [
    "n_trees = 22 #@param {type: \"slider\", min: 1, max: 80, step: 1}\n",
    "\n",
    "est = tf.estimator.BoostedTreesRegressor(fc, n_batches_per_layer=1, n_trees=n_trees)\n",
    "est.train(train_input_fn, max_steps=500)\n",
    "clear_output()\n",
    "plot_contour(xi, yi, predict(est))\n",
    "plt.text(-1.8, 2.1, '# trees: {}'.format(n_trees), color='w', backgroundcolor='black', size=20)\n",
    "plt.show()"
   ]
  },
  {
   "cell_type": "markdown",
   "metadata": {},
   "source": [
    "As you increase the number of trees, the model's predictions better approximates the underlying function."
   ]
  },
  {
   "cell_type": "markdown",
   "metadata": {},
   "source": [
    "## Conclusion"
   ]
  },
  {
   "cell_type": "markdown",
   "metadata": {},
   "source": [
    "In this tutorial you learned how to interpret Boosted Trees models using directional feature contributions and feature importance techniques. These techniques provide insight into how the features impact a model's predictions. Finally, you also gained intution for how a Boosted Tree model fits a complex function by viewing the decision surface for several models."
   ]
  },
  {
   "cell_type": "code",
   "execution_count": null,
   "metadata": {},
   "outputs": [],
   "source": []
  }
 ],
 "metadata": {
  "kernelspec": {
   "display_name": "Python 3",
   "language": "python",
   "name": "python3"
  },
  "language_info": {
   "codemirror_mode": {
    "name": "ipython",
    "version": 3
   },
   "file_extension": ".py",
   "mimetype": "text/x-python",
   "name": "python",
   "nbconvert_exporter": "python",
   "pygments_lexer": "ipython3",
   "version": "3.7.6"
  }
 },
 "nbformat": 4,
 "nbformat_minor": 4
}
