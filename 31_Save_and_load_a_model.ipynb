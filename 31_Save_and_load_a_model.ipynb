{
 "cells": [
  {
   "cell_type": "markdown",
   "metadata": {},
   "source": [
    "## Save and load a model using a distribution strategy"
   ]
  },
  {
   "cell_type": "markdown",
   "metadata": {},
   "source": [
    "## Overview"
   ]
  },
  {
   "cell_type": "markdown",
   "metadata": {},
   "source": [
    "It's common to save and load a model during training. There are two sets of APIs for saving and loading a keras model: a high-level API, and a low-level API. This tutorial demonstrates how you can use the SavedModel APIs when using tf.distribute.Strategy. To learn about SavedModel and serialization in general, please read the saved model guide, and the Keras model serialization guide. Let's start with a simple example:\n",
    "\n",
    "Import dependencies:"
   ]
  },
  {
   "cell_type": "code",
   "execution_count": 1,
   "metadata": {},
   "outputs": [],
   "source": [
    "from __future__ import absolute_import, division, print_function, unicode_literals\n",
    "\n",
    "import tensorflow_datasets as tfds\n",
    "\n",
    "import tensorflow as tf\n",
    "tfds.disable_progress_bar()"
   ]
  },
  {
   "cell_type": "markdown",
   "metadata": {},
   "source": [
    "Prepare the data and model using tf.distribute.Strategy:"
   ]
  },
  {
   "cell_type": "code",
   "execution_count": 2,
   "metadata": {},
   "outputs": [
    {
     "name": "stdout",
     "output_type": "stream",
     "text": [
      "INFO:tensorflow:Using MirroredStrategy with devices ('/job:localhost/replica:0/task:0/device:GPU:0',)\n"
     ]
    }
   ],
   "source": [
    "mirrored_strategy = tf.distribute.MirroredStrategy()\n",
    "\n",
    "def get_data():\n",
    "  datasets, ds_info = tfds.load(name='mnist', with_info=True, as_supervised=True)\n",
    "  mnist_train, mnist_test = datasets['train'], datasets['test']\n",
    "\n",
    "  BUFFER_SIZE = 10000\n",
    "\n",
    "  BATCH_SIZE_PER_REPLICA = 64\n",
    "  BATCH_SIZE = BATCH_SIZE_PER_REPLICA * mirrored_strategy.num_replicas_in_sync\n",
    "\n",
    "  def scale(image, label):\n",
    "    image = tf.cast(image, tf.float32)\n",
    "    image /= 255\n",
    "\n",
    "    return image, label\n",
    "\n",
    "  train_dataset = mnist_train.map(scale).cache().shuffle(BUFFER_SIZE).batch(BATCH_SIZE)\n",
    "  eval_dataset = mnist_test.map(scale).batch(BATCH_SIZE)\n",
    "\n",
    "  return train_dataset, eval_dataset\n",
    "\n",
    "def get_model():\n",
    "  with mirrored_strategy.scope():\n",
    "    model = tf.keras.Sequential([\n",
    "        tf.keras.layers.Conv2D(32, 3, activation='relu', input_shape=(28, 28, 1)),\n",
    "        tf.keras.layers.MaxPooling2D(),\n",
    "        tf.keras.layers.Flatten(),\n",
    "        tf.keras.layers.Dense(64, activation='relu'),\n",
    "        tf.keras.layers.Dense(10, activation='softmax')\n",
    "    ])\n",
    "\n",
    "    model.compile(loss='sparse_categorical_crossentropy',\n",
    "                  optimizer=tf.keras.optimizers.Adam(),\n",
    "                  metrics=['accuracy'])\n",
    "    return model"
   ]
  },
  {
   "cell_type": "markdown",
   "metadata": {},
   "source": [
    "Train the model:"
   ]
  },
  {
   "cell_type": "code",
   "execution_count": 3,
   "metadata": {},
   "outputs": [
    {
     "name": "stdout",
     "output_type": "stream",
     "text": [
      "INFO:tensorflow:Reduce to /job:localhost/replica:0/task:0/device:CPU:0 then broadcast to ('/job:localhost/replica:0/task:0/device:CPU:0',).\n",
      "INFO:tensorflow:Reduce to /job:localhost/replica:0/task:0/device:CPU:0 then broadcast to ('/job:localhost/replica:0/task:0/device:CPU:0',).\n"
     ]
    },
    {
     "name": "stderr",
     "output_type": "stream",
     "text": [
      "WARNING:absl:Warning: Setting shuffle_files=True because split=TRAIN and shuffle_files=None. This behavior will be deprecated on 2019-08-06, at which point shuffle_files=False will be the default for all splits.\n"
     ]
    },
    {
     "name": "stdout",
     "output_type": "stream",
     "text": [
      "Epoch 1/2\n",
      "INFO:tensorflow:Reduce to /job:localhost/replica:0/task:0/device:CPU:0 then broadcast to ('/job:localhost/replica:0/task:0/device:CPU:0',).\n"
     ]
    },
    {
     "name": "stderr",
     "output_type": "stream",
     "text": [
      "INFO:tensorflow:Reduce to /job:localhost/replica:0/task:0/device:CPU:0 then broadcast to ('/job:localhost/replica:0/task:0/device:CPU:0',).\n"
     ]
    },
    {
     "name": "stdout",
     "output_type": "stream",
     "text": [
      "INFO:tensorflow:Reduce to /job:localhost/replica:0/task:0/device:CPU:0 then broadcast to ('/job:localhost/replica:0/task:0/device:CPU:0',).\n"
     ]
    },
    {
     "name": "stderr",
     "output_type": "stream",
     "text": [
      "INFO:tensorflow:Reduce to /job:localhost/replica:0/task:0/device:CPU:0 then broadcast to ('/job:localhost/replica:0/task:0/device:CPU:0',).\n"
     ]
    },
    {
     "name": "stdout",
     "output_type": "stream",
     "text": [
      "INFO:tensorflow:Reduce to /job:localhost/replica:0/task:0/device:CPU:0 then broadcast to ('/job:localhost/replica:0/task:0/device:CPU:0',).\n"
     ]
    },
    {
     "name": "stderr",
     "output_type": "stream",
     "text": [
      "INFO:tensorflow:Reduce to /job:localhost/replica:0/task:0/device:CPU:0 then broadcast to ('/job:localhost/replica:0/task:0/device:CPU:0',).\n"
     ]
    },
    {
     "name": "stdout",
     "output_type": "stream",
     "text": [
      "INFO:tensorflow:Reduce to /job:localhost/replica:0/task:0/device:CPU:0 then broadcast to ('/job:localhost/replica:0/task:0/device:CPU:0',).\n"
     ]
    },
    {
     "name": "stderr",
     "output_type": "stream",
     "text": [
      "INFO:tensorflow:Reduce to /job:localhost/replica:0/task:0/device:CPU:0 then broadcast to ('/job:localhost/replica:0/task:0/device:CPU:0',).\n"
     ]
    },
    {
     "name": "stdout",
     "output_type": "stream",
     "text": [
      "938/938 [==============================] - 9s 10ms/step - loss: 0.2083 - accuracy: 0.9409\n",
      "Epoch 2/2\n",
      "938/938 [==============================] - 3s 3ms/step - loss: 0.0682 - accuracy: 0.9794\n"
     ]
    },
    {
     "data": {
      "text/plain": [
       "<tensorflow.python.keras.callbacks.History at 0x2594f953388>"
      ]
     },
     "execution_count": 3,
     "metadata": {},
     "output_type": "execute_result"
    }
   ],
   "source": [
    "model = get_model()\n",
    "train_dataset, eval_dataset = get_data()\n",
    "model.fit(train_dataset, epochs=2)"
   ]
  },
  {
   "cell_type": "markdown",
   "metadata": {},
   "source": [
    "## Save and load the model"
   ]
  },
  {
   "cell_type": "markdown",
   "metadata": {},
   "source": [
    "Now that you have a simple model to work with, let's take a look at the saving/loading APIs. There are two sets of APIs available:\n",
    "\n",
    "* High level keras model.save and tf.keras.models.load_model\n",
    "\n",
    "* Low level tf.saved_model.save and tf.saved_model.load"
   ]
  },
  {
   "cell_type": "markdown",
   "metadata": {},
   "source": [
    "## The Keras APIs"
   ]
  },
  {
   "cell_type": "markdown",
   "metadata": {},
   "source": [
    "Here is an example of saving and loading a model with the Keras APIs:"
   ]
  },
  {
   "cell_type": "code",
   "execution_count": 4,
   "metadata": {},
   "outputs": [
    {
     "name": "stdout",
     "output_type": "stream",
     "text": [
      "WARNING:tensorflow:From C:\\ProgramData\\Anaconda3\\envs\\spyder\\lib\\site-packages\\tensorflow_core\\python\\ops\\resource_variable_ops.py:1809: calling BaseResourceVariable.__init__ (from tensorflow.python.ops.resource_variable_ops) with constraint is deprecated and will be removed in a future version.\n",
      "Instructions for updating:\n",
      "If using Keras pass *_constraint arguments to layers.\n"
     ]
    },
    {
     "name": "stderr",
     "output_type": "stream",
     "text": [
      "WARNING:tensorflow:From C:\\ProgramData\\Anaconda3\\envs\\spyder\\lib\\site-packages\\tensorflow_core\\python\\ops\\resource_variable_ops.py:1809: calling BaseResourceVariable.__init__ (from tensorflow.python.ops.resource_variable_ops) with constraint is deprecated and will be removed in a future version.\n",
      "Instructions for updating:\n",
      "If using Keras pass *_constraint arguments to layers.\n"
     ]
    },
    {
     "name": "stdout",
     "output_type": "stream",
     "text": [
      "INFO:tensorflow:Assets written to: /tmp/keras_save\\assets\n"
     ]
    },
    {
     "name": "stderr",
     "output_type": "stream",
     "text": [
      "INFO:tensorflow:Assets written to: /tmp/keras_save\\assets\n"
     ]
    }
   ],
   "source": [
    "keras_model_path = \"/tmp/keras_save\"\n",
    "model.save(keras_model_path)  # save() should be called out of strategy scope"
   ]
  },
  {
   "cell_type": "markdown",
   "metadata": {},
   "source": [
    "Restore the model without tf.distribute.Strategy:"
   ]
  },
  {
   "cell_type": "code",
   "execution_count": 6,
   "metadata": {},
   "outputs": [
    {
     "name": "stdout",
     "output_type": "stream",
     "text": [
      "Epoch 1/2\n",
      "938/938 [==============================] - 5s 6ms/step - loss: 0.0488 - accuracy: 0.9855\n",
      "Epoch 2/2\n",
      "938/938 [==============================] - 2s 3ms/step - loss: 0.0353 - accuracy: 0.9892\n"
     ]
    },
    {
     "data": {
      "text/plain": [
       "<tensorflow.python.keras.callbacks.History at 0x259d6532888>"
      ]
     },
     "execution_count": 6,
     "metadata": {},
     "output_type": "execute_result"
    }
   ],
   "source": [
    "restored_keras_model = tf.keras.models.load_model(keras_model_path)\n",
    "restored_keras_model.fit(train_dataset, epochs=2)"
   ]
  },
  {
   "cell_type": "markdown",
   "metadata": {},
   "source": [
    "After restoring the model, you can continue training on it, even without needing to call compile() again, since it is already compiled before saving. The model is saved in the TensorFlow's standard SavedModel proto format. For more information, please refer to the guide to saved_model format.\n",
    "\n",
    "It is important to only call the model.save() method out of the scope of tf.distribute.strategy. Calling it within the scope is not supported.\n",
    "\n",
    "Now to load the model and train it using a tf.distribute.Strategy:"
   ]
  },
  {
   "cell_type": "code",
   "execution_count": 7,
   "metadata": {},
   "outputs": [
    {
     "name": "stdout",
     "output_type": "stream",
     "text": [
      "Epoch 1/2\n",
      "938/938 [==============================] - 14s 14ms/step - loss: 0.0483 - accuracy: 0.9853\n",
      "Epoch 2/2\n",
      "938/938 [==============================] - 10s 11ms/step - loss: 0.0343 - accuracy: 0.9898\n"
     ]
    }
   ],
   "source": [
    "another_strategy = tf.distribute.OneDeviceStrategy(\"/cpu:0\")\n",
    "with another_strategy.scope():\n",
    "  restored_keras_model_ds = tf.keras.models.load_model(keras_model_path)\n",
    "  restored_keras_model_ds.fit(train_dataset, epochs=2)"
   ]
  },
  {
   "cell_type": "markdown",
   "metadata": {},
   "source": [
    "As you can see, loading works as expected with tf.distribute.Strategy. The strategy used here does not have to be the same strategy used before saving."
   ]
  },
  {
   "cell_type": "markdown",
   "metadata": {},
   "source": [
    "## The tf.saved_model APIs"
   ]
  },
  {
   "cell_type": "markdown",
   "metadata": {},
   "source": [
    "Now let's take a look at the lower level APIs. Saving the model is similar to the keras API:"
   ]
  },
  {
   "cell_type": "code",
   "execution_count": 8,
   "metadata": {},
   "outputs": [
    {
     "name": "stdout",
     "output_type": "stream",
     "text": [
      "INFO:tensorflow:Reduce to /job:localhost/replica:0/task:0/device:CPU:0 then broadcast to ('/job:localhost/replica:0/task:0/device:CPU:0',).\n"
     ]
    },
    {
     "name": "stderr",
     "output_type": "stream",
     "text": [
      "INFO:tensorflow:Reduce to /job:localhost/replica:0/task:0/device:CPU:0 then broadcast to ('/job:localhost/replica:0/task:0/device:CPU:0',).\n"
     ]
    },
    {
     "name": "stdout",
     "output_type": "stream",
     "text": [
      "INFO:tensorflow:Reduce to /job:localhost/replica:0/task:0/device:CPU:0 then broadcast to ('/job:localhost/replica:0/task:0/device:CPU:0',).\n"
     ]
    },
    {
     "name": "stderr",
     "output_type": "stream",
     "text": [
      "INFO:tensorflow:Reduce to /job:localhost/replica:0/task:0/device:CPU:0 then broadcast to ('/job:localhost/replica:0/task:0/device:CPU:0',).\n"
     ]
    },
    {
     "name": "stdout",
     "output_type": "stream",
     "text": [
      "INFO:tensorflow:Assets written to: /tmp/tf_save\\assets\n"
     ]
    },
    {
     "name": "stderr",
     "output_type": "stream",
     "text": [
      "INFO:tensorflow:Assets written to: /tmp/tf_save\\assets\n"
     ]
    }
   ],
   "source": [
    "model = get_model()  # get a fresh model\n",
    "saved_model_path = \"/tmp/tf_save\"\n",
    "tf.saved_model.save(model, saved_model_path)"
   ]
  },
  {
   "cell_type": "markdown",
   "metadata": {},
   "source": [
    "Loading can be done with tf.saved_model.load(). However, since it is an API that is on the lower level (and hence has a wider range of use cases), it does not return a Keras model. Instead, it returns an object that contain functions that can be used to do inference. For example:"
   ]
  },
  {
   "cell_type": "code",
   "execution_count": 9,
   "metadata": {},
   "outputs": [],
   "source": [
    "DEFAULT_FUNCTION_KEY = \"serving_default\"\n",
    "loaded = tf.saved_model.load(saved_model_path)\n",
    "inference_func = loaded.signatures[DEFAULT_FUNCTION_KEY]"
   ]
  },
  {
   "cell_type": "markdown",
   "metadata": {},
   "source": [
    "The loaded object may contain multiple functions, each associated with a key. The \"serving_default\" is the default key for the inference function with a saved Keras model. To do an inference with this function:"
   ]
  },
  {
   "cell_type": "code",
   "execution_count": 10,
   "metadata": {},
   "outputs": [
    {
     "name": "stdout",
     "output_type": "stream",
     "text": [
      "{'dense_3': <tf.Tensor: shape=(64, 10), dtype=float32, numpy=\n",
      "array([[0.08152293, 0.10359852, 0.10001289, 0.11380312, 0.11085431,\n",
      "        0.08964761, 0.09723446, 0.11587477, 0.09276418, 0.09468713],\n",
      "       [0.07796728, 0.10889704, 0.09726946, 0.10412445, 0.12067623,\n",
      "        0.08299836, 0.08576051, 0.11356711, 0.09966008, 0.10907951],\n",
      "       [0.07525688, 0.10777795, 0.10992579, 0.09546319, 0.12151492,\n",
      "        0.10920149, 0.07999195, 0.11819315, 0.08020148, 0.10247315],\n",
      "       [0.078532  , 0.0940456 , 0.09831812, 0.10295019, 0.11372173,\n",
      "        0.11241885, 0.098387  , 0.11391785, 0.08849224, 0.09921639],\n",
      "       [0.08219885, 0.11386871, 0.10145309, 0.10900635, 0.12363423,\n",
      "        0.10398824, 0.07601699, 0.11096799, 0.08656581, 0.09229972],\n",
      "       [0.08449997, 0.12553094, 0.0973694 , 0.11463431, 0.11469629,\n",
      "        0.09104072, 0.08772121, 0.09788387, 0.08853646, 0.09808683],\n",
      "       [0.0707457 , 0.11243695, 0.10424193, 0.09834082, 0.13041106,\n",
      "        0.10905583, 0.08348665, 0.11776631, 0.08315431, 0.09036049],\n",
      "       [0.08992039, 0.10036543, 0.09469191, 0.11841806, 0.12046155,\n",
      "        0.09976517, 0.09058201, 0.10793256, 0.07995687, 0.09790605],\n",
      "       [0.09850551, 0.09852696, 0.09804823, 0.10385425, 0.1163358 ,\n",
      "        0.10604056, 0.09439528, 0.11153875, 0.08571678, 0.08703795],\n",
      "       [0.08336681, 0.11048624, 0.10297046, 0.09898458, 0.11909822,\n",
      "        0.09667041, 0.09298626, 0.10732832, 0.08123561, 0.10687312],\n",
      "       [0.06836496, 0.09917261, 0.11533552, 0.1032961 , 0.12722105,\n",
      "        0.10037122, 0.09045968, 0.112574  , 0.08385825, 0.09934653],\n",
      "       [0.06890133, 0.10394056, 0.11384815, 0.09666222, 0.13749547,\n",
      "        0.09325667, 0.08341697, 0.10892234, 0.08277843, 0.11077786],\n",
      "       [0.07846422, 0.11836797, 0.09441979, 0.10713553, 0.13518772,\n",
      "        0.09286797, 0.08182267, 0.11435138, 0.08369405, 0.09368871],\n",
      "       [0.07338127, 0.09637298, 0.10098145, 0.10207502, 0.14604482,\n",
      "        0.09448539, 0.09126503, 0.11593017, 0.08552337, 0.09394053],\n",
      "       [0.08666621, 0.09760955, 0.10309254, 0.1061986 , 0.13802546,\n",
      "        0.10453851, 0.0906094 , 0.10750476, 0.07453667, 0.09121822],\n",
      "       [0.08102364, 0.11140305, 0.10942788, 0.09963415, 0.11790392,\n",
      "        0.09971625, 0.0942933 , 0.11471423, 0.07756703, 0.09431659],\n",
      "       [0.07740422, 0.10526243, 0.10434904, 0.09395529, 0.12191804,\n",
      "        0.10896068, 0.08660073, 0.10760608, 0.08610099, 0.10784251],\n",
      "       [0.06874249, 0.10077861, 0.09663597, 0.1059107 , 0.12642848,\n",
      "        0.10825116, 0.0846682 , 0.11175794, 0.0932584 , 0.10356794],\n",
      "       [0.06859406, 0.09915149, 0.1138644 , 0.1060914 , 0.1251413 ,\n",
      "        0.09604096, 0.08990373, 0.11458852, 0.08368086, 0.10294322],\n",
      "       [0.08314656, 0.09911445, 0.11175924, 0.11007523, 0.10497634,\n",
      "        0.09610555, 0.09866273, 0.10659537, 0.08500063, 0.10456394],\n",
      "       [0.08371273, 0.10420983, 0.10611951, 0.10406598, 0.13068603,\n",
      "        0.09197883, 0.08240983, 0.10628457, 0.08865461, 0.10187808],\n",
      "       [0.07938137, 0.08472668, 0.10200188, 0.10900292, 0.12864731,\n",
      "        0.09975626, 0.09408852, 0.12101533, 0.08599156, 0.09538817],\n",
      "       [0.07477093, 0.1063584 , 0.10808081, 0.09836174, 0.13719586,\n",
      "        0.09243305, 0.07945111, 0.12547955, 0.08654283, 0.09132572],\n",
      "       [0.07887156, 0.10504194, 0.11032869, 0.1043689 , 0.13057926,\n",
      "        0.09042075, 0.08375719, 0.10555204, 0.08970413, 0.10137559],\n",
      "       [0.08015724, 0.09440607, 0.10206289, 0.1027218 , 0.13302411,\n",
      "        0.10145539, 0.0906409 , 0.11207777, 0.08040189, 0.10305198],\n",
      "       [0.06839314, 0.09828396, 0.1072478 , 0.10289548, 0.13391367,\n",
      "        0.100228  , 0.08069541, 0.12160254, 0.08607644, 0.10066354],\n",
      "       [0.09005985, 0.09878031, 0.09990998, 0.10509742, 0.11334247,\n",
      "        0.10758102, 0.09314086, 0.10333095, 0.08633536, 0.10242179],\n",
      "       [0.075986  , 0.1054005 , 0.09817695, 0.10900307, 0.13057472,\n",
      "        0.09873103, 0.08617925, 0.11645756, 0.08479399, 0.09469698],\n",
      "       [0.06560464, 0.10585708, 0.10316532, 0.0884348 , 0.14490233,\n",
      "        0.1169721 , 0.07943625, 0.11297747, 0.08173987, 0.10091008],\n",
      "       [0.07998032, 0.10871261, 0.1064622 , 0.10697108, 0.11478508,\n",
      "        0.0920913 , 0.0815573 , 0.1102415 , 0.08645777, 0.11274086],\n",
      "       [0.08171868, 0.10798527, 0.09799924, 0.09690501, 0.13825199,\n",
      "        0.09556481, 0.07803223, 0.11643098, 0.08134124, 0.10577051],\n",
      "       [0.08829322, 0.09592664, 0.10343266, 0.10893586, 0.11290894,\n",
      "        0.11829118, 0.08882189, 0.11033189, 0.08171684, 0.09134094],\n",
      "       [0.07718865, 0.11099244, 0.09787499, 0.09806745, 0.13481903,\n",
      "        0.09789458, 0.07842579, 0.11770632, 0.08878499, 0.09824576],\n",
      "       [0.08508032, 0.10768096, 0.10400178, 0.0982549 , 0.11404829,\n",
      "        0.10986424, 0.08854775, 0.10199818, 0.08748671, 0.10303685],\n",
      "       [0.08009546, 0.11794603, 0.1019896 , 0.09523848, 0.1142788 ,\n",
      "        0.12053987, 0.08048289, 0.11502986, 0.08390793, 0.0904911 ],\n",
      "       [0.06697255, 0.11493479, 0.1009128 , 0.10668078, 0.1338248 ,\n",
      "        0.09585752, 0.08264782, 0.11220089, 0.0864153 , 0.09955271],\n",
      "       [0.06840919, 0.09635746, 0.10653946, 0.09987581, 0.14873534,\n",
      "        0.09522443, 0.07944526, 0.12619987, 0.0815825 , 0.09763063],\n",
      "       [0.08546533, 0.10244001, 0.10705382, 0.10398071, 0.11426147,\n",
      "        0.109754  , 0.09203993, 0.10573807, 0.08999171, 0.08927496],\n",
      "       [0.08380859, 0.10011544, 0.10002715, 0.10193875, 0.11649387,\n",
      "        0.10144505, 0.08464485, 0.1125844 , 0.08764324, 0.11129867],\n",
      "       [0.0851566 , 0.11136562, 0.09658272, 0.11153805, 0.11329682,\n",
      "        0.08851676, 0.09827582, 0.11106899, 0.09081219, 0.0933864 ],\n",
      "       [0.07335401, 0.11497506, 0.10275535, 0.09850536, 0.12199101,\n",
      "        0.10773953, 0.08085833, 0.11675115, 0.08004878, 0.1030214 ],\n",
      "       [0.07701392, 0.10789744, 0.09599491, 0.10659903, 0.119678  ,\n",
      "        0.10092882, 0.08717211, 0.11058845, 0.09474625, 0.0993811 ],\n",
      "       [0.0799598 , 0.1212438 , 0.09613981, 0.10017253, 0.11700875,\n",
      "        0.10656849, 0.0833594 , 0.11141425, 0.09182695, 0.09230613],\n",
      "       [0.08772354, 0.11939817, 0.09760442, 0.09329081, 0.11131089,\n",
      "        0.11242927, 0.08797535, 0.10928175, 0.08208484, 0.0989009 ],\n",
      "       [0.08537089, 0.11250651, 0.09711237, 0.11579956, 0.11799511,\n",
      "        0.09532958, 0.08802484, 0.10694408, 0.08551081, 0.0954062 ],\n",
      "       [0.07988887, 0.11165147, 0.10349907, 0.10012475, 0.12764914,\n",
      "        0.09517488, 0.08245687, 0.11107878, 0.08711726, 0.10135894],\n",
      "       [0.06798418, 0.09777061, 0.10377912, 0.1082905 , 0.12308943,\n",
      "        0.10734212, 0.08556511, 0.11090848, 0.09395573, 0.10131475],\n",
      "       [0.09193169, 0.09086025, 0.10097351, 0.10511047, 0.12111118,\n",
      "        0.10057128, 0.09729483, 0.11481811, 0.07750603, 0.09982271],\n",
      "       [0.0760612 , 0.10333757, 0.10996725, 0.09530185, 0.12237695,\n",
      "        0.10908066, 0.08857403, 0.11398591, 0.08566289, 0.09565169],\n",
      "       [0.07457549, 0.09193814, 0.10735013, 0.09604844, 0.13350423,\n",
      "        0.10397661, 0.09128907, 0.1302978 , 0.08054793, 0.09047212],\n",
      "       [0.07914156, 0.10039599, 0.10843128, 0.10380699, 0.12965037,\n",
      "        0.08955394, 0.08541214, 0.11639803, 0.08772453, 0.09948516],\n",
      "       [0.07632076, 0.09852   , 0.09894558, 0.09432963, 0.12925234,\n",
      "        0.10800713, 0.09012963, 0.11543147, 0.08357364, 0.1054898 ],\n",
      "       [0.08948454, 0.09673402, 0.09681138, 0.10988089, 0.11925715,\n",
      "        0.10351458, 0.08919491, 0.10550665, 0.08798313, 0.10163281],\n",
      "       [0.07602034, 0.09849608, 0.10257526, 0.09158587, 0.13014668,\n",
      "        0.10221197, 0.09098603, 0.11566927, 0.09025045, 0.10205809],\n",
      "       [0.06884779, 0.1042475 , 0.10538954, 0.10186663, 0.13107514,\n",
      "        0.10545834, 0.0792983 , 0.12298269, 0.08459479, 0.09623928],\n",
      "       [0.0693258 , 0.10408941, 0.10432922, 0.10667519, 0.12964739,\n",
      "        0.10058547, 0.08303164, 0.11965162, 0.08166023, 0.10100403],\n",
      "       [0.09014136, 0.10622102, 0.11153217, 0.10140855, 0.10341424,\n",
      "        0.11064757, 0.09456678, 0.09786653, 0.09027922, 0.09392259],\n",
      "       [0.08228022, 0.10512657, 0.11298376, 0.10125741, 0.11211137,\n",
      "        0.09948523, 0.08930808, 0.10134311, 0.0866529 , 0.10945129],\n",
      "       [0.07816051, 0.10882366, 0.10072541, 0.10427476, 0.1239805 ,\n",
      "        0.11681063, 0.0815756 , 0.11541211, 0.07402152, 0.09621535],\n",
      "       [0.07336565, 0.10343473, 0.10582434, 0.09754258, 0.12356492,\n",
      "        0.10604747, 0.08750007, 0.11323456, 0.09351739, 0.09596828],\n",
      "       [0.07155749, 0.09981025, 0.10372275, 0.10862952, 0.12253523,\n",
      "        0.09674926, 0.08543121, 0.11694206, 0.08921579, 0.10540637],\n",
      "       [0.07552782, 0.11039367, 0.0996784 , 0.10344724, 0.13411914,\n",
      "        0.08859254, 0.07949925, 0.1149048 , 0.08246822, 0.11136895],\n",
      "       [0.06720494, 0.10560843, 0.09841996, 0.11194831, 0.14244252,\n",
      "        0.09548084, 0.07936721, 0.12166075, 0.08268262, 0.09518444],\n",
      "       [0.07999931, 0.10987149, 0.10814939, 0.10255809, 0.13115637,\n",
      "        0.08915676, 0.08515205, 0.10448141, 0.08823956, 0.10123557]],\n",
      "      dtype=float32)>}\n"
     ]
    }
   ],
   "source": [
    "predict_dataset = eval_dataset.map(lambda image, label: image)\n",
    "for batch in predict_dataset.take(1):\n",
    "  print(inference_func(batch))"
   ]
  },
  {
   "cell_type": "markdown",
   "metadata": {},
   "source": [
    "You can also load and do inference in a distributed manner:"
   ]
  },
  {
   "cell_type": "code",
   "execution_count": 11,
   "metadata": {},
   "outputs": [
    {
     "name": "stdout",
     "output_type": "stream",
     "text": [
      "INFO:tensorflow:Using MirroredStrategy with devices ('/job:localhost/replica:0/task:0/device:GPU:0',)\n"
     ]
    },
    {
     "name": "stderr",
     "output_type": "stream",
     "text": [
      "INFO:tensorflow:Using MirroredStrategy with devices ('/job:localhost/replica:0/task:0/device:GPU:0',)\n"
     ]
    },
    {
     "name": "stdout",
     "output_type": "stream",
     "text": [
      "INFO:tensorflow:Reduce to /job:localhost/replica:0/task:0/device:CPU:0 then broadcast to ('/job:localhost/replica:0/task:0/device:CPU:0',).\n"
     ]
    },
    {
     "name": "stderr",
     "output_type": "stream",
     "text": [
      "INFO:tensorflow:Reduce to /job:localhost/replica:0/task:0/device:CPU:0 then broadcast to ('/job:localhost/replica:0/task:0/device:CPU:0',).\n"
     ]
    },
    {
     "name": "stdout",
     "output_type": "stream",
     "text": [
      "INFO:tensorflow:Reduce to /job:localhost/replica:0/task:0/device:CPU:0 then broadcast to ('/job:localhost/replica:0/task:0/device:CPU:0',).\n"
     ]
    },
    {
     "name": "stderr",
     "output_type": "stream",
     "text": [
      "INFO:tensorflow:Reduce to /job:localhost/replica:0/task:0/device:CPU:0 then broadcast to ('/job:localhost/replica:0/task:0/device:CPU:0',).\n"
     ]
    },
    {
     "name": "stdout",
     "output_type": "stream",
     "text": [
      "WARNING:tensorflow:Using MirroredStrategy eagerly has significant overhead currently. We will be working on improving this in the future, but for now please wrap `call_for_each_replica` or `experimental_run` or `experimental_run_v2` inside a tf.function to get the best performance.\n"
     ]
    },
    {
     "name": "stderr",
     "output_type": "stream",
     "text": [
      "WARNING:tensorflow:Using MirroredStrategy eagerly has significant overhead currently. We will be working on improving this in the future, but for now please wrap `call_for_each_replica` or `experimental_run` or `experimental_run_v2` inside a tf.function to get the best performance.\n"
     ]
    },
    {
     "name": "stdout",
     "output_type": "stream",
     "text": [
      "WARNING:tensorflow:Using MirroredStrategy eagerly has significant overhead currently. We will be working on improving this in the future, but for now please wrap `call_for_each_replica` or `experimental_run` or `experimental_run_v2` inside a tf.function to get the best performance.\n"
     ]
    },
    {
     "name": "stderr",
     "output_type": "stream",
     "text": [
      "WARNING:tensorflow:Using MirroredStrategy eagerly has significant overhead currently. We will be working on improving this in the future, but for now please wrap `call_for_each_replica` or `experimental_run` or `experimental_run_v2` inside a tf.function to get the best performance.\n"
     ]
    },
    {
     "name": "stdout",
     "output_type": "stream",
     "text": [
      "WARNING:tensorflow:Using MirroredStrategy eagerly has significant overhead currently. We will be working on improving this in the future, but for now please wrap `call_for_each_replica` or `experimental_run` or `experimental_run_v2` inside a tf.function to get the best performance.\n"
     ]
    },
    {
     "name": "stderr",
     "output_type": "stream",
     "text": [
      "WARNING:tensorflow:Using MirroredStrategy eagerly has significant overhead currently. We will be working on improving this in the future, but for now please wrap `call_for_each_replica` or `experimental_run` or `experimental_run_v2` inside a tf.function to get the best performance.\n"
     ]
    },
    {
     "name": "stdout",
     "output_type": "stream",
     "text": [
      "WARNING:tensorflow:Using MirroredStrategy eagerly has significant overhead currently. We will be working on improving this in the future, but for now please wrap `call_for_each_replica` or `experimental_run` or `experimental_run_v2` inside a tf.function to get the best performance.\n"
     ]
    },
    {
     "name": "stderr",
     "output_type": "stream",
     "text": [
      "WARNING:tensorflow:Using MirroredStrategy eagerly has significant overhead currently. We will be working on improving this in the future, but for now please wrap `call_for_each_replica` or `experimental_run` or `experimental_run_v2` inside a tf.function to get the best performance.\n"
     ]
    },
    {
     "name": "stdout",
     "output_type": "stream",
     "text": [
      "WARNING:tensorflow:Using MirroredStrategy eagerly has significant overhead currently. We will be working on improving this in the future, but for now please wrap `call_for_each_replica` or `experimental_run` or `experimental_run_v2` inside a tf.function to get the best performance.\n"
     ]
    },
    {
     "name": "stderr",
     "output_type": "stream",
     "text": [
      "WARNING:tensorflow:Using MirroredStrategy eagerly has significant overhead currently. We will be working on improving this in the future, but for now please wrap `call_for_each_replica` or `experimental_run` or `experimental_run_v2` inside a tf.function to get the best performance.\n"
     ]
    }
   ],
   "source": [
    "another_strategy = tf.distribute.MirroredStrategy()\n",
    "with another_strategy.scope():\n",
    "  loaded = tf.saved_model.load(saved_model_path)\n",
    "  inference_func = loaded.signatures[DEFAULT_FUNCTION_KEY]\n",
    "\n",
    "  dist_predict_dataset = another_strategy.experimental_distribute_dataset(\n",
    "      predict_dataset)\n",
    "\n",
    "  # Calling the function in a distributed manner\n",
    "  for batch in dist_predict_dataset:\n",
    "    another_strategy.experimental_run_v2(inference_func, \n",
    "                                         args=(batch,))"
   ]
  },
  {
   "cell_type": "markdown",
   "metadata": {},
   "source": [
    "Calling the restored function is just a forward pass on the saved model (predict). What if yout want to continue training the loaded function? Or embed the loaded function into a bigger model? A common practice is to wrap this loaded object to a Keras layer to achieve this. Luckily, TF Hub has hub.KerasLayer for this purpose, shown here:"
   ]
  },
  {
   "cell_type": "code",
   "execution_count": 12,
   "metadata": {},
   "outputs": [
    {
     "name": "stdout",
     "output_type": "stream",
     "text": [
      "INFO:tensorflow:Using MirroredStrategy with devices ('/job:localhost/replica:0/task:0/device:GPU:0',)\n"
     ]
    },
    {
     "name": "stderr",
     "output_type": "stream",
     "text": [
      "INFO:tensorflow:Using MirroredStrategy with devices ('/job:localhost/replica:0/task:0/device:GPU:0',)\n"
     ]
    },
    {
     "name": "stdout",
     "output_type": "stream",
     "text": [
      "Epoch 1/2\n",
      "938/938 [==============================] - 7s 7ms/step - loss: 0.2071 - accuracy: 0.9404\n",
      "Epoch 2/2\n",
      "938/938 [==============================] - 3s 3ms/step - loss: 0.0673 - accuracy: 0.9804\n"
     ]
    }
   ],
   "source": [
    "import tensorflow_hub as hub\n",
    "\n",
    "def build_model(loaded):\n",
    "  x = tf.keras.layers.Input(shape=(28, 28, 1), name='input_x')\n",
    "  # Wrap what's loaded to a KerasLayer\n",
    "  keras_layer = hub.KerasLayer(loaded, trainable=True)(x)\n",
    "  model = tf.keras.Model(x, keras_layer)\n",
    "  return model\n",
    "\n",
    "another_strategy = tf.distribute.MirroredStrategy()\n",
    "with another_strategy.scope():\n",
    "  loaded = tf.saved_model.load(saved_model_path)\n",
    "  model = build_model(loaded)\n",
    "\n",
    "  model.compile(loss='sparse_categorical_crossentropy',\n",
    "                optimizer=tf.keras.optimizers.Adam(),\n",
    "                metrics=['accuracy'])\n",
    "  model.fit(train_dataset, epochs=2)"
   ]
  },
  {
   "cell_type": "markdown",
   "metadata": {},
   "source": [
    "As you can see, hub.KerasLayer wraps the result loaded back from tf.saved_model.load() into a Keras layer that can be used to build another model. This is very useful for transfer learning."
   ]
  },
  {
   "cell_type": "markdown",
   "metadata": {},
   "source": [
    "## Which API should I use?"
   ]
  },
  {
   "cell_type": "markdown",
   "metadata": {},
   "source": [
    "For saving, if you are working with a keras model, it is almost always recommended to use the Keras's model.save() API. If what you are saving is not a Keras model, then the lower level API is your only choice.\n",
    "\n",
    "For loading, which API you use depends on what you want to get from the loading API. If you cannot (or do not want to) get a Keras model, then use tf.saved_model.load(). Otherwise, use tf.keras.models.load_model(). Note that you can get a Keras model back only if you saved a Keras model.\n",
    "\n",
    "It is possible to mix and match the APIs. You can save a Keras model with model.save, and load a non-Keras model with the low-level API, tf.saved_model.load."
   ]
  },
  {
   "cell_type": "code",
   "execution_count": 13,
   "metadata": {},
   "outputs": [
    {
     "name": "stdout",
     "output_type": "stream",
     "text": [
      "INFO:tensorflow:Assets written to: /tmp/keras_save\\assets\n"
     ]
    },
    {
     "name": "stderr",
     "output_type": "stream",
     "text": [
      "INFO:tensorflow:Assets written to: /tmp/keras_save\\assets\n"
     ]
    },
    {
     "name": "stdout",
     "output_type": "stream",
     "text": [
      "INFO:tensorflow:Using MirroredStrategy with devices ('/job:localhost/replica:0/task:0/device:GPU:0',)\n"
     ]
    },
    {
     "name": "stderr",
     "output_type": "stream",
     "text": [
      "INFO:tensorflow:Using MirroredStrategy with devices ('/job:localhost/replica:0/task:0/device:GPU:0',)\n"
     ]
    }
   ],
   "source": [
    "model = get_model()\n",
    "\n",
    "# Saving the model using Keras's save() API\n",
    "model.save(keras_model_path) \n",
    "\n",
    "another_strategy = tf.distribute.MirroredStrategy()\n",
    "# Loading the model using lower level API\n",
    "with another_strategy.scope():\n",
    "  loaded = tf.saved_model.load(keras_model_path)"
   ]
  },
  {
   "cell_type": "markdown",
   "metadata": {},
   "source": [
    "### Caveats"
   ]
  },
  {
   "cell_type": "markdown",
   "metadata": {},
   "source": [
    "A special case is when you have a Keras model that does not have well-defined inputs. For example, a Sequential model can be created without any input shapes (Sequential([Dense(3), ...]). Subclassed models also do not have well-defined inputs after initialization. In this case, you should stick with the lower level APIs on both saving and loading, otherwise you will get an error.\n",
    "\n",
    "To check if your model has well-defined inputs, just check if model.inputs is None. If it is not None, you are all good. Input shapes are automatically defined when the model is used in .fit, .evaluate, .predict, or when calling the model (model(inputs)).\n",
    "\n",
    "Here is an example:"
   ]
  },
  {
   "cell_type": "code",
   "execution_count": 14,
   "metadata": {},
   "outputs": [
    {
     "name": "stdout",
     "output_type": "stream",
     "text": [
      "WARNING:tensorflow:Skipping full serialization of Keras model <__main__.SubclassedModel object at 0x00000259DA6B5288>, because its inputs are not defined.\n"
     ]
    },
    {
     "name": "stderr",
     "output_type": "stream",
     "text": [
      "WARNING:tensorflow:Skipping full serialization of Keras model <__main__.SubclassedModel object at 0x00000259DA6B5288>, because its inputs are not defined.\n"
     ]
    },
    {
     "name": "stdout",
     "output_type": "stream",
     "text": [
      "WARNING:tensorflow:Skipping full serialization of Keras layer <tensorflow.python.keras.layers.core.Dense object at 0x00000259DA6B53C8>, because it is not built.\n"
     ]
    },
    {
     "name": "stderr",
     "output_type": "stream",
     "text": [
      "WARNING:tensorflow:Skipping full serialization of Keras layer <tensorflow.python.keras.layers.core.Dense object at 0x00000259DA6B53C8>, because it is not built.\n"
     ]
    },
    {
     "name": "stdout",
     "output_type": "stream",
     "text": [
      "INFO:tensorflow:Assets written to: /tmp/tf_save\\assets\n"
     ]
    },
    {
     "name": "stderr",
     "output_type": "stream",
     "text": [
      "INFO:tensorflow:Assets written to: /tmp/tf_save\\assets\n"
     ]
    }
   ],
   "source": [
    "class SubclassedModel(tf.keras.Model):\n",
    "\n",
    "  output_name = 'output_layer'\n",
    "\n",
    "  def __init__(self):\n",
    "    super(SubclassedModel, self).__init__()\n",
    "    self._dense_layer = tf.keras.layers.Dense(\n",
    "        5, dtype=tf.dtypes.float32, name=self.output_name)\n",
    "\n",
    "  def call(self, inputs):\n",
    "    return self._dense_layer(inputs)\n",
    "\n",
    "my_model = SubclassedModel()\n",
    "# my_model.save(keras_model_path)  # ERROR! \n",
    "tf.saved_model.save(my_model, saved_model_path)"
   ]
  },
  {
   "cell_type": "code",
   "execution_count": null,
   "metadata": {},
   "outputs": [],
   "source": []
  }
 ],
 "metadata": {
  "kernelspec": {
   "display_name": "Python 3",
   "language": "python",
   "name": "python3"
  },
  "language_info": {
   "codemirror_mode": {
    "name": "ipython",
    "version": 3
   },
   "file_extension": ".py",
   "mimetype": "text/x-python",
   "name": "python",
   "nbconvert_exporter": "python",
   "pygments_lexer": "ipython3",
   "version": "3.7.6"
  }
 },
 "nbformat": 4,
 "nbformat_minor": 4
}
